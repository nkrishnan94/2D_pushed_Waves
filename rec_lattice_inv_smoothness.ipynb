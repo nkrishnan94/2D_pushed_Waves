{
 "cells": [
  {
   "cell_type": "code",
   "execution_count": 530,
   "metadata": {},
   "outputs": [],
   "source": [
    "import pandas as pd\n",
    "import numpy as np\n",
    "import glob\n",
    "import os\n",
    "import seaborn as sns\n",
    "import matplotlib.pyplot as plt\n",
    "from scipy.optimize import curve_fit\n",
    "import scipy"
   ]
  },
  {
   "cell_type": "code",
   "execution_count": 531,
   "metadata": {},
   "outputs": [],
   "source": [
    "rough_files = glob.glob(\"rec_lattice_rough/sim_data/rough*.txt\")\n",
    "het_files = glob.glob(\"rec_lattice_rough/sim_data/het*.txt\")"
   ]
  },
  {
   "cell_type": "code",
   "execution_count": 532,
   "metadata": {},
   "outputs": [],
   "source": [
    "\n",
    "K_var = [50000, 100000, 500000,1000000]\n",
    "K_str = [\"K\"+str(K)+\"_\" for K in K_var]\n",
    "\n",
    "\n",
    "B_var = [0,3.5,6,10]\n",
    "B_str = [\"B\"+str(B)+\"_\" for B in B_var]"
   ]
  },
  {
   "cell_type": "code",
   "execution_count": 533,
   "metadata": {},
   "outputs": [
    {
     "name": "stderr",
     "output_type": "stream",
     "text": [
      "/Users/nikhilkrishnan/anaconda3/lib/python3.7/site-packages/ipykernel_launcher.py:23: UserWarning: loadtxt: Empty input file: \"rec_lattice_rough/sim_data/het_K50000_M0.25_B0_G0.01_2020-07-23-13-52-53.txt\"\n"
     ]
    }
   ],
   "source": [
    "rough_data=np.zeros((4,4,26,1000,2,11)) \n",
    "het_data=np.zeros((4,4,26,1000,2)) \n",
    "for Kn, Ki,K in zip(range(len(K_var)),K_var,K_str):\n",
    "    for Bn,Bi,B in zip(range(len(B_var)),B_var,B_str):\n",
    "\n",
    "        rough_sub_files=[]\n",
    "        het_sub_files = []\n",
    "\n",
    "        for fr,fh in zip(rough_files,het_files):\n",
    "            if K in fr and B in fr:\n",
    "                rough_sub_files.append(fr)\n",
    "            if K in fh and B in fh:\n",
    "                het_sub_files.append(fh)\n",
    "                \n",
    "         \n",
    "        for i,fr,fh in zip(range(len(rough_sub_files)),rough_sub_files,het_sub_files):\n",
    "            try:\n",
    "                arr = np.loadtxt(fr,delimiter =  ', ',skiprows=1)\n",
    "                rough_data[Bn,Kn,i,:,0]= np.concatenate((np.repeat(np.array([[0,10,20,30,40,50]]),1000,axis=0),\n",
    "                                             np.array([arr[:,-1]-8,arr[:,-1]-6,arr[:,-1]-4,arr[:,-1]-2,arr[:,-1]]).T),axis=1)\n",
    "                rough_data[Bn,Kn, i,:,1] = arr[:,1:-1]\n",
    "                \n",
    "                het_data[Bn,Kn,i]= np.loadtxt(fh,delimiter =  ', ')\n",
    "                \n",
    "            except:\n",
    "                None\n",
    "            \n"
   ]
  },
  {
   "cell_type": "code",
   "execution_count": 548,
   "metadata": {},
   "outputs": [
    {
     "data": {
      "image/png": "[encoded data removed]",
      "text/plain": [
       "<Figure size 432x288 with 1 Axes>"
      ]
     },
     "metadata": {
      "needs_background": "light"
     },
     "output_type": "display_data"
    }
   ],
   "source": [
    "fig,ax=plt.subplots()\n",
    "\n",
    "ax.plot(np.linspace(0,9990,1000),np.log(np.mean(rough_data[3,:-1,0,:,1,:6],axis=0)),color='b')\n",
    "ax.plot(np.linspace(0,9990,1000),np.log(np.mean(rough_data[2,:-1,0,:,1,:6],axis=0)),color='r')\n",
    "ax.plot(np.linspace(0,9990,1000),np.log(np.mean(rough_data[1,:-1,0,:,1,:6],axis=0)),color='g')\n",
    "ax.plot(np.linspace(0,9990,1000),np.log(np.mean(rough_data[0,:-1,0,:,1,:6],axis=0)),color='grey')\n",
    "ax.plot(np.linspace(0,9990,1000),np.log(np.mean(rough_data[3,-1,0,:,1,:6],axis=1)),color='b',label='b=10')\n",
    "ax.plot(np.linspace(0,9990,1000),np.log(np.mean(rough_data[2,-1,0,:,1,:6],axis=1)),color='r',label='b=6')\n",
    "ax.plot(np.linspace(0,9990,1000),np.log(np.mean(rough_data[1,-1,0,:,1,:6],axis=1)),color='g',label='b=3.5')\n",
    "ax.plot(np.linspace(0,9990,1000),np.log(np.mean(rough_data[0,-1,0,:,1,:6],axis=1)),color='grey',label='b=0')\n",
    "\n",
    "ax.set_xlabel('Generations',fontsize=16)\n",
    "plt.legend()\n",
    "ax.set_ylabel('logR',fontsize=12)\n",
    "\n",
    "\n",
    "plt.tick_params(axis='both', which='major', labelsize=14)\n",
    "for axis in ['bottom','left']:\n",
    "    ax.spines[axis].set_linewidth(3)\n",
    "ax.spines['right'].set_visible(False)\n",
    "ax.spines['top'].set_visible(False)"
   ]
  },
  {
   "cell_type": "code",
   "execution_count": 575,
   "metadata": {},
   "outputs": [],
   "source": [
    "rough_files = glob.glob(\"rec_lattice_rough/sim_data_full/rough*.txt\")\n",
    "bound_files = glob.glob(\"rec_lattice_rough/sim_data_full/pos*.txt\")\n",
    "het_files = glob.glob(\"rec_lattice_rough/sim_data_full/het*.txt\")\n",
    "pop_files = glob.glob(\"rec_lattice_rough/sim_data_full/pop*.txt\")"
   ]
  },
  {
   "cell_type": "code",
   "execution_count": 576,
   "metadata": {},
   "outputs": [],
   "source": [
    "\n",
    "K_var = [50000, 100000, 500000,1000000]\n",
    "K_str = [\"K\"+str(K)+\"_\" for K in K_var]\n",
    "\n",
    "\n",
    "B_var = [0,1,2,3,4,5,6,10]\n",
    "B_str = [\"B\"+str(B)+\"_\" for B in B_var]"
   ]
  },
  {
   "cell_type": "code",
   "execution_count": 577,
   "metadata": {},
   "outputs": [
    {
     "name": "stderr",
     "output_type": "stream",
     "text": [
      "/Users/nikhilkrishnan/anaconda3/lib/python3.7/site-packages/ipykernel_launcher.py:23: UserWarning: loadtxt: Empty input file: \"rec_lattice_rough/sim_data_full/rough_K50000_M0.25_B0_G0.01_2020-07-27-19-47-52.txt\"\n",
      "/Users/nikhilkrishnan/anaconda3/lib/python3.7/site-packages/ipykernel_launcher.py:29: UserWarning: loadtxt: Empty input file: \"rec_lattice_rough/sim_data_full/het_K50000_M0.25_B0_G0.01_2020-07-27-19-47-52.txt\"\n"
     ]
    }
   ],
   "source": [
    "rough_data=np.zeros((8,4,101,200,8)) \n",
    "bounds_data=np.zeros((8,4,101,200,8)) \n",
    "het_data=np.zeros((8,4,101,200,2)) \n",
    "for Kn, Ki,K in zip(range(len(K_var)),K_var,K_str):\n",
    "    for Bn,Bi,B in zip(range(len(B_var)),B_var,B_str):\n",
    "\n",
    "        rough_sub_files=[]\n",
    "        pos_sub_files = []\n",
    "        het_sub_files = []\n",
    "\n",
    "        for fr,fp,fh in zip(rough_files,bound_files,het_files):\n",
    "            if K in fr and B in fr:\n",
    "                rough_sub_files.append(fr)\n",
    "            if K in fp and B in fp:\n",
    "                pos_sub_files.append(fp)\n",
    "            if K in fh and B in fh:\n",
    "                het_sub_files.append(fh)\n",
    "                \n",
    "                \n",
    "         \n",
    "        for i,fr,fp,fh in zip(range(len(rough_sub_files)),rough_sub_files,bound_files,het_sub_files):\n",
    "            try:\n",
    "                rough_data[Bn,Kn,i] = np.loadtxt(fr,delimiter =  ', ')\n",
    "                bounds_data[Bn,Kn,i] = np.loadtxt(fp,delimiter =  ', ')\n",
    "\n",
    "                \n",
    "\n",
    "                \n",
    "                het_data[Bn,Kn,i]= np.loadtxt(fh,delimiter =  ', ')\n",
    "                \n",
    "            except:\n",
    "                None\n",
    "            \n"
   ]
  },
  {
   "cell_type": "code",
   "execution_count": 643,
   "metadata": {},
   "outputs": [
    {
     "data": {
      "text/plain": [
       "array([[ 2.,  2.,  2., ...,  2.,  2.,  2.],\n",
       "       [11., 11., 10., ..., 11., 10., 11.],\n",
       "       [14., 16., 16., ..., 14., 16., 17.],\n",
       "       ...,\n",
       "       [ 0.,  0.,  0., ...,  0.,  0.,  0.],\n",
       "       [ 0.,  0.,  0., ...,  0.,  0.,  0.],\n",
       "       [ 0.,  0.,  0., ...,  0.,  0.,  0.]])"
      ]
     },
     "execution_count": 643,
     "metadata": {},
     "output_type": "execute_result"
    }
   ],
   "source": [
    "bounds_data[0,0,0,:,1:]"
   ]
  },
  {
   "cell_type": "code",
   "execution_count": 644,
   "metadata": {},
   "outputs": [
    {
     "data": {
      "text/plain": [
       "array([[ 2.,  2.,  2., ...,  2.,  2.,  2.],\n",
       "       [11., 11., 10., ..., 11., 10., 11.],\n",
       "       [14., 16., 16., ..., 14., 16., 17.],\n",
       "       ...,\n",
       "       [ 0.,  0.,  0., ...,  0.,  0.,  0.],\n",
       "       [ 0.,  0.,  0., ...,  0.,  0.,  0.],\n",
       "       [ 0.,  0.,  0., ...,  0.,  0.,  0.]])"
      ]
     },
     "execution_count": 644,
     "metadata": {},
     "output_type": "execute_result"
    }
   ],
   "source": [
    "bounds_data[2,2,0,:,1:]"
   ]
  },
  {
   "cell_type": "code",
   "execution_count": 621,
   "metadata": {},
   "outputs": [],
   "source": [
    "end_times =np.zeros((8,4,101))\n",
    "for Kn, Ki,K in zip(range(len(K_var)),K_var,K_str):\n",
    "    for Bn,Bi,B in zip(range(len(B_var)),B_var,B_str):\n",
    "        \n",
    "        for i in range(101):\n",
    "            end_times[Bn,Kn,i] = np.linspace(0,1990,200)[np.argwhere(np.all(bounds_data[Bn,Kn,i,:,1:]==0,axis=1))[0][0]]\n",
    "        "
   ]
  },
  {
   "cell_type": "code",
   "execution_count": 646,
   "metadata": {},
   "outputs": [
    {
     "data": {
      "text/plain": [
       "63"
      ]
     },
     "execution_count": 646,
     "metadata": {},
     "output_type": "execute_result"
    }
   ],
   "source": [
    "np.argwhere(np.all(bounds_data[Bn,Kn,3,:,1:]==0,axis=1))[0][0]"
   ]
  },
  {
   "cell_type": "code",
   "execution_count": 648,
   "metadata": {},
   "outputs": [
    {
     "data": {
      "text/plain": [
       "array([[ 83],\n",
       "       [ 84],\n",
       "       [ 88],\n",
       "       [ 89],\n",
       "       [ 90],\n",
       "       [ 94],\n",
       "       [ 95],\n",
       "       [ 96],\n",
       "       [ 97],\n",
       "       [ 98],\n",
       "       [ 99],\n",
       "       [100],\n",
       "       [101],\n",
       "       [102],\n",
       "       [103],\n",
       "       [104],\n",
       "       [105],\n",
       "       [106],\n",
       "       [107],\n",
       "       [108],\n",
       "       [109],\n",
       "       [110],\n",
       "       [111],\n",
       "       [112],\n",
       "       [113],\n",
       "       [114],\n",
       "       [115],\n",
       "       [116],\n",
       "       [117],\n",
       "       [118],\n",
       "       [119],\n",
       "       [120],\n",
       "       [121],\n",
       "       [122],\n",
       "       [123],\n",
       "       [124],\n",
       "       [125],\n",
       "       [126],\n",
       "       [127],\n",
       "       [128],\n",
       "       [129],\n",
       "       [130],\n",
       "       [131],\n",
       "       [132],\n",
       "       [133],\n",
       "       [134],\n",
       "       [135],\n",
       "       [136],\n",
       "       [137],\n",
       "       [138],\n",
       "       [139],\n",
       "       [140],\n",
       "       [141],\n",
       "       [142],\n",
       "       [143],\n",
       "       [144],\n",
       "       [145],\n",
       "       [146],\n",
       "       [147],\n",
       "       [148],\n",
       "       [149],\n",
       "       [150],\n",
       "       [151],\n",
       "       [152],\n",
       "       [153],\n",
       "       [154],\n",
       "       [155],\n",
       "       [156],\n",
       "       [157],\n",
       "       [158],\n",
       "       [159],\n",
       "       [160],\n",
       "       [161],\n",
       "       [162],\n",
       "       [163],\n",
       "       [164],\n",
       "       [165],\n",
       "       [166],\n",
       "       [167],\n",
       "       [168],\n",
       "       [169],\n",
       "       [170],\n",
       "       [171],\n",
       "       [172],\n",
       "       [173],\n",
       "       [174],\n",
       "       [175],\n",
       "       [176],\n",
       "       [177],\n",
       "       [178],\n",
       "       [179],\n",
       "       [180],\n",
       "       [181],\n",
       "       [182],\n",
       "       [183],\n",
       "       [184],\n",
       "       [185],\n",
       "       [186],\n",
       "       [187],\n",
       "       [188],\n",
       "       [189],\n",
       "       [190],\n",
       "       [191],\n",
       "       [192],\n",
       "       [193],\n",
       "       [194],\n",
       "       [195],\n",
       "       [196],\n",
       "       [197],\n",
       "       [198],\n",
       "       [199]])"
      ]
     },
     "execution_count": 648,
     "metadata": {},
     "output_type": "execute_result"
    }
   ],
   "source": [
    "np.argwhere(np.all(bounds_data[1,1,0,:,1:]==0,axis=1))"
   ]
  },
  {
   "cell_type": "code",
   "execution_count": 482,
   "metadata": {},
   "outputs": [
    {
     "data": {
      "text/plain": [
       "array([0., 2., 2., 2., 2., 2., 2., 2.])"
      ]
     },
     "execution_count": 482,
     "metadata": {},
     "output_type": "execute_result"
    }
   ],
   "source": [
    "np.loadtxt(fp,delimiter =  ', ')[0]"
   ]
  },
  {
   "cell_type": "code",
   "execution_count": 683,
   "metadata": {},
   "outputs": [],
   "source": [
    "f='rec_lattice_bounds/prof_K10000_M0.25_B10_G0.01_2020-07-28-13-38-38.txt'"
   ]
  },
  {
   "cell_type": "code",
   "execution_count": null,
   "metadata": {},
   "outputs": [],
   "source": []
  },
  {
   "cell_type": "code",
   "execution_count": 684,
   "metadata": {},
   "outputs": [],
   "source": [
    "arrFreq = np.sum(profFileToArray(f,120,40),axis=2)\n",
    "arrFreq_ = np.copy(arrFreq)\n",
    "width = arrFreq_.shape[1]\n",
    "max_deme = np.zeros(width)\n",
    "front =np.argwhere(arrFreq_>0)\n",
    "for i in range(width):\n",
    "    col = front[:,1]==i\n",
    "    max_deme[i] = np.max(front[col,:][:,0])"
   ]
  },
  {
   "cell_type": "code",
   "execution_count": 686,
   "metadata": {},
   "outputs": [
    {
     "data": {
      "text/plain": [
       "48.652499999999996"
      ]
     },
     "execution_count": 686,
     "metadata": {},
     "output_type": "execute_result"
    }
   ],
   "source": [
    "39*np.std(max_deme)**2"
   ]
  },
  {
   "cell_type": "code",
   "execution_count": 570,
   "metadata": {},
   "outputs": [
    {
     "name": "stderr",
     "output_type": "stream",
     "text": [
      "/Users/nikhilkrishnan/anaconda3/lib/python3.7/site-packages/ipykernel_launcher.py:13: RuntimeWarning: invalid value encountered in true_divide\n",
      "  del sys.path[0]\n"
     ]
    },
    {
     "data": {
      "image/png": "[encoded data removed]",
      "text/plain": [
       "<Figure size 432x288 with 2 Axes>"
      ]
     },
     "metadata": {
      "needs_background": "light"
     },
     "output_type": "display_data"
    }
   ],
   "source": [
    "graphFreq(arrToFreq(profFileToArray(f,120,80)))"
   ]
  },
  {
   "cell_type": "code",
   "execution_count": 557,
   "metadata": {},
   "outputs": [
    {
     "data": {
      "text/plain": [
       "<matplotlib.image.AxesImage at 0x1a2d0e6780>"
      ]
     },
     "execution_count": 557,
     "metadata": {},
     "output_type": "execute_result"
    },
    {
     "data": {
      "image/png": "[encoded data removed]",
      "text/plain": [
       "<Figure size 432x288 with 1 Axes>"
      ]
     },
     "metadata": {
      "needs_background": "light"
     },
     "output_type": "display_data"
    }
   ],
   "source": [
    "plt.imshow(arr[:,3].reshape(120,80))"
   ]
  },
  {
   "cell_type": "code",
   "execution_count": 555,
   "metadata": {},
   "outputs": [
    {
     "data": {
      "text/plain": [
       "array([[643717., 906275., 984291., ...,   6496.,  47468., 228137.],\n",
       "       [454663., 616611., 665667., ...,   7248.,  44096., 181575.],\n",
       "       [378818., 505650., 543299., ...,   6864.,  41424., 160969.],\n",
       "       ...,\n",
       "       [     0.,      0.,      0., ...,      0.,      0.,      0.],\n",
       "       [     0.,      0.,      0., ...,      0.,      0.,      0.],\n",
       "       [     0.,      0.,      0., ...,      0.,      0.,      0.]])"
      ]
     },
     "execution_count": 555,
     "metadata": {},
     "output_type": "execute_result"
    }
   ],
   "source": [
    "arr[:,2].reshape(120,80)"
   ]
  },
  {
   "cell_type": "code",
   "execution_count": 525,
   "metadata": {},
   "outputs": [
    {
     "ename": "NameError",
     "evalue": "name 'rough' is not defined",
     "output_type": "error",
     "traceback": [
      "\u001b[0;31m---------------------------------------------------------------------------\u001b[0m",
      "\u001b[0;31mNameError\u001b[0m                                 Traceback (most recent call last)",
      "\u001b[0;32m<ipython-input-525-645338e12466>\u001b[0m in \u001b[0;36m<module>\u001b[0;34m()\u001b[0m\n\u001b[0;32m----> 1\u001b[0;31m \u001b[0mrough\u001b[0m\u001b[0;34m\u001b[0m\u001b[0;34m\u001b[0m\u001b[0m\n\u001b[0m",
      "\u001b[0;31mNameError\u001b[0m: name 'rough' is not defined"
     ]
    }
   ],
   "source": [
    "plt.imshow(arr[:,2].reshape((80,40)))\n",
    "plt.imshow(arr[:,].reshape((80,40)))"
   ]
  },
  {
   "cell_type": "code",
   "execution_count": 562,
   "metadata": {},
   "outputs": [],
   "source": [
    "def profFileToArray(file,ndemeh,ndemew):\n",
    "    arr = np.loadtxt(file,delimiter =  ', ')\n",
    "    arr_=np.copy(arr)\n",
    "    if len(file)!=0:\n",
    "        \n",
    "        return arr_[:,2:].reshape((ndemeh,ndemew,2))\n",
    "    \n",
    "    else:\n",
    "        return False\n",
    "    \n",
    "def arrToFreq(arr):\n",
    "    arr_=np.copy(arr)\n",
    "    return arr_[:,:,0]/(arr_[:,:,1]+arr_[:,:,0])\n",
    "\n",
    "def getLastRow(arrFreq):\n",
    "    arrFreq_ = np.copy(arrFreq)\n",
    "    max_all = np.sum(np.all(~np.isnan(arrFreq_),axis=1))-1\n",
    "    f_x = arrFreq_[max_all,:]\n",
    "    return f_x\n",
    "\n",
    "def getFrontLength(arrFreq):\n",
    "    arrFreq_ = np.copy(arrFreq)\n",
    "    width = arrFreq_.shape[1]\n",
    "    max_deme = np.zeros(width)\n",
    "    front =np.argwhere(~np.isnan(arrFreq_))\n",
    "    for i in range(width):\n",
    "        col = front[:,1]==i\n",
    "        max_deme[i] = np.max(front[col,:][:,0])\n",
    "    return(width+np.sum(np.abs(np.diff(max_deme))))\n",
    "    \n",
    "def getFront(arrFreq):\n",
    "    arrFreq_ = np.copy(arrFreq)\n",
    "    width = arrFreq_.shape[1]\n",
    "    max_deme = np.zeros(width)\n",
    "    front = np.argwhere(~np.isnan(arrFreq_))\n",
    "    for i in range(width):\n",
    "        col = front[:,1]==i\n",
    "        max_col = np.max(front[col,:][:,0])\n",
    "        max_deme[i] = arrFreq_[max_col,i]\n",
    "    return max_deme\n",
    "\n",
    "def getSectorLengths(arrFreq):\n",
    "    arrFreq_ = np.copy(arrFreq)\n",
    "    width = arrFreq_.shape[1]\n",
    "    max_deme = np.zeros(width)\n",
    "    max_col = np.zeros(width)\n",
    "    sec_size = np.zeros(width)\n",
    "    front = np.argwhere(~np.isnan(arrFreq_))\n",
    "    for i in range(width):\n",
    "        col = front[:,1]==i\n",
    "        max_col[i] = np.max(front[col,:][:,0])\n",
    "        max_deme[i] = arrFreq_[int(max_col[i]),i]\n",
    "        sec_size[i] = np.argmax(((arrFreq_[:int(max_col[i]),i] == max_deme[i])*1==0)[::-1])+1\n",
    "    return max(sec_size)\n",
    "    \n",
    "def sectorCountMed(arr_row):\n",
    "    arr_row_ = np.copy(arr_row)\n",
    "    diffs = np.zeros(50)\n",
    "    diff_ = np.abs(np.diff(arr_row_))\n",
    "    for i,l in enumerate(np.linspace(0,1,50)):\n",
    "\n",
    "        diffs[i] = np.sum(diff_>l)\n",
    "    return np.median(diffs)\n",
    "\n",
    "def sectorCountMean(arr_row):\n",
    "    arr_row_ = np.copy(arr_row)\n",
    "    diffs = np.zeros(50)\n",
    "    diff_ = np.abs(np.diff(arr_row_))\n",
    "    for i,l in enumerate(np.linspace(0,1,50)):\n",
    "\n",
    "        diffs[i] = np.sum(diff_>l)\n",
    "    return np.mean(diffs)\n",
    "\n",
    "\n",
    "def signalFilter(arrNum,thresh):\n",
    "    arrNum= np.copy(arr_row)\n",
    "    \n",
    "    return \n",
    "def rowTrim(arr_row,split_thresh):\n",
    "    arr_row_=np.copy(arr_row)\n",
    "    diff1 = np.diff(arr_row_)\n",
    "    if len(np.argwhere(diff1!=0).flatten())!=0:\n",
    "        size= np.concatenate((1+np.argwhere(diff1!=0)[0],\n",
    "                    np.diff(np.argwhere(diff1!=0).flatten()),\n",
    "                    len(diff1)-np.argwhere(diff1!=0)[-1]) )\n",
    "\n",
    "\n",
    "        inds = np.cumsum(size)-1\n",
    "        split_inds = np.argwhere(size<split_thresh).flatten()\n",
    "        cnt = 0 \n",
    "        size_d = 0\n",
    "        for i,ind in enumerate(inds[split_inds]):\n",
    "\n",
    "\n",
    "            ind+=size_d\n",
    "\n",
    "            curr_size = size[split_inds][cnt]\n",
    "\n",
    "            if ind-curr_size>0:\n",
    "                arr_row_ = np.concatenate((arr_row_[:ind-curr_size],arr_row_[ind+1:]))\n",
    "            else: \n",
    "                arr_row_= arr_row_[ind+1:]\n",
    "\n",
    "            size_d-=curr_size\n",
    "            cnt+=1\n",
    "    return arr_row_\n",
    "    \n",
    "\n",
    "def RowBinary(f_x, thresh):\n",
    "    f_x_=np.copy(f_x)\n",
    "    f_x_[f_x>thresh]=1\n",
    "    f_x_[f_x_<(1-thresh)]=0\n",
    "    f_x_[((f_x_ != 0) & (f_x_ != 1))]=.5\n",
    "    return f_x_\n",
    "\n",
    "#def anyRowBinary(arrFreq,row_ind, thresh):\n",
    "\n",
    "#    f_x = arrFreq[rowind,:]\n",
    "#    f_x[f_x>thresh]=1\n",
    "#    f_x[f_x<(1-thresh)]=0\n",
    "#    f_x[((f_x != 0) & (f_x != 1))]=.5\n",
    "#    return f_x\n",
    "\n",
    "\n",
    "#def sectorCount(arr_row):\n",
    "#    arr_row_=np.copy(arr_row)\n",
    "#    return np.sum(np.diff(arr_row_)!=0)+1\n",
    "\n",
    "def sectorCount(arr_row):\n",
    "    arr_row_=np.copy(arr_row)\n",
    "    inds = np.argwhere(np.diff(arr_row_)!=0).flatten()\n",
    "\n",
    "    if len(inds)>0:\n",
    "        counts = np.bincount((arr_row_[inds]*2).astype(int),minlength=3)\n",
    "    else:\n",
    "        counts = np.array([1,0,0])\n",
    "    return counts\n",
    "\n",
    "\n",
    "def sectorProp(arr_row):\n",
    "    arr_row_=np.copy(arr_row)\n",
    "    counts = np.bincount((arr_row_*2).astype(int),minlength=2)\n",
    "    return counts/np.sum(counts)\n",
    "    \n",
    "def demePropMix(arr_row):\n",
    "    arr_row_=np.copy(arr_row)\n",
    "    return np.sum((arr_row_ != 0) & (arr_row!=1))/len(arr_row_)\n",
    "\n",
    "    \n",
    "def corrFunc(arr_row):\n",
    "    arr_row_=np.copy(arr_row)\n",
    "    width =len(arr_row_)\n",
    "    c_d =np.zeros(int(width/2))\n",
    "    for i in range(int(width/2)):\n",
    "        prod = 0\n",
    "        for j in range(width):\n",
    "            #print(f_x[i]*f_x[(i+1)%40])\n",
    "            prod +=(arr_row_[j]*arr_row_[(j+i)%width])\n",
    "        c_d[i] = prod/width\n",
    "        \n",
    "    return c_d\n",
    "\n",
    "\n",
    "def corrSpikeCount(arr_row):\n",
    "    arr_row_=np.copy(arr_row)\n",
    "    return np.sum(np.diff(np.diff(fft(corrFunc(arr_row_))))<0) +1\n",
    "\n",
    "def corrSpikes(arr_row):\n",
    "    arr_row_=np.copy(arr_row)\n",
    "    co = np.diff(fft(corrFunc(arr_row_)))\n",
    "    sums=0\n",
    "    for i in range(len(co)-1):\n",
    "        if co[i]*co[i+1]<0 and (co[i]>0):\n",
    "            sums +=1\n",
    "        \n",
    "    return sums  \n",
    "    "
   ]
  },
  {
   "cell_type": "code",
   "execution_count": 558,
   "metadata": {},
   "outputs": [],
   "source": [
    "def graphFreq(freqArr):\n",
    "    fig,ax=plt.subplots()\n",
    "    \n",
    "    freqArr_=np.copy(freqArr)\n",
    "    my_cmap = cm.get_cmap('viridis')\n",
    "    my_cmap.set_bad('grey')\n",
    "    #normalize = cm.colors.LogNorm(vmin=0, vmax=np.max(np.sum(prof_arr,axis=2)))\n",
    "    #smap = cm.ScalarMappable(norm=normalize, cmap=my_cmap,no)\n",
    "    #smap = cm.get_cmap('Purples',norm=normalize)\n",
    "    \n",
    "\n",
    "\n",
    "    im = ax.imshow(freqArr_.T,cmap=my_cmap\n",
    "                   #,norm=normalize\n",
    "                   ,vmin=0)\n",
    "    ax.set_xticks([])\n",
    "    ax.set_yticks([])\n",
    "    divider = make_axes_locatable(ax)\n",
    "    cax = divider.append_axes(\"bottom\", size=\"5%\", pad=0.05)\n",
    "    #cbar_ticks= [1,10,100,1000,10000]\n",
    "    cbar = fig.colorbar(im\n",
    "                        #t,icks=cbar_ticks\n",
    "                        ,orientation='horizontal',cax=cax)\n",
    "    #cbar.ax.set_xticklabels(cbar_ticks,fontsize=12) \n",
    "    cbar.ax.tick_params(labelsize=12) \n",
    "    cbar.ax.set_xlabel('$f_a$',fontsize=15)\n",
    "    plt.show()\n",
    "   "
   ]
  },
  {
   "cell_type": "code",
   "execution_count": 569,
   "metadata": {},
   "outputs": [],
   "source": [
    "import numpy as np\n",
    "import matplotlib.pyplot as plt\n",
    "import os\n",
    "import glob\n",
    "import scipy\n",
    "from mpl_toolkits.axes_grid1 import make_axes_locatable\n",
    "from scipy.optimize import curve_fit\n",
    "import pandas as pd\n",
    "import seaborn as sns\n",
    "import matplotlib.cm as cm\n",
    "from scipy import fft, ifft"
   ]
  },
  {
   "cell_type": "code",
   "execution_count": null,
   "metadata": {},
   "outputs": [],
   "source": []
  }
 ],
 "metadata": {
  "kernelspec": {
   "display_name": "Python 3",
   "language": "python",
   "name": "python3"
  },
  "language_info": {
   "codemirror_mode": {
    "name": "ipython",
    "version": 3
   },
   "file_extension": ".py",
   "mimetype": "text/x-python",
   "name": "python",
   "nbconvert_exporter": "python",
   "pygments_lexer": "ipython3",
   "version": "3.7.2"
  }
 },
 "nbformat": 4,
 "nbformat_minor": 2
}
