{
 "cells": [
  {
   "cell_type": "code",
   "execution_count": 46,
   "metadata": {},
   "outputs": [],
   "source": [
    "import numpy as np\n",
    "import matplotlib.pyplot as plt\n",
    "import os\n",
    "import glob\n",
    "import scipy\n",
    "from scipy.optimize import curve_fit\n",
    "import pandas as pd"
   ]
  },
  {
   "cell_type": "code",
   "execution_count": 47,
   "metadata": {},
   "outputs": [
    {
     "data": {
      "text/plain": [
       "array(['rec_lattice_nobounds/prof_K5000_M0.25_B0_G0.01_2020-07-13-14-26-06.txt',\n",
       "       'rec_lattice_nobounds/prof_K5000_M0.25_B0_G0.01_2020-07-13-14-32-41.txt',\n",
       "       'rec_lattice_nobounds/prof_K5000_M0.25_B0_G0.01_2020-07-13-14-35-35.txt',\n",
       "       'rec_lattice_nobounds/prof_K5000_M0.25_B0_G0.01_2020-07-13-14-36-03.txt',\n",
       "       'rec_lattice_nobounds/prof_K5000_M0.25_B0_G0.01_2020-07-13-14-40-29.txt',\n",
       "       'rec_lattice_nobounds/prof_K5000_M0.25_B0_G0.01_2020-07-13-14-43-20.txt',\n",
       "       'rec_lattice_nobounds/prof_K5000_M0.25_B0_G0.01_2020-07-13-14-45-00.txt',\n",
       "       'rec_lattice_nobounds/prof_K5000_M0.25_B0_G0.01_2020-07-13-14-46-58.txt',\n",
       "       'rec_lattice_nobounds/prof_K5000_M0.25_B0_G0.01_2020-07-13-14-49-58.txt',\n",
       "       'rec_lattice_nobounds/prof_K5000_M0.25_B0_G0.01_2020-07-13-14-50-30.txt',\n",
       "       'rec_lattice_nobounds/prof_K5000_M0.25_B0_G0.01_2020-07-13-14-51-13.txt',\n",
       "       'rec_lattice_nobounds/prof_K5000_M0.25_B0_G0.01_2020-07-13-14-51-19.txt',\n",
       "       'rec_lattice_nobounds/prof_K5000_M0.25_B0_G0.01_2020-07-13-14-51-32.txt',\n",
       "       'rec_lattice_nobounds/prof_K5000_M0.25_B0_G0.01_2020-07-13-14-52-15.txt',\n",
       "       'rec_lattice_nobounds/prof_K5000_M0.25_B0_G0.01_2020-07-13-14-56-54.txt',\n",
       "       'rec_lattice_nobounds/prof_K5000_M0.25_B0_G0.01_2020-07-13-14-57-34.txt'],\n",
       "      dtype='<U70')"
      ]
     },
     "execution_count": 47,
     "metadata": {},
     "output_type": "execute_result"
    }
   ],
   "source": [
    "all_files = glob.glob(\"rec_lattice_nobounds/prof*.txt\")\n",
    "np.sort(all_files)"
   ]
  },
  {
   "cell_type": "code",
   "execution_count": 48,
   "metadata": {},
   "outputs": [],
   "source": [
    "f = np.sort(all_files)[-1]\n",
    "f = np.loadtxt(f,delimiter =  ', ')"
   ]
  },
  {
   "cell_type": "code",
   "execution_count": 49,
   "metadata": {},
   "outputs": [
    {
     "data": {
      "text/plain": [
       "<matplotlib.image.AxesImage at 0x1019451be0>"
      ]
     },
     "execution_count": 49,
     "metadata": {},
     "output_type": "execute_result"
    },
    {
     "data": {
      "image/png": "[encoded data removed]",
      "text/plain": [
       "<Figure size 432x288 with 1 Axes>"
      ]
     },
     "metadata": {
      "needs_background": "light"
     },
     "output_type": "display_data"
    }
   ],
   "source": [
    "arr = f[:,2].reshape(40,40)\n",
    "plt.imshow(arr)"
   ]
  },
  {
   "cell_type": "code",
   "execution_count": 29,
   "metadata": {},
   "outputs": [
    {
     "data": {
      "text/plain": [
       "<matplotlib.image.AxesImage at 0x1019032f28>"
      ]
     },
     "execution_count": 29,
     "metadata": {},
     "output_type": "execute_result"
    },
    {
     "data": {
      "image/png": "[encoded data removed]",
      "text/plain": [
       "<Figure size 432x288 with 1 Axes>"
      ]
     },
     "metadata": {
      "needs_background": "light"
     },
     "output_type": "display_data"
    }
   ],
   "source": [
    "f[:,3].reshape(40,40)\n",
    "plt.imshow(arr)"
   ]
  },
  {
   "cell_type": "code",
   "execution_count": null,
   "metadata": {},
   "outputs": [],
   "source": []
  }
 ],
 "metadata": {
  "kernelspec": {
   "display_name": "Python 3",
   "language": "python",
   "name": "python3"
  },
  "language_info": {
   "codemirror_mode": {
    "name": "ipython",
    "version": 3
   },
   "file_extension": ".py",
   "mimetype": "text/x-python",
   "name": "python",
   "nbconvert_exporter": "python",
   "pygments_lexer": "ipython3",
   "version": "3.7.2"
  }
 },
 "nbformat": 4,
 "nbformat_minor": 2
}
