{
 "cells": [
  {
   "cell_type": "code",
   "execution_count": 308,
   "metadata": {},
   "outputs": [],
   "source": [
    "import numpy as np\n",
    "import matplotlib.pyplot as plt\n",
    "import glob"
   ]
  },
  {
   "cell_type": "code",
   "execution_count": 309,
   "metadata": {},
   "outputs": [],
   "source": [
    "f = glob.glob('csd_scripts/neutral_sectors/prof*')"
   ]
  },
  {
   "cell_type": "code",
   "execution_count": 306,
   "metadata": {},
   "outputs": [
    {
     "ename": "IndexError",
     "evalue": "list index out of range",
     "output_type": "error",
     "traceback": [
      "\u001b[0;31m---------------------------------------------------------------------------\u001b[0m",
      "\u001b[0;31mIndexError\u001b[0m                                Traceback (most recent call last)",
      "\u001b[0;32m<ipython-input-306-1092d30e49a0>\u001b[0m in \u001b[0;36m<module>\u001b[0;34m\u001b[0m\n\u001b[0;32m----> 1\u001b[0;31m \u001b[0marr\u001b[0m\u001b[0;34m=\u001b[0m\u001b[0mnp\u001b[0m\u001b[0;34m.\u001b[0m\u001b[0mloadtxt\u001b[0m\u001b[0;34m(\u001b[0m\u001b[0mf\u001b[0m\u001b[0;34m[\u001b[0m\u001b[0;36m0\u001b[0m\u001b[0;34m]\u001b[0m\u001b[0;34m)\u001b[0m\u001b[0;34m\u001b[0m\u001b[0;34m\u001b[0m\u001b[0m\n\u001b[0m",
      "\u001b[0;31mIndexError\u001b[0m: list index out of range"
     ]
    }
   ],
   "source": [
    "arr=np.loadtxt(f[0])"
   ]
  },
  {
   "cell_type": "code",
   "execution_count": 307,
   "metadata": {},
   "outputs": [
    {
     "name": "stderr",
     "output_type": "stream",
     "text": [
      "<ipython-input-307-2720c3a40afc>:1: RuntimeWarning: invalid value encountered in true_divide\n",
      "  plt.imshow(arr[:,2:].reshape((680,680,2))[:,:,0]/(arr[:,2:].reshape((680,680,2))[:,:,0]+arr[:,2:].reshape((680,680,2))[:,:,1]))\n"
     ]
    },
    {
     "data": {
      "text/plain": [
       "<matplotlib.image.AxesImage at 0x7fb900e73ca0>"
      ]
     },
     "execution_count": 307,
     "metadata": {},
     "output_type": "execute_result"
    },
    {
     "data": {
      "image/png": "[encoded data removed]",
      "text/plain": [
       "<Figure size 432x288 with 1 Axes>"
      ]
     },
     "metadata": {
      "needs_background": "light"
     },
     "output_type": "display_data"
    }
   ],
   "source": [
    "plt.imshow(arr[:,2:].reshape((680,680,2))[:,:,0]/(arr[:,2:].reshape((680,680,2))[:,:,0]+arr[:,2:].reshape((680,680,2))[:,:,1]))"
   ]
  },
  {
   "cell_type": "code",
   "execution_count": 302,
   "metadata": {},
   "outputs": [],
   "source": [
    "fs = glob.glob('csd_scripts/neutral_sectors/sect*')"
   ]
  },
  {
   "cell_type": "code",
   "execution_count": 303,
   "metadata": {},
   "outputs": [
    {
     "data": {
      "text/plain": [
       "array([[  0.,   1.],\n",
       "       [ 20.,  42.],\n",
       "       [ 40.,  32.],\n",
       "       [ 60.,  25.],\n",
       "       [ 80.,  29.],\n",
       "       [100.,  20.],\n",
       "       [120.,  28.],\n",
       "       [140.,  19.],\n",
       "       [160.,  14.],\n",
       "       [180.,  12.],\n",
       "       [200.,  15.],\n",
       "       [220.,  17.],\n",
       "       [240.,   8.],\n",
       "       [260.,  12.],\n",
       "       [280.,  14.],\n",
       "       [300.,  15.],\n",
       "       [320.,  11.],\n",
       "       [340.,  12.],\n",
       "       [360.,  12.],\n",
       "       [380.,  13.],\n",
       "       [400.,  11.],\n",
       "       [420.,   9.],\n",
       "       [440.,  13.],\n",
       "       [460.,  11.],\n",
       "       [480.,  13.],\n",
       "       [500.,  10.],\n",
       "       [520.,  12.],\n",
       "       [540.,  12.],\n",
       "       [560.,   7.],\n",
       "       [580.,   6.]])"
      ]
     },
     "execution_count": 303,
     "metadata": {},
     "output_type": "execute_result"
    }
   ],
   "source": [
    "np.loadtxt(fs[0])"
   ]
  },
  {
   "cell_type": "code",
   "execution_count": null,
   "metadata": {},
   "outputs": [],
   "source": []
  }
 ],
 "metadata": {
  "kernelspec": {
   "display_name": "Python 3",
   "language": "python",
   "name": "python3"
  },
  "language_info": {
   "codemirror_mode": {
    "name": "ipython",
    "version": 3
   },
   "file_extension": ".py",
   "mimetype": "text/x-python",
   "name": "python",
   "nbconvert_exporter": "python",
   "pygments_lexer": "ipython3",
   "version": "3.8.3"
  }
 },
 "nbformat": 4,
 "nbformat_minor": 4
}
