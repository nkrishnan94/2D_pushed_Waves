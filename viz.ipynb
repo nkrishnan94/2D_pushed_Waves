{
 "cells": [
  {
   "cell_type": "code",
   "execution_count": 317,
   "metadata": {},
   "outputs": [],
   "source": [
    "import numpy as np\n",
    "import matplotlib.pyplot as plt\n",
    "import glob"
   ]
  },
  {
   "cell_type": "code",
   "execution_count": 347,
   "metadata": {},
   "outputs": [
    {
     "data": {
      "text/plain": [
       "['sim_data/prof_K200_M0.2_B1_G0.4_U75_I10_2021-03-29-18-32-02.txt']"
      ]
     },
     "execution_count": 347,
     "metadata": {},
     "output_type": "execute_result"
    }
   ],
   "source": [
    "f = glob.glob('sim_data/prof*')\n",
    "nDemes=700\n",
    "f"
   ]
  },
  {
   "cell_type": "code",
   "execution_count": 349,
   "metadata": {},
   "outputs": [],
   "source": [
    "farr=np.loadtxt(f[0])"
   ]
  },
  {
   "cell_type": "code",
   "execution_count": 352,
   "metadata": {},
   "outputs": [
    {
     "name": "stderr",
     "output_type": "stream",
     "text": [
      "<ipython-input-352-ad0a9eb92ec3>:1: RuntimeWarning: invalid value encountered in true_divide\n",
      "  plt.imshow(farr[:,2:].reshape((nDemes,nDemes,2))[:,:,0]/(farr[:,2:].reshape((nDemes,nDemes,2))[:,:,0]+farr[:,2:].reshape((nDemes,nDemes,2))[:,:,1]))\n"
     ]
    },
    {
     "data": {
      "text/plain": [
       "<matplotlib.image.AxesImage at 0x7fb949332a30>"
      ]
     },
     "execution_count": 352,
     "metadata": {},
     "output_type": "execute_result"
    },
    {
     "data": {
      "image/png": "[encoded data removed]",
      "text/plain": [
       "<Figure size 432x288 with 1 Axes>"
      ]
     },
     "metadata": {
      "needs_background": "light"
     },
     "output_type": "display_data"
    }
   ],
   "source": [
    "plt.imshow(farr[:,2:].reshape((nDemes,nDemes,2))[:,:,0]/(farr[:,2:].reshape((nDemes,nDemes,2))[:,:,0]+farr[:,2:].reshape((nDemes,nDemes,2))[:,:,1]))"
   ]
  },
  {
   "cell_type": "code",
   "execution_count": 339,
   "metadata": {},
   "outputs": [],
   "source": [
    "fs = glob.glob('csd_scripts/neutral_sectors/sect*')"
   ]
  },
  {
   "cell_type": "code",
   "execution_count": 303,
   "metadata": {},
   "outputs": [
    {
     "data": {
      "text/plain": [
       "array([[  0.,   1.],\n",
       "       [ 20.,  42.],\n",
       "       [ 40.,  32.],\n",
       "       [ 60.,  25.],\n",
       "       [ 80.,  29.],\n",
       "       [100.,  20.],\n",
       "       [120.,  28.],\n",
       "       [140.,  19.],\n",
       "       [160.,  14.],\n",
       "       [180.,  12.],\n",
       "       [200.,  15.],\n",
       "       [220.,  17.],\n",
       "       [240.,   8.],\n",
       "       [260.,  12.],\n",
       "       [280.,  14.],\n",
       "       [300.,  15.],\n",
       "       [320.,  11.],\n",
       "       [340.,  12.],\n",
       "       [360.,  12.],\n",
       "       [380.,  13.],\n",
       "       [400.,  11.],\n",
       "       [420.,   9.],\n",
       "       [440.,  13.],\n",
       "       [460.,  11.],\n",
       "       [480.,  13.],\n",
       "       [500.,  10.],\n",
       "       [520.,  12.],\n",
       "       [540.,  12.],\n",
       "       [560.,   7.],\n",
       "       [580.,   6.]])"
      ]
     },
     "execution_count": 303,
     "metadata": {},
     "output_type": "execute_result"
    }
   ],
   "source": [
    "np.loadtxt(fs[0])"
   ]
  },
  {
   "cell_type": "code",
   "execution_count": null,
   "metadata": {},
   "outputs": [],
   "source": []
  }
 ],
 "metadata": {
  "kernelspec": {
   "display_name": "Python 3",
   "language": "python",
   "name": "python3"
  },
  "language_info": {
   "codemirror_mode": {
    "name": "ipython",
    "version": 3
   },
   "file_extension": ".py",
   "mimetype": "text/x-python",
   "name": "python",
   "nbconvert_exporter": "python",
   "pygments_lexer": "ipython3",
   "version": "3.8.3"
  }
 },
 "nbformat": 4,
 "nbformat_minor": 4
}
