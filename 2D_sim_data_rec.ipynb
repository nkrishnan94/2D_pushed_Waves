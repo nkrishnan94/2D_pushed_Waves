{
 "cells": [
  {
   "cell_type": "code",
   "execution_count": 437,
   "metadata": {},
   "outputs": [],
   "source": [
    "import numpy as np\n",
    "import matplotlib.pyplot as plt\n",
    "import os\n",
    "import glob\n",
    "import scipy\n",
    "from scipy.optimize import curve_fit\n",
    "import pandas as pd\n",
    "import seaborn as sns\n",
    "from scipy import fft, ifft"
   ]
  },
  {
   "cell_type": "code",
   "execution_count": 658,
   "metadata": {},
   "outputs": [],
   "source": [
    "def profFileToArray(file,ndemeh,ndemew):\n",
    "    arr = np.loadtxt(file,delimiter =  ', ')\n",
    "    if len(f)!=0:\n",
    "        \n",
    "        return arr[:,2:].reshape((ndemeh,ndemew,2))\n",
    "    \n",
    "    else:\n",
    "        return False\n",
    "    \n",
    "def arrToFreq(arr):\n",
    "    return arr[:,:,0]/(arr[:,:,1]+arr[:,:,0])\n",
    "\n",
    "def lastRowBinary(arr, thresh):\n",
    "    max_all = np.sum(np.all(arr,axis=1))-1\n",
    "    f_x = arr[max_all,:]\n",
    "    f_x[f_x>thresh]=1\n",
    "    f_x[f_x<(1-thresh)]=0\n",
    "    f_x[((f_x != 0) & (f_x != 1))]=.5\n",
    "    return f_x\n",
    "\n",
    "def anyRowBinary(arr,row_ind, thresh):\n",
    "\n",
    "    f_x = arr[rowind,:]\n",
    "    f_x[f_x>thresh]=1\n",
    "    f_x[f_x<(1-thresh)]=0\n",
    "    f_x[((f_x != 0) & (f_x != 1))]=.5\n",
    "    return f_x\n",
    "\n",
    "\n",
    "def sectorCount(arr_row):\n",
    "    return np.sum(np.diff(arr_row)!=0)+1\n",
    "\n",
    "def sectorProp(arr_row):\n",
    "    counts = np.bincount((f_x*2).astype(int),minlength=2)\n",
    "    return counts/np.sum(counts)\n",
    "    \n",
    "def corrFunc(arr_row):\n",
    "    width =len(arr_row)\n",
    "    c_d =np.zeros(int(width/2))\n",
    "    for i in range(int(width/2)):\n",
    "        prod = 0\n",
    "        for j in range(width):\n",
    "            #print(f_x[i]*f_x[(i+1)%40])\n",
    "            prod +=(f_x[j]*f_x[(j+i)%width])\n",
    "        c_d[i] = prod/40\n",
    "        \n",
    "    return c_d\n",
    "\n",
    "\n",
    "def corrSpikeCount(np.sum(np.diff(np.diff(fft(corrFunc(f_x))))<0))"
   ]
  },
  {
   "cell_type": "code",
   "execution_count": 694,
   "metadata": {},
   "outputs": [
    {
     "data": {
      "text/plain": [
       "array([[[3135., 6865.],\n",
       "        [3288., 6712.],\n",
       "        [3275., 6725.],\n",
       "        ...,\n",
       "        [2946., 7054.],\n",
       "        [2909., 7091.],\n",
       "        [3021., 6979.]],\n",
       "\n",
       "       [[3219., 6781.],\n",
       "        [3136., 6864.],\n",
       "        [3237., 6763.],\n",
       "        ...,\n",
       "        [2954., 7046.],\n",
       "        [2969., 7031.],\n",
       "        [3100., 6900.]],\n",
       "\n",
       "       [[3053., 6947.],\n",
       "        [3328., 6671.],\n",
       "        [3382., 6618.],\n",
       "        ...,\n",
       "        [3012., 6988.],\n",
       "        [3025., 6975.],\n",
       "        [3122., 6878.]],\n",
       "\n",
       "       ...,\n",
       "\n",
       "       [[   0.,    0.],\n",
       "        [   0.,    0.],\n",
       "        [   0.,    0.],\n",
       "        ...,\n",
       "        [   0.,    0.],\n",
       "        [   0.,    0.],\n",
       "        [   0.,    0.]],\n",
       "\n",
       "       [[   0.,    0.],\n",
       "        [   0.,    0.],\n",
       "        [   0.,    0.],\n",
       "        ...,\n",
       "        [   0.,    0.],\n",
       "        [   0.,    0.],\n",
       "        [   0.,    0.]],\n",
       "\n",
       "       [[   0.,    0.],\n",
       "        [   0.,    0.],\n",
       "        [   0.,    0.],\n",
       "        ...,\n",
       "        [   0.,    0.],\n",
       "        [   0.,    0.],\n",
       "        [   0.,    0.]]])"
      ]
     },
     "execution_count": 694,
     "metadata": {},
     "output_type": "execute_result"
    }
   ],
   "source": [
    "arr"
   ]
  },
  {
   "cell_type": "code",
   "execution_count": 698,
   "metadata": {},
   "outputs": [
    {
     "ename": "IndexError",
     "evalue": "index 50 is out of bounds for axis 0 with size 40",
     "output_type": "error",
     "traceback": [
      "\u001b[0;31m---------------------------------------------------------------------------\u001b[0m",
      "\u001b[0;31mIndexError\u001b[0m                                Traceback (most recent call last)",
      "\u001b[0;32m<ipython-input-698-ad4e2e701a64>\u001b[0m in \u001b[0;36m<module>\u001b[0;34m()\u001b[0m\n\u001b[0;32m----> 1\u001b[0;31m \u001b[0marr8\u001b[0m\u001b[0;34m[\u001b[0m\u001b[0;36m50\u001b[0m\u001b[0;34m,\u001b[0m\u001b[0;34m:\u001b[0m\u001b[0;34m]\u001b[0m\u001b[0;34m\u001b[0m\u001b[0;34m\u001b[0m\u001b[0m\n\u001b[0m",
      "\u001b[0;31mIndexError\u001b[0m: index 50 is out of bounds for axis 0 with size 40"
     ]
    }
   ],
   "source": [
    "arr8[50,:]"
   ]
  },
  {
   "cell_type": "code",
   "execution_count": 699,
   "metadata": {},
   "outputs": [
    {
     "data": {
      "text/plain": [
       "array([[ True,  True],\n",
       "       [ True,  True],\n",
       "       [ True,  True],\n",
       "       [ True,  True],\n",
       "       [ True,  True],\n",
       "       [ True,  True],\n",
       "       [ True,  True],\n",
       "       [ True,  True],\n",
       "       [ True,  True],\n",
       "       [ True,  True],\n",
       "       [ True,  True],\n",
       "       [ True,  True],\n",
       "       [ True,  True],\n",
       "       [ True,  True],\n",
       "       [ True,  True],\n",
       "       [ True,  True],\n",
       "       [ True,  True],\n",
       "       [ True,  True],\n",
       "       [ True,  True],\n",
       "       [ True,  True],\n",
       "       [ True,  True],\n",
       "       [ True,  True],\n",
       "       [ True,  True],\n",
       "       [ True,  True],\n",
       "       [ True,  True],\n",
       "       [False,  True],\n",
       "       [False, False],\n",
       "       [False, False],\n",
       "       [False, False],\n",
       "       [False, False],\n",
       "       [False, False],\n",
       "       [False, False],\n",
       "       [False, False],\n",
       "       [False, False],\n",
       "       [False, False],\n",
       "       [False, False],\n",
       "       [False, False],\n",
       "       [False, False],\n",
       "       [False, False],\n",
       "       [False, False]])"
      ]
     },
     "execution_count": 699,
     "metadata": {},
     "output_type": "execute_result"
    }
   ],
   "source": [
    "np.all(arr8,axis=1)"
   ]
  },
  {
   "cell_type": "code",
   "execution_count": 697,
   "metadata": {},
   "outputs": [
    {
     "data": {
      "text/plain": [
       "50"
      ]
     },
     "execution_count": 697,
     "metadata": {},
     "output_type": "execute_result"
    }
   ],
   "source": [
    "np.sum(np.all(arr8,axis=1))-1"
   ]
  },
  {
   "cell_type": "code",
   "execution_count": 701,
   "metadata": {},
   "outputs": [
    {
     "name": "stderr",
     "output_type": "stream",
     "text": [
      "/Users/nikhilkrishnan/anaconda3/lib/python3.7/site-packages/ipykernel_launcher.py:11: RuntimeWarning: invalid value encountered in true_divide\n",
      "  # This is added back by InteractiveShellApp.init_path()\n",
      "/Users/nikhilkrishnan/anaconda3/lib/python3.7/site-packages/ipykernel_launcher.py:16: RuntimeWarning: invalid value encountered in greater\n",
      "  app.launch_new_instance()\n",
      "/Users/nikhilkrishnan/anaconda3/lib/python3.7/site-packages/ipykernel_launcher.py:17: RuntimeWarning: invalid value encountered in less\n"
     ]
    },
    {
     "data": {
      "text/plain": [
       "19"
      ]
     },
     "execution_count": 701,
     "metadata": {},
     "output_type": "execute_result"
    }
   ],
   "source": [
    "sectorCount(lastRowBinary(arrToFreq(arr8),.75))"
   ]
  },
  {
   "cell_type": "code",
   "execution_count": 689,
   "metadata": {},
   "outputs": [
    {
     "name": "stderr",
     "output_type": "stream",
     "text": [
      "/Users/nikhilkrishnan/anaconda3/lib/python3.7/site-packages/ipykernel_launcher.py:11: RuntimeWarning: invalid value encountered in true_divide\n",
      "  # This is added back by InteractiveShellApp.init_path()\n"
     ]
    },
    {
     "data": {
      "text/plain": [
       "<matplotlib.image.AxesImage at 0x1a24d55048>"
      ]
     },
     "execution_count": 689,
     "metadata": {},
     "output_type": "execute_result"
    },
    {
     "data": {
      "image/png": "[encoded data removed]",
      "text/plain": [
       "<Figure size 432x288 with 1 Axes>"
      ]
     },
     "metadata": {
      "needs_background": "light"
     },
     "output_type": "display_data"
    }
   ],
   "source": [
    "plt.imshow(arrToFreq(arr8))"
   ]
  },
  {
   "cell_type": "code",
   "execution_count": 686,
   "metadata": {},
   "outputs": [
    {
     "name": "stderr",
     "output_type": "stream",
     "text": [
      "/Users/nikhilkrishnan/anaconda3/lib/python3.7/site-packages/numpy/core/_asarray.py:85: ComplexWarning: Casting complex values to real discards the imaginary part\n",
      "  return array(a, dtype, copy=False, order=order)\n"
     ]
    },
    {
     "data": {
      "text/plain": [
       "[<matplotlib.lines.Line2D at 0x1a24b8b9b0>]"
      ]
     },
     "execution_count": 686,
     "metadata": {},
     "output_type": "execute_result"
    },
    {
     "data": {
      "image/png": "[encoded data removed]",
      "text/plain": [
       "<Figure size 432x288 with 1 Axes>"
      ]
     },
     "metadata": {
      "needs_background": "light"
     },
     "output_type": "display_data"
    }
   ],
   "source": [
    "plt.plot(fft(corrFunc(f_x)))"
   ]
  },
  {
   "cell_type": "code",
   "execution_count": 708,
   "metadata": {},
   "outputs": [
    {
     "data": {
      "text/plain": [
       "4"
      ]
     },
     "execution_count": 708,
     "metadata": {},
     "output_type": "execute_result"
    }
   ],
   "source": [
    "np.sum(np.diff(np.diff(fft(corrFunc(f_x))))<0)"
   ]
  },
  {
   "cell_type": "code",
   "execution_count": 702,
   "metadata": {},
   "outputs": [
    {
     "data": {
      "text/plain": [
       "array([0.21787427, 0.18979056, 0.17573961, 0.17156726, 0.1697507 ,\n",
       "       0.15061795, 0.14266603, 0.15117841, 0.15731707, 0.15047388,\n",
       "       0.14771733, 0.15858106, 0.15830761, 0.15778261, 0.15347706,\n",
       "       0.15887487, 0.16765434, 0.15413657, 0.14684568, 0.15006316])"
      ]
     },
     "execution_count": 702,
     "metadata": {},
     "output_type": "execute_result"
    }
   ],
   "source": [
    "corrFunc(f_x)"
   ]
  },
  {
   "cell_type": "code",
   "execution_count": 674,
   "metadata": {},
   "outputs": [
    {
     "name": "stderr",
     "output_type": "stream",
     "text": [
      "/Users/nikhilkrishnan/anaconda3/lib/python3.7/site-packages/ipykernel_launcher.py:11: RuntimeWarning: invalid value encountered in true_divide\n",
      "  # This is added back by InteractiveShellApp.init_path()\n"
     ]
    },
    {
     "data": {
      "text/plain": [
       "<matplotlib.image.AxesImage at 0x1a2498c2b0>"
      ]
     },
     "execution_count": 674,
     "metadata": {},
     "output_type": "execute_result"
    },
    {
     "data": {
      "image/png": "[encoded data removed]",
      "text/plain": [
       "<Figure size 432x288 with 1 Axes>"
      ]
     },
     "metadata": {
      "needs_background": "light"
     },
     "output_type": "display_data"
    }
   ],
   "source": [
    "plt.imshow(arrToFreq(arr8))"
   ]
  },
  {
   "cell_type": "code",
   "execution_count": 679,
   "metadata": {},
   "outputs": [
    {
     "data": {
      "text/plain": [
       "array([0.14285714, 0.33333333, 0.33333333, 0.19047619, 0.32142857,\n",
       "       0.5       , 0.625     , 0.63636364, 0.25      , 0.5       ,\n",
       "       0.5       , 0.25      , 0.04347826, 0.27272727, 0.33333333,\n",
       "       0.31034483, 0.11111111, 0.5625    , 0.5       , 0.14285714,\n",
       "       0.6       , 1.        , 0.76923077, 0.5       , 0.33333333,\n",
       "       0.55555556, 0.25      , 0.5       , 0.46153846, 0.78947368,\n",
       "       0.75      , 0.86666667, 0.41666667, 0.57142857, 0.33333333,\n",
       "       0.0625    , 0.13333333, 0.        , 0.25      , 0.        ])"
      ]
     },
     "execution_count": 679,
     "metadata": {},
     "output_type": "execute_result"
    }
   ],
   "source": [
    "f_x"
   ]
  },
  {
   "cell_type": "code",
   "execution_count": 675,
   "metadata": {},
   "outputs": [
    {
     "data": {
      "text/plain": [
       "[<matplotlib.lines.Line2D at 0x1a24818b70>]"
      ]
     },
     "execution_count": 675,
     "metadata": {},
     "output_type": "execute_result"
    },
    {
     "data": {
      "image/png": "[encoded data removed]",
      "text/plain": [
       "<Figure size 432x288 with 1 Axes>"
      ]
     },
     "metadata": {
      "needs_background": "light"
     },
     "output_type": "display_data"
    }
   ],
   "source": [
    "plt.plot(corrFunc(f_x))\n"
   ]
  },
  {
   "cell_type": "code",
   "execution_count": 171,
   "metadata": {},
   "outputs": [],
   "source": [
    "all_files_het = glob.glob(\"rec_lattice_bounds/sim_data/het*.txt\")"
   ]
  },
  {
   "cell_type": "code",
   "execution_count": 172,
   "metadata": {},
   "outputs": [],
   "source": [
    "all_files_vel = glob.glob(\"rec_lattice_bounds/sim_data/pop*.txt\")"
   ]
  },
  {
   "cell_type": "code",
   "execution_count": 173,
   "metadata": {},
   "outputs": [],
   "source": [
    "df = pd.DataFrame(columns=['K','B',\"het_exp\", \"vel_exp\"])"
   ]
  },
  {
   "cell_type": "code",
   "execution_count": 174,
   "metadata": {},
   "outputs": [
    {
     "name": "stdout",
     "output_type": "stream",
     "text": [
      "14\n",
      "52\n",
      "14\n",
      "22\n",
      "55\n",
      "18\n",
      "22\n",
      "51\n",
      "21\n"
     ]
    }
   ],
   "source": [
    "K_str = [\"K1000_\",\"K5000_\",\"K10000_\"] \n",
    "K_var = [1000,5000,10000]\n",
    "\n",
    "B_str = [\"B0\",\"B4\",\"B8\"]\n",
    "B_var = [0,4,8]\n",
    "\n",
    "\n",
    "\n",
    "\n",
    "for Ki,K in zip(K_var,K_str):\n",
    "    for Bi,B in zip(B_var,B_str):\n",
    "        sub_files_het = []\n",
    "        sub_files_vel = []\n",
    "        for fh,fv in zip(all_files_het,all_files_vel):\n",
    "            if K in fh and B in fh:\n",
    "                sub_files_het.append(fh)\n",
    "            if K in fh and B in fh:\n",
    "                sub_files_vel.append(fv)\n",
    "\n",
    "                \n",
    "\n",
    "\n",
    "        arrh = np.zeros((len(sub_files_het),1000,2))\n",
    "        arrv = np.zeros((len(sub_files_vel),1000,2))\n",
    "\n",
    "        for i,fh,fv in zip(np.arange(len(sub_files_het)),sub_files_het,sub_files_vel):\n",
    "           \n",
    "                \n",
    "            arrh[i] = np.loadtxt(fh,delimiter =  ', ')\n",
    "            arrv[i] = np.loadtxt(fv,delimiter =  ', ')\n",
    "        if Bi>2:\n",
    "            mult = 50\n",
    "        else:\n",
    "            mult =25\n",
    "\n",
    "        het = np.mean(arrh[:,:,1],axis=0)\n",
    "        vel = np.mean(arrv[:,:,1]/Ki,axis=0)\n",
    "        #plt.plot(np.linspace(0, int(50*Ki-50*Ki/1000),1000),vel,label=Ki)\n",
    "        print(np.sum(arrh[:,600,1]==0))\n",
    "        #if Ki ==10000:\n",
    "        #    plt.plot(np.linspace(0,499500,1000),het)\n",
    "        \n",
    "        #plt.errorbar(np.linspace(0,499500,1000), het, yerr=np.std(arr[:,:,1],axis=0),alpha=.2)\n",
    "        \n",
    "        het_fit = curve_fit(lambda t,a,b: -b*t + a,  np.linspace(0, int(mult*Ki-mult*Ki/1000),1000), np.log(het))\n",
    "        vel_fit = curve_fit(lambda t,a,v: v*t + a,  np.linspace(0, int(mult*Ki-mult*Ki/1000),1000), vel)\n",
    "        df = df.append(pd.DataFrame(data=[[Ki,Bi,het_fit[0][1],vel_fit[0][1]]],columns=['K','B',\"het_exp\", \"vel_exp\"]))\n",
    "        #print(vel_fit[0][1])\n",
    "        #plt.legend()\n",
    "        \n",
    "\n",
    "        \n",
    "        \n",
    "        "
   ]
  },
  {
   "cell_type": "code",
   "execution_count": null,
   "metadata": {},
   "outputs": [],
   "source": [
    "df['B']=df['B'].astype(int)"
   ]
  },
  {
   "cell_type": "code",
   "execution_count": 210,
   "metadata": {},
   "outputs": [
    {
     "data": {
      "text/plain": [
       "[None, None]"
      ]
     },
     "execution_count": 210,
     "metadata": {},
     "output_type": "execute_result"
    },
    {
     "data": {
      "image/png": "[encoded data removed]",
      "text/plain": [
       "<Figure size 432x288 with 1 Axes>"
      ]
     },
     "metadata": {
      "needs_background": "light"
     },
     "output_type": "display_data"
    }
   ],
   "source": [
    "grid= sns.lineplot(x='K',y='het_exp',data=df,ci=None,hue='B')\n",
    "\n",
    "grid.set(xscale=\"log\", yscale=\"log\")"
   ]
  },
  {
   "cell_type": "code",
   "execution_count": 536,
   "metadata": {},
   "outputs": [],
   "source": [
    "all_files_prof = glob.glob(\"rec_lattice_bounds/prof*.txt\")"
   ]
  },
  {
   "cell_type": "code",
   "execution_count": 538,
   "metadata": {},
   "outputs": [
    {
     "data": {
      "text/plain": [
       "[]"
      ]
     },
     "execution_count": 538,
     "metadata": {},
     "output_type": "execute_result"
    }
   ],
   "source": [
    "all_files_prof"
   ]
  },
  {
   "cell_type": "code",
   "execution_count": 537,
   "metadata": {},
   "outputs": [
    {
     "ename": "IndexError",
     "evalue": "list index out of range",
     "output_type": "error",
     "traceback": [
      "\u001b[0;31m---------------------------------------------------------------------------\u001b[0m",
      "\u001b[0;31mIndexError\u001b[0m                                Traceback (most recent call last)",
      "\u001b[0;32m<ipython-input-537-8c0cf2e4a0b1>\u001b[0m in \u001b[0;36m<module>\u001b[0;34m()\u001b[0m\n\u001b[0;32m----> 1\u001b[0;31m \u001b[0mf\u001b[0m \u001b[0;34m=\u001b[0m \u001b[0mall_files_prof\u001b[0m\u001b[0;34m[\u001b[0m\u001b[0;34m-\u001b[0m\u001b[0;36m3\u001b[0m\u001b[0;34m]\u001b[0m\u001b[0;34m\u001b[0m\u001b[0;34m\u001b[0m\u001b[0m\n\u001b[0m",
      "\u001b[0;31mIndexError\u001b[0m: list index out of range"
     ]
    }
   ],
   "source": [
    "f = all_files_prof[-3]"
   ]
  },
  {
   "cell_type": "code",
   "execution_count": 224,
   "metadata": {},
   "outputs": [],
   "source": [
    "f = np.loadtxt(f,delimiter =  ', ')"
   ]
  },
  {
   "cell_type": "code",
   "execution_count": 232,
   "metadata": {},
   "outputs": [
    {
     "name": "stderr",
     "output_type": "stream",
     "text": [
      "/Users/nikhilkrishnan/anaconda3/lib/python3.7/site-packages/ipykernel_launcher.py:1: RuntimeWarning: invalid value encountered in true_divide\n",
      "  \"\"\"Entry point for launching an IPython kernel.\n"
     ]
    },
    {
     "data": {
      "text/plain": [
       "<matplotlib.image.AxesImage at 0x1a223d9ba8>"
      ]
     },
     "execution_count": 232,
     "metadata": {},
     "output_type": "execute_result"
    },
    {
     "data": {
      "image/png": "[encoded data removed]",
      "text/plain": [
       "<Figure size 432x288 with 1 Axes>"
      ]
     },
     "metadata": {
      "needs_background": "light"
     },
     "output_type": "display_data"
    }
   ],
   "source": [
    "arr = f[:,2].reshape(40,40)/(f[:,2].reshape(40,40)+f[:,3].reshape(40,40))\n",
    "plt.imshow(arr)"
   ]
  },
  {
   "cell_type": "code",
   "execution_count": 230,
   "metadata": {},
   "outputs": [
    {
     "data": {
      "text/plain": [
       "<matplotlib.image.AxesImage at 0x1a2250a4a8>"
      ]
     },
     "execution_count": 230,
     "metadata": {},
     "output_type": "execute_result"
    },
    {
     "data": {
      "image/png": "[encoded data removed]",
      "text/plain": [
       "<Figure size 432x288 with 1 Axes>"
      ]
     },
     "metadata": {
      "needs_background": "light"
     },
     "output_type": "display_data"
    }
   ],
   "source": [
    "arr = f[:,3].reshape(40,40)\n",
    "plt.imshow(arr)"
   ]
  },
  {
   "cell_type": "code",
   "execution_count": 241,
   "metadata": {},
   "outputs": [],
   "source": [
    "B0_prof = np.sort(glob.glob(\"rec_lattice_bounds/B0_trace/prof_T*.txt\"))\n",
    "B8_prof = np.sort(glob.glob(\"rec_lattice_bounds/B8_trace/prof_T*.txt\"))"
   ]
  },
  {
   "cell_type": "code",
   "execution_count": 264,
   "metadata": {},
   "outputs": [],
   "source": [
    "nums0 = []\n",
    "for f in B0_prof:\n",
    "    nums0.append(int(f.split('T')[1].split('_')[0]))\n",
    "    \n",
    "    \n",
    "    \n",
    "nums8 = []\n",
    "for f in B8_prof:\n",
    "    nums8.append(int(f.split('T')[1].split('_')[0]))\n",
    "    \n"
   ]
  },
  {
   "cell_type": "code",
   "execution_count": 265,
   "metadata": {},
   "outputs": [],
   "source": [
    "B0_prof = B0_prof[np.argsort(nums0)]\n",
    "B8_prof = B8_prof[np.argsort(nums8)]"
   ]
  },
  {
   "cell_type": "code",
   "execution_count": 278,
   "metadata": {},
   "outputs": [],
   "source": [
    "B0_het_file = glob.glob(\"rec_lattice_bounds/B0_trace/het*.txt\")\n",
    "B8_het_file = glob.glob(\"rec_lattice_bounds/B8_trace/het*.txt\")"
   ]
  },
  {
   "cell_type": "code",
   "execution_count": 280,
   "metadata": {},
   "outputs": [],
   "source": [
    "f = B0_het_file[0]\n",
    "f= np.loadtxt(f,delimiter =  ', ')\n",
    "B0_het = f[:,1]\n",
    "f = B8_het_file[0]\n",
    "f= np.loadtxt(f,delimiter =  ', ')\n",
    "B8_het = f[:,1]"
   ]
  },
  {
   "cell_type": "code",
   "execution_count": 281,
   "metadata": {},
   "outputs": [
    {
     "data": {
      "text/plain": [
       "[<matplotlib.lines.Line2D at 0x1a20561908>]"
      ]
     },
     "execution_count": 281,
     "metadata": {},
     "output_type": "execute_result"
    },
    {
     "data": {
      "image/png": "[encoded data removed]",
      "text/plain": [
       "<Figure size 432x288 with 1 Axes>"
      ]
     },
     "metadata": {
      "needs_background": "light"
     },
     "output_type": "display_data"
    }
   ],
   "source": [
    "plt.plot(B8_het)"
   ]
  },
  {
   "cell_type": "code",
   "execution_count": 296,
   "metadata": {},
   "outputs": [],
   "source": [
    "f = B0_prof[-1]\n",
    "f= np.loadtxt(f,delimiter =  ', ')\n",
    "arr0 =f[:,2:].reshape(40,40,2)"
   ]
  },
  {
   "cell_type": "code",
   "execution_count": 302,
   "metadata": {},
   "outputs": [
    {
     "name": "stderr",
     "output_type": "stream",
     "text": [
      "/Users/nikhilkrishnan/anaconda3/lib/python3.7/site-packages/ipykernel_launcher.py:1: RuntimeWarning: invalid value encountered in true_divide\n",
      "  \"\"\"Entry point for launching an IPython kernel.\n"
     ]
    },
    {
     "data": {
      "text/plain": [
       "<matplotlib.image.AxesImage at 0x1a21b93278>"
      ]
     },
     "execution_count": 302,
     "metadata": {},
     "output_type": "execute_result"
    },
    {
     "data": {
      "image/png": "[encoded data removed]",
      "text/plain": [
       "<Figure size 432x288 with 1 Axes>"
      ]
     },
     "metadata": {
      "needs_background": "light"
     },
     "output_type": "display_data"
    }
   ],
   "source": [
    "plt.imshow(arr0[:,:,0]/(arr0[:,:,0]+arr0[:,:,1]))"
   ]
  },
  {
   "cell_type": "code",
   "execution_count": 664,
   "metadata": {},
   "outputs": [
    {
     "name": "stderr",
     "output_type": "stream",
     "text": [
      "/Users/nikhilkrishnan/anaconda3/lib/python3.7/site-packages/ipykernel_launcher.py:2: RuntimeWarning: invalid value encountered in true_divide\n",
      "  \n",
      "/Users/nikhilkrishnan/anaconda3/lib/python3.7/site-packages/ipykernel_launcher.py:3: RuntimeWarning: invalid value encountered in true_divide\n",
      "  This is separate from the ipykernel package so we can avoid doing imports until\n"
     ]
    }
   ],
   "source": [
    "## most advanced deme all full\n",
    "max_all = np.sum(np.all(~np.isnan(arr0[:,:,0]/(arr0[:,:,0]+arr0[:,:,1])),axis=1))-1\n",
    "f_x = (arr0[:,:,0]/(arr0[:,:,0]+arr0[:,:,1]))[max_all,:]"
   ]
  },
  {
   "cell_type": "code",
   "execution_count": 450,
   "metadata": {},
   "outputs": [],
   "source": [
    "##autocorrelation\n",
    "c_d = np.zeros(20)\n",
    "for i in range(20):\n",
    "    prod = 0\n",
    "    for j in range(40):\n",
    "        #print(f_x[i]*f_x[(i+1)%40])\n",
    "        prod +=(f_x[j]*f_x[(j+i)%40])\n",
    "    c_d[i] = prod/40"
   ]
  },
  {
   "cell_type": "code",
   "execution_count": 454,
   "metadata": {},
   "outputs": [
    {
     "data": {
      "text/plain": [
       "[<matplotlib.lines.Line2D at 0x1a23279f60>]"
      ]
     },
     "execution_count": 454,
     "metadata": {},
     "output_type": "execute_result"
    },
    {
     "data": {
      "image/png": "[encoded data removed]",
      "text/plain": [
       "<Figure size 432x288 with 1 Axes>"
      ]
     },
     "metadata": {
      "needs_background": "light"
     },
     "output_type": "display_data"
    }
   ],
   "source": [
    "plt.plot(c_d)\n",
    "#fft(c_d)"
   ]
  },
  {
   "cell_type": "code",
   "execution_count": 298,
   "metadata": {},
   "outputs": [],
   "source": [
    "f = B8_prof[-1]\n",
    "f= np.loadtxt(f,delimiter =  ', ')\n",
    "arr8 =f[:,2:].reshape(40,40,2)"
   ]
  },
  {
   "cell_type": "code",
   "execution_count": 403,
   "metadata": {},
   "outputs": [
    {
     "name": "stderr",
     "output_type": "stream",
     "text": [
      "/Users/nikhilkrishnan/anaconda3/lib/python3.7/site-packages/ipykernel_launcher.py:1: RuntimeWarning: invalid value encountered in true_divide\n",
      "  \"\"\"Entry point for launching an IPython kernel.\n"
     ]
    },
    {
     "data": {
      "text/plain": [
       "<matplotlib.image.AxesImage at 0x1a227379b0>"
      ]
     },
     "execution_count": 403,
     "metadata": {},
     "output_type": "execute_result"
    },
    {
     "data": {
      "image/png": "[encoded data removed]",
      "text/plain": [
       "<Figure size 432x288 with 1 Axes>"
      ]
     },
     "metadata": {
      "needs_background": "light"
     },
     "output_type": "display_data"
    }
   ],
   "source": [
    "plt.imshow(arr8[:,:,0]/(arr8[:,:,0]+arr8[:,:,1]))"
   ]
  },
  {
   "cell_type": "code",
   "execution_count": 680,
   "metadata": {},
   "outputs": [
    {
     "name": "stderr",
     "output_type": "stream",
     "text": [
      "/Users/nikhilkrishnan/anaconda3/lib/python3.7/site-packages/ipykernel_launcher.py:2: RuntimeWarning: invalid value encountered in true_divide\n",
      "  \n",
      "/Users/nikhilkrishnan/anaconda3/lib/python3.7/site-packages/ipykernel_launcher.py:3: RuntimeWarning: invalid value encountered in true_divide\n",
      "  This is separate from the ipykernel package so we can avoid doing imports until\n"
     ]
    }
   ],
   "source": [
    "## most advanced deme all full\n",
    "max_all = np.sum(np.all(~np.isnan(arr8[:,:,0]/(arr8[:,:,0]+arr8[:,:,1])),axis=1))-1\n",
    "f_x = (arr8[:,:,0]/(arr8[:,:,0]+arr8[:,:,1]))[max_all,:]"
   ]
  },
  {
   "cell_type": "code",
   "execution_count": 411,
   "metadata": {},
   "outputs": [
    {
     "data": {
      "text/plain": [
       "1"
      ]
     },
     "execution_count": 411,
     "metadata": {},
     "output_type": "execute_result"
    }
   ],
   "source": [
    "41 %40"
   ]
  },
  {
   "cell_type": "code",
   "execution_count": 681,
   "metadata": {},
   "outputs": [
    {
     "data": {
      "text/plain": [
       "array([0.14285714, 0.33333333, 0.33333333, 0.19047619, 0.32142857,\n",
       "       0.5       , 0.625     , 0.63636364, 0.25      , 0.5       ,\n",
       "       0.5       , 0.25      , 0.04347826, 0.27272727, 0.33333333,\n",
       "       0.31034483, 0.11111111, 0.5625    , 0.5       , 0.14285714,\n",
       "       0.6       , 1.        , 0.76923077, 0.5       , 0.33333333,\n",
       "       0.55555556, 0.25      , 0.5       , 0.46153846, 0.78947368,\n",
       "       0.75      , 0.86666667, 0.41666667, 0.57142857, 0.33333333,\n",
       "       0.0625    , 0.13333333, 0.        , 0.25      , 0.        ])"
      ]
     },
     "execution_count": 681,
     "metadata": {},
     "output_type": "execute_result"
    }
   ],
   "source": [
    "f_x"
   ]
  },
  {
   "cell_type": "code",
   "execution_count": 434,
   "metadata": {},
   "outputs": [],
   "source": [
    "##autocorrelation\n",
    "c_d = np.zeros(20)\n",
    "for i in range(20):\n",
    "    prod = 0\n",
    "    for j in range(40):\n",
    "        #print(f_x[i]*f_x[(i+1)%40])\n",
    "        prod +=(f_x[j]*f_x[(j+i)%40])\n",
    "    c_d[i] = prod/40"
   ]
  },
  {
   "cell_type": "code",
   "execution_count": 442,
   "metadata": {},
   "outputs": [
    {
     "data": {
      "text/plain": [
       "[<matplotlib.lines.Line2D at 0x1a22a81e80>]"
      ]
     },
     "execution_count": 442,
     "metadata": {},
     "output_type": "execute_result"
    },
    {
     "data": {
      "image/png": "[encoded data removed]",
      "text/plain": [
       "<Figure size 432x288 with 1 Axes>"
      ]
     },
     "metadata": {
      "needs_background": "light"
     },
     "output_type": "display_data"
    }
   ],
   "source": [
    "plt.plot(c_d)\n",
    "#plt.plot(fft(c_d))"
   ]
  },
  {
   "cell_type": "code",
   "execution_count": 354,
   "metadata": {},
   "outputs": [
    {
     "name": "stderr",
     "output_type": "stream",
     "text": [
      "/Users/nikhilkrishnan/anaconda3/lib/python3.7/site-packages/ipykernel_launcher.py:3: RuntimeWarning: invalid value encountered in true_divide\n",
      "  This is separate from the ipykernel package so we can avoid doing imports until\n",
      "/Users/nikhilkrishnan/anaconda3/lib/python3.7/site-packages/ipykernel_launcher.py:4: RuntimeWarning: invalid value encountered in true_divide\n",
      "  after removing the cwd from sys.path.\n"
     ]
    }
   ],
   "source": [
    "## most advanced dme\n",
    "max_deme = np.zeros(40)\n",
    "for i in range(40):\n",
    "    arr = np.argwhere(~np.isnan(arr8[:,:,0]/(arr8[:,:,0]+arr8[:,:,1])))[:,1]==i\n",
    "    max_deme[i] = np.max(np.argwhere(~np.isnan(arr8[:,:,0]/(arr8[:,:,0]+arr8[:,:,1])))[arr,:][:,0])\n",
    "arr8[max_deme.astype(int),np.arange(40),0]/(arr8[max_deme.astype(int),np.arange(40),1]+arr8[max_deme.astype(int),np.arange(40),0])"
   ]
  },
  {
   "cell_type": "code",
   "execution_count": 372,
   "metadata": {},
   "outputs": [
    {
     "ename": "IndexError",
     "evalue": "arrays used as indices must be of integer (or boolean) type",
     "output_type": "error",
     "traceback": [
      "\u001b[0;31m---------------------------------------------------------------------------\u001b[0m",
      "\u001b[0;31mIndexError\u001b[0m                                Traceback (most recent call last)",
      "\u001b[0;32m<ipython-input-372-92de2adcd397>\u001b[0m in \u001b[0;36m<module>\u001b[0;34m()\u001b[0m\n\u001b[0;32m----> 1\u001b[0;31m \u001b[0marr8\u001b[0m\u001b[0;34m[\u001b[0m\u001b[0mmax_deme\u001b[0m\u001b[0;34m,\u001b[0m\u001b[0;34m:\u001b[0m\u001b[0;34m,\u001b[0m\u001b[0;36m1\u001b[0m\u001b[0;34m]\u001b[0m\u001b[0;34m\u001b[0m\u001b[0;34m\u001b[0m\u001b[0m\n\u001b[0m",
      "\u001b[0;31mIndexError\u001b[0m: arrays used as indices must be of integer (or boolean) type"
     ]
    }
   ],
   "source": [
    "arr8[max_deme,:,1]\n"
   ]
  },
  {
   "cell_type": "code",
   "execution_count": 390,
   "metadata": {},
   "outputs": [
    {
     "data": {
      "text/plain": [
       "array([0.        , 0.        , 0.5       , 0.5       , 0.4       ,\n",
       "       1.        , 1.        , 0.        , 0.        , 0.        ,\n",
       "       0.        , 0.        , 0.        , 1.        , 1.        ,\n",
       "       0.5       , 1.        , 0.88888889, 1.        , 0.        ,\n",
       "       0.66666667, 1.        , 1.        , 1.        , 1.        ,\n",
       "       1.        , 0.5       , 0.5       , 1.        , 1.        ,\n",
       "       1.        , 1.        , 0.        , 0.        , 0.        ,\n",
       "       0.        , 0.        , 0.        , 0.        , 0.        ])"
      ]
     },
     "execution_count": 390,
     "metadata": {},
     "output_type": "execute_result"
    }
   ],
   "source": [
    "arr8[max_deme.astype(int),np.arange(40),0]/(arr8[max_deme.astype(int),np.arange(40),1]+arr8[max_deme.astype(int),np.arange(40),0])"
   ]
  },
  {
   "cell_type": "code",
   "execution_count": 379,
   "metadata": {},
   "outputs": [
    {
     "data": {
      "text/plain": [
       "array([27, 28, 27, 28, 27, 28, 29, 30, 33, 31, 35, 35, 34, 29, 29, 30, 32,\n",
       "       27, 31, 29, 28, 31, 31, 31, 30, 30, 28, 26, 27, 27, 27, 30, 30, 30,\n",
       "       30, 29, 29, 29, 29, 29])"
      ]
     },
     "execution_count": 379,
     "metadata": {},
     "output_type": "execute_result"
    }
   ],
   "source": [
    "max_deme.astype(int)"
   ]
  },
  {
   "cell_type": "code",
   "execution_count": 606,
   "metadata": {},
   "outputs": [],
   "source": [
    "f=glob.glob(\"rec_lattice_bounds/sim_data/prof*.txt\")[3]"
   ]
  },
  {
   "cell_type": "code",
   "execution_count": 607,
   "metadata": {},
   "outputs": [
    {
     "data": {
      "text/plain": [
       "'rec_lattice_bounds/sim_data/prof_H0.3_K10000_M0.25_B0_G0.01_2020-07-14-15-20-31.txt'"
      ]
     },
     "execution_count": 607,
     "metadata": {},
     "output_type": "execute_result"
    }
   ],
   "source": [
    "f"
   ]
  },
  {
   "cell_type": "code",
   "execution_count": 602,
   "metadata": {},
   "outputs": [
    {
     "data": {
      "text/plain": [
       "<matplotlib.image.AxesImage at 0x1a2436f0f0>"
      ]
     },
     "execution_count": 602,
     "metadata": {},
     "output_type": "execute_result"
    },
    {
     "data": {
      "image/png": "[encoded data removed]",
      "text/plain": [
       "<Figure size 432x288 with 1 Axes>"
      ]
     },
     "metadata": {
      "needs_background": "light"
     },
     "output_type": "display_data"
    }
   ],
   "source": [
    "plt.imshow(profFileToArray(f,120,80)[1,:])"
   ]
  },
  {
   "cell_type": "code",
   "execution_count": 609,
   "metadata": {},
   "outputs": [],
   "source": [
    "f = np.loadtxt(f,delimiter =  ', ')"
   ]
  },
  {
   "cell_type": "code",
   "execution_count": 615,
   "metadata": {},
   "outputs": [
    {
     "data": {
      "text/plain": [
       "<matplotlib.image.AxesImage at 0x1a20dab630>"
      ]
     },
     "execution_count": 615,
     "metadata": {},
     "output_type": "execute_result"
    },
    {
     "data": {
      "image/png": "[encoded data removed]",
      "text/plain": [
       "<Figure size 432x288 with 1 Axes>"
      ]
     },
     "metadata": {
      "needs_background": "light"
     },
     "output_type": "display_data"
    }
   ],
   "source": [
    "plt.imshow(arr[:,:,0])"
   ]
  },
  {
   "cell_type": "code",
   "execution_count": 611,
   "metadata": {},
   "outputs": [],
   "source": [
    "arr = f[:,2:].reshape((120,80,2))"
   ]
  },
  {
   "cell_type": "code",
   "execution_count": 531,
   "metadata": {},
   "outputs": [
    {
     "name": "stderr",
     "output_type": "stream",
     "text": [
      "/Users/nikhilkrishnan/anaconda3/lib/python3.7/site-packages/ipykernel_launcher.py:1: RuntimeWarning: invalid value encountered in true_divide\n",
      "  \"\"\"Entry point for launching an IPython kernel.\n"
     ]
    },
    {
     "data": {
      "text/plain": [
       "<matplotlib.image.AxesImage at 0x1a24372898>"
      ]
     },
     "execution_count": 531,
     "metadata": {},
     "output_type": "execute_result"
    },
    {
     "data": {
      "image/png": "[encoded data removed]",
      "text/plain": [
       "<Figure size 432x288 with 1 Axes>"
      ]
     },
     "metadata": {
      "needs_background": "light"
     },
     "output_type": "display_data"
    }
   ],
   "source": [
    "plt.imshow(f[:,2].reshape(120,60)/ (f[:,2].reshape(120,60)+f[:,3].reshape(120,60)))"
   ]
  },
  {
   "cell_type": "code",
   "execution_count": 560,
   "metadata": {},
   "outputs": [
    {
     "data": {
      "text/plain": [
       "[]"
      ]
     },
     "execution_count": 560,
     "metadata": {},
     "output_type": "execute_result"
    }
   ],
   "source": [
    "glob.glob(\"rec_lattice_bounds/prof*.txt\")"
   ]
  },
  {
   "cell_type": "code",
   "execution_count": 572,
   "metadata": {},
   "outputs": [
    {
     "ename": "IndexError",
     "evalue": "list index out of range",
     "output_type": "error",
     "traceback": [
      "\u001b[0;31m---------------------------------------------------------------------------\u001b[0m",
      "\u001b[0;31mIndexError\u001b[0m                                Traceback (most recent call last)",
      "\u001b[0;32m<ipython-input-572-75f41063e7e3>\u001b[0m in \u001b[0;36m<module>\u001b[0;34m()\u001b[0m\n\u001b[0;32m----> 1\u001b[0;31m \u001b[0mglob\u001b[0m\u001b[0;34m.\u001b[0m\u001b[0mglob\u001b[0m\u001b[0;34m(\u001b[0m\u001b[0;34m\"rec_lattice_bounds/prof*.txt\"\u001b[0m\u001b[0;34m)\u001b[0m\u001b[0;34m[\u001b[0m\u001b[0;36m8\u001b[0m\u001b[0;34m]\u001b[0m\u001b[0;34m\u001b[0m\u001b[0;34m\u001b[0m\u001b[0m\n\u001b[0m",
      "\u001b[0;31mIndexError\u001b[0m: list index out of range"
     ]
    }
   ],
   "source": [
    "glob.glob(\"rec_lattice_bounds/prof*.txt\")[8]"
   ]
  },
  {
   "cell_type": "code",
   "execution_count": 567,
   "metadata": {},
   "outputs": [
    {
     "data": {
      "text/plain": [
       "83"
      ]
     },
     "execution_count": 567,
     "metadata": {},
     "output_type": "execute_result"
    }
   ],
   "source": [
    "len(f)"
   ]
  },
  {
   "cell_type": "code",
   "execution_count": 628,
   "metadata": {},
   "outputs": [],
   "source": [
    "f_x[f_x>thresh]=1\n",
    "f_x[f_x<(1-thresh)]=0\n",
    "f_x[((f_x != 0) & (f_x != 1))]=.5"
   ]
  },
  {
   "cell_type": "code",
   "execution_count": 621,
   "metadata": {},
   "outputs": [],
   "source": [
    "thresh =.9"
   ]
  },
  {
   "cell_type": "code",
   "execution_count": 629,
   "metadata": {},
   "outputs": [
    {
     "data": {
      "text/plain": [
       "array([0. , 1. , 1. , 0.5, 0. , 0. , 0. , 0.5, 0.5, 0. , 0.5, 0.5, 0. ,\n",
       "       0. , 0. , 0.5, 0.5, 0. , 0. , 0. , 0. , 0. , 0. , 0. , 0. , 0. ,\n",
       "       0. , 0. , 0. , 0. , 0.5, 0.5, 0.5, 0.5, 1. , 0.5, 0.5, 0.5, 1. ,\n",
       "       0.5])"
      ]
     },
     "execution_count": 629,
     "metadata": {},
     "output_type": "execute_result"
    }
   ],
   "source": [
    "f_x"
   ]
  },
  {
   "cell_type": "code",
   "execution_count": 638,
   "metadata": {},
   "outputs": [
    {
     "data": {
      "text/plain": [
       "14"
      ]
     },
     "execution_count": 638,
     "metadata": {},
     "output_type": "execute_result"
    }
   ],
   "source": [
    "np.sum(np.diff(f_x)!=0)+1"
   ]
  },
  {
   "cell_type": "code",
   "execution_count": 635,
   "metadata": {},
   "outputs": [
    {
     "data": {
      "text/plain": [
       "array([0. , 1. , 1. , 0.5, 0. , 0. , 0. , 0.5, 0.5, 0. , 0.5, 0.5, 0. ,\n",
       "       0. , 0. , 0.5, 0.5, 0. , 0. , 0. , 0. , 0. , 0. , 0. , 0. , 0. ,\n",
       "       0. , 0. , 0. , 0. , 0.5, 0.5, 0.5, 0.5, 1. , 0.5, 0.5, 0.5, 1. ,\n",
       "       0.5])"
      ]
     },
     "execution_count": 635,
     "metadata": {},
     "output_type": "execute_result"
    }
   ],
   "source": [
    "f_x"
   ]
  },
  {
   "cell_type": "code",
   "execution_count": 636,
   "metadata": {},
   "outputs": [
    {
     "data": {
      "text/plain": [
       "array([ 1. ,  0. , -0.5, -0.5,  0. ,  0. ,  0.5,  0. , -0.5,  0.5,  0. ,\n",
       "       -0.5,  0. ,  0. ,  0.5,  0. , -0.5,  0. ,  0. ,  0. ,  0. ,  0. ,\n",
       "        0. ,  0. ,  0. ,  0. ,  0. ,  0. ,  0. ,  0.5,  0. ,  0. ,  0. ,\n",
       "        0.5, -0.5,  0. ,  0. ,  0.5, -0.5])"
      ]
     },
     "execution_count": 636,
     "metadata": {},
     "output_type": "execute_result"
    }
   ],
   "source": [
    "np.diff(f_x)\n"
   ]
  },
  {
   "cell_type": "code",
   "execution_count": 647,
   "metadata": {},
   "outputs": [],
   "source": [
    "counts = np.bincount((f_x*2).astype(int),minlength=2)"
   ]
  },
  {
   "cell_type": "code",
   "execution_count": 649,
   "metadata": {},
   "outputs": [
    {
     "data": {
      "text/plain": [
       "array([0.525, 0.375, 0.1  ])"
      ]
     },
     "execution_count": 649,
     "metadata": {},
     "output_type": "execute_result"
    }
   ],
   "source": [
    "counts/np.sum(counts)"
   ]
  },
  {
   "cell_type": "code",
   "execution_count": 645,
   "metadata": {},
   "outputs": [],
   "source": [
    "np.bincount?"
   ]
  },
  {
   "cell_type": "code",
   "execution_count": 665,
   "metadata": {},
   "outputs": [
    {
     "data": {
      "text/plain": [
       "array([0.        , 1.        , 1.        , 0.5       , 0.05      ,\n",
       "       0.        , 0.04347826, 0.1       , 0.125     , 0.09090909,\n",
       "       0.125     , 0.13333333, 0.        , 0.        , 0.        ,\n",
       "       0.22222222, 0.5       , 0.        , 0.        , 0.        ,\n",
       "       0.        , 0.        , 0.        , 0.        , 0.        ,\n",
       "       0.        , 0.        , 0.        , 0.        , 0.        ,\n",
       "       0.11111111, 0.5       , 0.5       , 0.625     , 1.        ,\n",
       "       0.86666667, 0.16666667, 0.28571429, 1.        , 0.75      ])"
      ]
     },
     "execution_count": 665,
     "metadata": {},
     "output_type": "execute_result"
    }
   ],
   "source": [
    "f_x"
   ]
  },
  {
   "cell_type": "code",
   "execution_count": null,
   "metadata": {},
   "outputs": [],
   "source": []
  }
 ],
 "metadata": {
  "kernelspec": {
   "display_name": "Python 3",
   "language": "python",
   "name": "python3"
  },
  "language_info": {
   "codemirror_mode": {
    "name": "ipython",
    "version": 3
   },
   "file_extension": ".py",
   "mimetype": "text/x-python",
   "name": "python",
   "nbconvert_exporter": "python",
   "pygments_lexer": "ipython3",
   "version": "3.7.2"
  }
 },
 "nbformat": 4,
 "nbformat_minor": 2
}
