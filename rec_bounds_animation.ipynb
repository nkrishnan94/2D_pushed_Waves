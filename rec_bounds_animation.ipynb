{
 "cells": [
  {
   "cell_type": "code",
   "execution_count": 94,
   "metadata": {},
   "outputs": [],
   "source": [
    "import pandas as pd\n",
    "import numpy as np\n",
    "import glob\n",
    "import os\n",
    "import seaborn as sns\n",
    "import matplotlib.pyplot as plt\n",
    "from scipy.optimize import curve_fit\n",
    "import scipy\n",
    "import statsmodels.api as sm\n",
    "from sklearn import linear_model\n",
    "from profFuncs import*\n",
    "\n",
    "import matplotlib.animation as animation\n",
    "from matplotlib import colors\n"
   ]
  },
  {
   "cell_type": "code",
   "execution_count": 95,
   "metadata": {},
   "outputs": [],
   "source": [
    "files = glob.glob(\"radial_growth/prof_T*.txt\")\n"
   ]
  },
  {
   "cell_type": "code",
   "execution_count": 96,
   "metadata": {},
   "outputs": [
    {
     "data": {
      "text/plain": [
       "10"
      ]
     },
     "execution_count": 96,
     "metadata": {},
     "output_type": "execute_result"
    }
   ],
   "source": [
    "int(files[0].split(\"T\")[1].split(\"_\")[0])"
   ]
  },
  {
   "cell_type": "code",
   "execution_count": 97,
   "metadata": {},
   "outputs": [],
   "source": [
    "nums = []\n",
    "for f in files:\n",
    "    nums.append(int(f.split(\"T\")[1].split(\"_\")[0]))"
   ]
  },
  {
   "cell_type": "code",
   "execution_count": 88,
   "metadata": {},
   "outputs": [
    {
     "ename": "NameError",
     "evalue": "name 'filesB0' is not defined",
     "output_type": "error",
     "traceback": [
      "\u001b[0;31m---------------------------------------------------------------------------\u001b[0m",
      "\u001b[0;31mNameError\u001b[0m                                 Traceback (most recent call last)",
      "\u001b[0;32m<ipython-input-88-249653af655f>\u001b[0m in \u001b[0;36m<module>\u001b[0;34m()\u001b[0m\n\u001b[0;32m----> 1\u001b[0;31m \u001b[0mgraphTot\u001b[0m\u001b[0;34m(\u001b[0m\u001b[0mprofFileToArray\u001b[0m\u001b[0;34m(\u001b[0m\u001b[0mfilesB0\u001b[0m\u001b[0;34m[\u001b[0m\u001b[0;36m0\u001b[0m\u001b[0;34m]\u001b[0m\u001b[0;34m,\u001b[0m\u001b[0;36m120\u001b[0m\u001b[0;34m,\u001b[0m\u001b[0;36m40\u001b[0m\u001b[0;34m)\u001b[0m\u001b[0;34m)\u001b[0m\u001b[0;34m\u001b[0m\u001b[0;34m\u001b[0m\u001b[0m\n\u001b[0m",
      "\u001b[0;31mNameError\u001b[0m: name 'filesB0' is not defined"
     ]
    }
   ],
   "source": [
    "graphTot(profFileToArray(filesB0[0],120,40))"
   ]
  },
  {
   "cell_type": "code",
   "execution_count": 43,
   "metadata": {},
   "outputs": [
    {
     "ename": "NameError",
     "evalue": "name 'filesB0' is not defined",
     "output_type": "error",
     "traceback": [
      "\u001b[0;31m---------------------------------------------------------------------------\u001b[0m",
      "\u001b[0;31mNameError\u001b[0m                                 Traceback (most recent call last)",
      "\u001b[0;32m<ipython-input-43-04bf60620b40>\u001b[0m in \u001b[0;36m<module>\u001b[0;34m()\u001b[0m\n\u001b[0;32m----> 1\u001b[0;31m \u001b[0mgraphFreq\u001b[0m\u001b[0;34m(\u001b[0m\u001b[0marrToFreq\u001b[0m\u001b[0;34m(\u001b[0m\u001b[0mprofFileToArray\u001b[0m\u001b[0;34m(\u001b[0m\u001b[0mfilesB0\u001b[0m\u001b[0;34m[\u001b[0m\u001b[0;36m0\u001b[0m\u001b[0;34m]\u001b[0m\u001b[0;34m,\u001b[0m\u001b[0;36m120\u001b[0m\u001b[0;34m,\u001b[0m\u001b[0;36m40\u001b[0m\u001b[0;34m)\u001b[0m\u001b[0;34m)\u001b[0m\u001b[0;34m)\u001b[0m\u001b[0;34m\u001b[0m\u001b[0;34m\u001b[0m\u001b[0m\n\u001b[0m",
      "\u001b[0;31mNameError\u001b[0m: name 'filesB0' is not defined"
     ]
    }
   ],
   "source": [
    "graphFreq(arrToFreq(profFileToArray(filesB0[0],120,40)))"
   ]
  },
  {
   "cell_type": "code",
   "execution_count": 44,
   "metadata": {},
   "outputs": [
    {
     "ename": "NameError",
     "evalue": "name 'filesB10' is not defined",
     "output_type": "error",
     "traceback": [
      "\u001b[0;31m---------------------------------------------------------------------------\u001b[0m",
      "\u001b[0;31mNameError\u001b[0m                                 Traceback (most recent call last)",
      "\u001b[0;32m<ipython-input-44-d0ae41a5eb1e>\u001b[0m in \u001b[0;36m<module>\u001b[0;34m()\u001b[0m\n\u001b[0;32m----> 1\u001b[0;31m \u001b[0mgraphTot\u001b[0m\u001b[0;34m(\u001b[0m\u001b[0mprofFileToArray\u001b[0m\u001b[0;34m(\u001b[0m\u001b[0mfilesB10\u001b[0m\u001b[0;34m[\u001b[0m\u001b[0;36m0\u001b[0m\u001b[0;34m]\u001b[0m\u001b[0;34m,\u001b[0m\u001b[0;36m120\u001b[0m\u001b[0;34m,\u001b[0m\u001b[0;36m40\u001b[0m\u001b[0;34m)\u001b[0m\u001b[0;34m)\u001b[0m\u001b[0;34m\u001b[0m\u001b[0;34m\u001b[0m\u001b[0m\n\u001b[0m",
      "\u001b[0;31mNameError\u001b[0m: name 'filesB10' is not defined"
     ]
    }
   ],
   "source": [
    "graphTot(profFileToArray(filesB10[0],120,40))"
   ]
  },
  {
   "cell_type": "code",
   "execution_count": 45,
   "metadata": {},
   "outputs": [
    {
     "ename": "NameError",
     "evalue": "name 'filesB10' is not defined",
     "output_type": "error",
     "traceback": [
      "\u001b[0;31m---------------------------------------------------------------------------\u001b[0m",
      "\u001b[0;31mNameError\u001b[0m                                 Traceback (most recent call last)",
      "\u001b[0;32m<ipython-input-45-fcfa8ef7d238>\u001b[0m in \u001b[0;36m<module>\u001b[0;34m()\u001b[0m\n\u001b[0;32m----> 1\u001b[0;31m \u001b[0mgraphFreq\u001b[0m\u001b[0;34m(\u001b[0m\u001b[0marrToFreq\u001b[0m\u001b[0;34m(\u001b[0m\u001b[0mprofFileToArray\u001b[0m\u001b[0;34m(\u001b[0m\u001b[0mfilesB10\u001b[0m\u001b[0;34m[\u001b[0m\u001b[0;36m0\u001b[0m\u001b[0;34m]\u001b[0m\u001b[0;34m,\u001b[0m\u001b[0;36m120\u001b[0m\u001b[0;34m,\u001b[0m\u001b[0;36m40\u001b[0m\u001b[0;34m)\u001b[0m\u001b[0;34m)\u001b[0m\u001b[0;34m)\u001b[0m\u001b[0;34m\u001b[0m\u001b[0;34m\u001b[0m\u001b[0m\n\u001b[0m",
      "\u001b[0;31mNameError\u001b[0m: name 'filesB10' is not defined"
     ]
    }
   ],
   "source": [
    "graphFreq(arrToFreq(profFileToArray(filesB10[0],120,40)))"
   ]
  },
  {
   "cell_type": "code",
   "execution_count": 14,
   "metadata": {},
   "outputs": [
    {
     "name": "stderr",
     "output_type": "stream",
     "text": [
      "/Users/nikhilkrishnan/Dropbox/Research/pushed_waves/2d pushed waves/profFuncs.py:81: RuntimeWarning: invalid value encountered in true_divide\n",
      "  return arr_[:,:,0]/(arr_[:,:,1]+arr_[:,:,0])\n"
     ]
    },
    {
     "data": {
      "text/plain": [
       "<matplotlib.image.AxesImage at 0x1c18eeda90>"
      ]
     },
     "execution_count": 14,
     "metadata": {},
     "output_type": "execute_result"
    },
    {
     "data": {
      "image/png": "[encoded data removed]",
      "text/plain": [
       "<Figure size 432x288 with 1 Axes>"
      ]
     },
     "metadata": {
      "needs_background": "light"
     },
     "output_type": "display_data"
    }
   ],
   "source": [
    "plt.imshow(arrToFreq(profFileToArray(files[-4],400,400)).T,vmin=0,vmax =1)"
   ]
  },
  {
   "cell_type": "code",
   "execution_count": 15,
   "metadata": {},
   "outputs": [
    {
     "name": "stderr",
     "output_type": "stream",
     "text": [
      "/Users/nikhilkrishnan/anaconda3/lib/python3.7/site-packages/ipykernel_launcher.py:6: RuntimeWarning: divide by zero encountered in log10\n",
      "  \n",
      "/Users/nikhilkrishnan/anaconda3/lib/python3.7/site-packages/matplotlib/colorbar.py:217: UserWarning: Use the colorbar set_ticks() method instead.\n",
      "  warnings.warn(\"Use the colorbar set_ticks() method instead.\")\n"
     ]
    },
    {
     "data": {
      "image/png": "[encoded data removed]",
      "text/plain": [
       "<Figure size 432x288 with 2 Axes>"
      ]
     },
     "metadata": {
      "needs_background": "light"
     },
     "output_type": "display_data"
    }
   ],
   "source": [
    "fig,ax  = plt.subplots()\n",
    "\n",
    "\n",
    "\n",
    "ims = []\n",
    "im = ax.imshow(np.log10(np.zeros((400,400))),vmin=0,vmax=10000000)\n",
    "ax.grid(False)\n",
    "ax.set_xticks([])\n",
    "ax.set_yticks([])\n",
    "cbar= plt.colorbar(im,orientation = 'horizontal',ticks = [0,2500,5000,7500,10000])\n",
    "\n",
    "cbar.ax.set_xticks([0,2500,5000,7500,10000],fontsize=14)\n",
    "cbar.ax.set_xticklabels(['0','1','2','3','4'],fontsize=14)\n",
    "cbar.set_label('$log_{10} n$',fontsize = 16)\n",
    "\n",
    "for f in files:\n",
    "    im = ax.imshow(np.sum(profFileToArray(f,400,400),axis=2).T,vmin=0,vmax =np.log10(10000000))\n",
    "    ims.append([im])\n",
    "\n",
    "    ax.grid(False)\n",
    "    ax.set_xticks([])\n",
    "    ax.set_yticks([])\n",
    "\n",
    "    \n",
    "    \n",
    "ani = animation.ArtistAnimation(fig, ims, interval=300, blit=True,\n",
    "                                repeat_delay=500)\n",
    "\n",
    "\n",
    "ani.save(\"ims.gif\", writer='imagemagick')"
   ]
  },
  {
   "cell_type": "code",
   "execution_count": 98,
   "metadata": {},
   "outputs": [
    {
     "name": "stderr",
     "output_type": "stream",
     "text": [
      "/Users/nikhilkrishnan/anaconda3/lib/python3.7/site-packages/ipykernel_launcher.py:6: RuntimeWarning: divide by zero encountered in log10\n",
      "  \n",
      "/Users/nikhilkrishnan/anaconda3/lib/python3.7/site-packages/matplotlib/colorbar.py:217: UserWarning: Use the colorbar set_ticks() method instead.\n",
      "  warnings.warn(\"Use the colorbar set_ticks() method instead.\")\n",
      "/Users/nikhilkrishnan/Dropbox/Research/pushed_waves/2d pushed waves/profFuncs.py:81: RuntimeWarning: invalid value encountered in true_divide\n",
      "  return arr_[:,:,0]/(arr_[:,:,1]+arr_[:,:,0])\n"
     ]
    },
    {
     "data": {
      "image/png": "[encoded data removed]",
      "text/plain": [
       "<Figure size 432x288 with 2 Axes>"
      ]
     },
     "metadata": {
      "needs_background": "light"
     },
     "output_type": "display_data"
    }
   ],
   "source": [
    "fig,ax  = plt.subplots()\n",
    "\n",
    "\n",
    "\n",
    "ims = []\n",
    "im = ax.imshow(np.log10(np.zeros((400,400))),vmin=0,vmax=1)\n",
    "ax.grid(False)\n",
    "ax.set_xticks([])\n",
    "ax.set_yticks([])\n",
    "cbar= plt.colorbar(im,orientation = 'horizontal',ticks=[0,1])\n",
    "\n",
    "cbar.ax.set_xticks([0,1],fontsize=14)\n",
    "cbar.ax.set_xticklabels(['0','1'],fontsize=14)\n",
    "cbar.set_label('$f_a$',fontsize = 16)\n",
    "\n",
    "for f in np.array(files)[np.argsort(nums)]:\n",
    "    im = ax.imshow(arrToFreq(profFileToArray(f,400,400)).T,vmin=0,vmax =1)\n",
    "    ims.append([im])\n",
    "\n",
    "    ax.grid(False)\n",
    "    ax.set_xticks([])\n",
    "    ax.set_yticks([])\n",
    "\n",
    "    \n",
    "    \n",
    "ani = animation.ArtistAnimation(fig, ims, interval=50, blit=True,\n",
    "                                repeat_delay=500)\n",
    "\n",
    "\n",
    "ani.save(\"ims_freq.gif\", writer='imagemagick')"
   ]
  },
  {
   "cell_type": "code",
   "execution_count": null,
   "metadata": {},
   "outputs": [],
   "source": []
  }
 ],
 "metadata": {
  "kernelspec": {
   "display_name": "Python 3",
   "language": "python",
   "name": "python3"
  },
  "language_info": {
   "codemirror_mode": {
    "name": "ipython",
    "version": 3
   },
   "file_extension": ".py",
   "mimetype": "text/x-python",
   "name": "python",
   "nbconvert_exporter": "python",
   "pygments_lexer": "ipython3",
   "version": "3.7.2"
  }
 },
 "nbformat": 4,
 "nbformat_minor": 2
}
