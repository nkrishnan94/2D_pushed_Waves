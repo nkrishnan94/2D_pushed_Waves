{
 "cells": [
  {
   "cell_type": "code",
   "execution_count": 1,
   "metadata": {},
   "outputs": [],
   "source": [
    "import numpy as np\n",
    "import matplotlib.pyplot as plt\n",
    "from scipy.special import erf as erf\n",
    "from scipy.integrate import quad as quad\n",
    "from scipy.integrate import simps as simps\n"
   ]
  },
  {
   "cell_type": "code",
   "execution_count": 2,
   "metadata": {},
   "outputs": [],
   "source": [
    "Nr = lambda v , Dg , H0, R0, Ds: (2*np.pi*v) / Dg + H0*np.sqrt( ( 2*np.pi*R0*v)/Ds)"
   ]
  },
  {
   "cell_type": "code",
   "execution_count": 3,
   "metadata": {},
   "outputs": [],
   "source": [
    "Lg = lambda Ds, R0, v, t, Dg, H:(4*Ds) / (Dg*(R0+v*t)*H)\n"
   ]
  },
  {
   "cell_type": "code",
   "execution_count": 4,
   "metadata": {},
   "outputs": [],
   "source": [
    "allee = lambda n,r ,B,K: r*(1-n/K)*(n/B-1)"
   ]
  },
  {
   "cell_type": "code",
   "execution_count": 5,
   "metadata": {},
   "outputs": [
    {
     "data": {
      "text/plain": [
       "8"
      ]
     },
     "execution_count": 5,
     "metadata": {},
     "output_type": "execute_result"
    }
   ],
   "source": [
    "2 +3 +\\\n",
    "3"
   ]
  },
  {
   "cell_type": "code",
   "execution_count": 6,
   "metadata": {},
   "outputs": [
    {
     "data": {
      "text/plain": [
       "[<matplotlib.lines.Line2D at 0x112ba8160>]"
      ]
     },
     "execution_count": 6,
     "metadata": {},
     "output_type": "execute_result"
    },
    {
     "data": {
      "image/png": "[encoded data removed]",
      "text/plain": [
       "<Figure size 432x288 with 1 Axes>"
      ]
     },
     "metadata": {
      "needs_background": "light"
     },
     "output_type": "display_data"
    }
   ],
   "source": [
    "plt.plot([allee(n,.01,.08 ,1000) for n in np.linspace(0,1000,1001)])"
   ]
  },
  {
   "cell_type": "code",
   "execution_count": 7,
   "metadata": {},
   "outputs": [],
   "source": [
    "#def Ht_p (sig, H0,t ):\n",
    "    \n",
    "\n",
    "def Ht_0( sig, H0,t ):\n",
    "    \n",
    "    Hint =lambda x: np.exp(-x/8)*np.arcsin(1 / np.sqrt(a))\n",
    "    a = 1+sig*t \n",
    "    \n",
    "    result = H0 - ((H0*np.sqrt(a))/np.sqrt(2*np.pi*sig) ) * (np.pi/2 - np.arcsin(1/np.sqrt(a))) +\\\n",
    "    H0*np.sqrt( (np.pi*a )/ (8*sig)) * np.exp(a / (8*sig)) * (erf(np.sqrt(a / (8*sig)) ) -erf(1/np.sqrt(8*sig))) -\\\n",
    "    H0*np.sqrt((np.pi*a) / (8*sig))* (np.exp(t/8) -1) + H0 * np.sqrt(a/(128*np.pi*sig))*np.exp(t/8)* simps(Ht_int,\n",
    "                                                                                                           np.linspace(0,t,1000))\n",
    "    \n",
    "    \n",
    "     \n",
    "    return result"
   ]
  },
  {
   "cell_type": "code",
   "execution_count": null,
   "metadata": {},
   "outputs": [],
   "source": [
    "1/np"
   ]
  },
  {
   "cell_type": "code",
   "execution_count": 254,
   "metadata": {},
   "outputs": [
    {
     "data": {
      "text/plain": [
       "[<matplotlib.lines.Line2D at 0x151a2a8128>]"
      ]
     },
     "execution_count": 254,
     "metadata": {},
     "output_type": "execute_result"
    },
    {
     "data": {
      "image/png": "[encoded data removed]",
      "text/plain": [
       "<Figure size 432x288 with 1 Axes>"
      ]
     },
     "metadata": {
      "needs_background": "light"
     },
     "output_type": "display_data"
    }
   ],
   "source": [
    "plt.plot(1/(np.linspace(0,2,1000) +.0001))"
   ]
  },
  {
   "cell_type": "code",
   "execution_count": 15,
   "metadata": {},
   "outputs": [
    {
     "ename": "IndexError",
     "evalue": "tuple index out of range",
     "output_type": "error",
     "traceback": [
      "\u001b[0;31m---------------------------------------------------------------------------\u001b[0m",
      "\u001b[0;31mIndexError\u001b[0m                                Traceback (most recent call last)",
      "\u001b[0;32m<ipython-input-15-eb4290db3b19>\u001b[0m in \u001b[0;36m<module>\u001b[0;34m()\u001b[0m\n\u001b[1;32m      1\u001b[0m \u001b[0mt\u001b[0m\u001b[0;34m=\u001b[0m\u001b[0;36m100\u001b[0m\u001b[0;34m\u001b[0m\u001b[0;34m\u001b[0m\u001b[0m\n\u001b[0;32m----> 2\u001b[0;31m \u001b[0msimps\u001b[0m\u001b[0;34m(\u001b[0m\u001b[0mHt_int\u001b[0m\u001b[0;34m,\u001b[0m\u001b[0mnp\u001b[0m\u001b[0;34m.\u001b[0m\u001b[0mlinspace\u001b[0m\u001b[0;34m(\u001b[0m\u001b[0;36m0\u001b[0m\u001b[0;34m,\u001b[0m\u001b[0mt\u001b[0m\u001b[0;34m,\u001b[0m\u001b[0;36m1000\u001b[0m\u001b[0;34m)\u001b[0m \u001b[0;34m)\u001b[0m\u001b[0;34m\u001b[0m\u001b[0;34m\u001b[0m\u001b[0m\n\u001b[0m",
      "\u001b[0;32m~/anaconda3/lib/python3.7/site-packages/scipy/integrate/quadrature.py\u001b[0m in \u001b[0;36msimps\u001b[0;34m(y, x, dx, axis, even)\u001b[0m\n\u001b[1;32m    404\u001b[0m     \u001b[0my\u001b[0m \u001b[0;34m=\u001b[0m \u001b[0mnp\u001b[0m\u001b[0;34m.\u001b[0m\u001b[0masarray\u001b[0m\u001b[0;34m(\u001b[0m\u001b[0my\u001b[0m\u001b[0;34m)\u001b[0m\u001b[0;34m\u001b[0m\u001b[0;34m\u001b[0m\u001b[0m\n\u001b[1;32m    405\u001b[0m     \u001b[0mnd\u001b[0m \u001b[0;34m=\u001b[0m \u001b[0mlen\u001b[0m\u001b[0;34m(\u001b[0m\u001b[0my\u001b[0m\u001b[0;34m.\u001b[0m\u001b[0mshape\u001b[0m\u001b[0;34m)\u001b[0m\u001b[0;34m\u001b[0m\u001b[0;34m\u001b[0m\u001b[0m\n\u001b[0;32m--> 406\u001b[0;31m     \u001b[0mN\u001b[0m \u001b[0;34m=\u001b[0m \u001b[0my\u001b[0m\u001b[0;34m.\u001b[0m\u001b[0mshape\u001b[0m\u001b[0;34m[\u001b[0m\u001b[0maxis\u001b[0m\u001b[0;34m]\u001b[0m\u001b[0;34m\u001b[0m\u001b[0;34m\u001b[0m\u001b[0m\n\u001b[0m\u001b[1;32m    407\u001b[0m     \u001b[0mlast_dx\u001b[0m \u001b[0;34m=\u001b[0m \u001b[0mdx\u001b[0m\u001b[0;34m\u001b[0m\u001b[0;34m\u001b[0m\u001b[0m\n\u001b[1;32m    408\u001b[0m     \u001b[0mfirst_dx\u001b[0m \u001b[0;34m=\u001b[0m \u001b[0mdx\u001b[0m\u001b[0;34m\u001b[0m\u001b[0;34m\u001b[0m\u001b[0m\n",
      "\u001b[0;31mIndexError\u001b[0m: tuple index out of range"
     ]
    }
   ],
   "source": [
    "t=100\n",
    "simps(Ht_int,np.linspace(0,t,1000) )"
   ]
  },
  {
   "cell_type": "code",
   "execution_count": 144,
   "metadata": {},
   "outputs": [
    {
     "ename": "IndexError",
     "evalue": "tuple index out of range",
     "output_type": "error",
     "traceback": [
      "\u001b[0;31m---------------------------------------------------------------------------\u001b[0m",
      "\u001b[0;31mIndexError\u001b[0m                                Traceback (most recent call last)",
      "\u001b[0;32m<ipython-input-144-26c54a4d1595>\u001b[0m in \u001b[0;36m<module>\u001b[0;34m()\u001b[0m\n\u001b[0;32m----> 1\u001b[0;31m \u001b[0mplt\u001b[0m\u001b[0;34m.\u001b[0m\u001b[0mplot\u001b[0m\u001b[0;34m(\u001b[0m\u001b[0;34m[\u001b[0m\u001b[0mHt_0\u001b[0m\u001b[0;34m(\u001b[0m\u001b[0;36m1\u001b[0m\u001b[0;34m,\u001b[0m\u001b[0;36m.2\u001b[0m\u001b[0;34m,\u001b[0m\u001b[0mt\u001b[0m\u001b[0;34m)\u001b[0m \u001b[0;32mfor\u001b[0m \u001b[0mt\u001b[0m \u001b[0;32min\u001b[0m \u001b[0mnp\u001b[0m\u001b[0;34m.\u001b[0m\u001b[0mlinspace\u001b[0m\u001b[0;34m(\u001b[0m\u001b[0;36m0\u001b[0m\u001b[0;34m,\u001b[0m\u001b[0;36m100\u001b[0m\u001b[0;34m)\u001b[0m\u001b[0;34m]\u001b[0m\u001b[0;34m)\u001b[0m\u001b[0;34m\u001b[0m\u001b[0;34m\u001b[0m\u001b[0m\n\u001b[0m\u001b[1;32m      2\u001b[0m \u001b[0mplt\u001b[0m\u001b[0;34m.\u001b[0m\u001b[0myscale\u001b[0m\u001b[0;34m(\u001b[0m\u001b[0;34m'log'\u001b[0m\u001b[0;34m)\u001b[0m\u001b[0;34m\u001b[0m\u001b[0;34m\u001b[0m\u001b[0m\n",
      "\u001b[0;32m<ipython-input-144-26c54a4d1595>\u001b[0m in \u001b[0;36m<listcomp>\u001b[0;34m(.0)\u001b[0m\n\u001b[0;32m----> 1\u001b[0;31m \u001b[0mplt\u001b[0m\u001b[0;34m.\u001b[0m\u001b[0mplot\u001b[0m\u001b[0;34m(\u001b[0m\u001b[0;34m[\u001b[0m\u001b[0mHt_0\u001b[0m\u001b[0;34m(\u001b[0m\u001b[0;36m1\u001b[0m\u001b[0;34m,\u001b[0m\u001b[0;36m.2\u001b[0m\u001b[0;34m,\u001b[0m\u001b[0mt\u001b[0m\u001b[0;34m)\u001b[0m \u001b[0;32mfor\u001b[0m \u001b[0mt\u001b[0m \u001b[0;32min\u001b[0m \u001b[0mnp\u001b[0m\u001b[0;34m.\u001b[0m\u001b[0mlinspace\u001b[0m\u001b[0;34m(\u001b[0m\u001b[0;36m0\u001b[0m\u001b[0;34m,\u001b[0m\u001b[0;36m100\u001b[0m\u001b[0;34m)\u001b[0m\u001b[0;34m]\u001b[0m\u001b[0;34m)\u001b[0m\u001b[0;34m\u001b[0m\u001b[0;34m\u001b[0m\u001b[0m\n\u001b[0m\u001b[1;32m      2\u001b[0m \u001b[0mplt\u001b[0m\u001b[0;34m.\u001b[0m\u001b[0myscale\u001b[0m\u001b[0;34m(\u001b[0m\u001b[0;34m'log'\u001b[0m\u001b[0;34m)\u001b[0m\u001b[0;34m\u001b[0m\u001b[0;34m\u001b[0m\u001b[0m\n",
      "\u001b[0;32m<ipython-input-7-fedaba8c1646>\u001b[0m in \u001b[0;36mHt_0\u001b[0;34m(sig, H0, t)\u001b[0m\n\u001b[1;32m      8\u001b[0m \u001b[0;34m\u001b[0m\u001b[0m\n\u001b[1;32m      9\u001b[0m     result = H0 - ((H0*np.sqrt(a))/np.sqrt(2*np.pi*sig) ) * (np.pi/2 - np.arcsin(1/np.sqrt(a))) +    H0*np.sqrt( (np.pi*a )/ (8*sig)) * np.exp(a / (8*sig)) * (erf(np.sqrt(a / (8*sig)) ) -erf(1/np.sqrt(8*sig))) -    H0*np.sqrt((np.pi*a) / (8*sig))* (np.exp(t/8) -1) + H0 * np.sqrt(a/(128*np.pi*sig))*np.exp(t/8)* simps(Ht_int,\n\u001b[0;32m---> 10\u001b[0;31m                                                                                                            np.linspace(0,t,1000))\n\u001b[0m\u001b[1;32m     11\u001b[0m \u001b[0;34m\u001b[0m\u001b[0m\n\u001b[1;32m     12\u001b[0m \u001b[0;34m\u001b[0m\u001b[0m\n",
      "\u001b[0;32m~/anaconda3/lib/python3.7/site-packages/scipy/integrate/quadrature.py\u001b[0m in \u001b[0;36msimps\u001b[0;34m(y, x, dx, axis, even)\u001b[0m\n\u001b[1;32m    404\u001b[0m     \u001b[0my\u001b[0m \u001b[0;34m=\u001b[0m \u001b[0mnp\u001b[0m\u001b[0;34m.\u001b[0m\u001b[0masarray\u001b[0m\u001b[0;34m(\u001b[0m\u001b[0my\u001b[0m\u001b[0;34m)\u001b[0m\u001b[0;34m\u001b[0m\u001b[0;34m\u001b[0m\u001b[0m\n\u001b[1;32m    405\u001b[0m     \u001b[0mnd\u001b[0m \u001b[0;34m=\u001b[0m \u001b[0mlen\u001b[0m\u001b[0;34m(\u001b[0m\u001b[0my\u001b[0m\u001b[0;34m.\u001b[0m\u001b[0mshape\u001b[0m\u001b[0;34m)\u001b[0m\u001b[0;34m\u001b[0m\u001b[0;34m\u001b[0m\u001b[0m\n\u001b[0;32m--> 406\u001b[0;31m     \u001b[0mN\u001b[0m \u001b[0;34m=\u001b[0m \u001b[0my\u001b[0m\u001b[0;34m.\u001b[0m\u001b[0mshape\u001b[0m\u001b[0;34m[\u001b[0m\u001b[0maxis\u001b[0m\u001b[0;34m]\u001b[0m\u001b[0;34m\u001b[0m\u001b[0;34m\u001b[0m\u001b[0m\n\u001b[0m\u001b[1;32m    407\u001b[0m     \u001b[0mlast_dx\u001b[0m \u001b[0;34m=\u001b[0m \u001b[0mdx\u001b[0m\u001b[0;34m\u001b[0m\u001b[0;34m\u001b[0m\u001b[0m\n\u001b[1;32m    408\u001b[0m     \u001b[0mfirst_dx\u001b[0m \u001b[0;34m=\u001b[0m \u001b[0mdx\u001b[0m\u001b[0;34m\u001b[0m\u001b[0;34m\u001b[0m\u001b[0m\n",
      "\u001b[0;31mIndexError\u001b[0m: tuple index out of range"
     ]
    }
   ],
   "source": [
    "plt.plot([Ht_0(1,.2,t) for t in np.linspace(0,100)])\n"
   ]
  },
  {
   "cell_type": "code",
   "execution_count": 31,
   "metadata": {},
   "outputs": [],
   "source": [
    "Ht_1 = lambda sig, H0,t:H0 - ((H0*np.sqrt(1 + sig*t) )/ np.sqrt(2*np.pi*sig) )* (np.pi/2   - np.arcsin(1 / np.sqrt(1 + sig*t) ) )\n",
    "Ht_2 = lambda sig, H0,t: H0*np.sqrt(( np.pi*(1+sig*t) )/ (8*sig) ) * np.exp(( 1+sig*t ) / (8*sig ) )\n",
    "Ht_3 = lambda sig, H0,t: erf(np.sqrt( (1+sig*t)/ (8*sig ) )) - erf(1/np.sqrt(8*sig))\n",
    "Ht_4 = lambda sig, H0,t: H0*np.sqrt(( np.pi*(1+sig*t))/( 8*sig) ) * (np.exp(t/8) - 1 ) \n",
    "Ht_int =lambda x: np.exp(-x/8)*np.arcsin(1 / np.sqrt(1 + sig*x)) \n",
    "Ht_5 = lambda sig, H0, t: H0*np.sqrt( (1+sig*t)/ (128*sig*np.pi) ) * np.exp(t/8) *quad(Ht_int, 0, t)[0]\n",
    "\n",
    "Ht0 = lambda sig, H0,t: Ht_1(sig,H0,t) +Ht_2(sig,H0,t)*Ht_3(sig,H0,t) - Ht_4(sig,H0,t) + Ht_5(sig,H0,t)\n",
    "\n"
   ]
  },
  {
   "cell_type": "code",
   "execution_count": 145,
   "metadata": {},
   "outputs": [
    {
     "data": {
      "text/plain": [
       "[<matplotlib.lines.Line2D at 0x1519805748>]"
      ]
     },
     "execution_count": 145,
     "metadata": {},
     "output_type": "execute_result"
    },
    {
     "data": {
      "image/png": "[encoded data removed]",
      "text/plain": [
       "<Figure size 432x288 with 1 Axes>"
      ]
     },
     "metadata": {
      "needs_background": "light"
     },
     "output_type": "display_data"
    }
   ],
   "source": [
    "b=1\n",
    "c=-2\n",
    "t = np.linspace(5,1000,10001)\n",
    "plt.plot(b*(t+c)**-1)\n"
   ]
  },
  {
   "cell_type": "code",
   "execution_count": 106,
   "metadata": {},
   "outputs": [
    {
     "data": {
      "text/plain": [
       "0.000998003992015968"
      ]
     },
     "execution_count": 106,
     "metadata": {},
     "output_type": "execute_result"
    }
   ],
   "source": [
    "b*(t[-1]+c)**-1"
   ]
  },
  {
   "cell_type": "code",
   "execution_count": 109,
   "metadata": {},
   "outputs": [
    {
     "data": {
      "text/plain": [
       "[<matplotlib.lines.Line2D at 0x1517d9fb00>]"
      ]
     },
     "execution_count": 109,
     "metadata": {},
     "output_type": "execute_result"
    },
    {
     "data": {
      "image/png": "[encoded data removed]",
      "text/plain": [
       "<Figure size 432x288 with 1 Axes>"
      ]
     },
     "metadata": {
      "needs_background": "light"
     },
     "output_type": "display_data"
    }
   ],
   "source": [
    "t = np.linspace(5,100,10001)\n",
    "a= 1\n",
    "b=1\n",
    "c=-1\n",
    "plt.plot((a + b*t*(t+c)**-1))\n"
   ]
  },
  {
   "cell_type": "code",
   "execution_count": 197,
   "metadata": {},
   "outputs": [
    {
     "data": {
      "image/png": "[encoded data removed]",
      "text/plain": [
       "<Figure size 432x288 with 1 Axes>"
      ]
     },
     "metadata": {
      "needs_background": "light"
     },
     "output_type": "display_data"
    }
   ],
   "source": [
    "H0=.5\n",
    "sig=1\n",
    "\n",
    "plt.plot(np.linspace(0,200,1001),\n",
    "         [(Ht_1(sig,H0,t) + Ht_2(sig,H0,t)*Ht_3(sig,H0,t) - Ht_4(sig,H0,t) +Ht_5(sig,H0,t)) for t in np.linspace(0,200,1001)])\n",
    "t =np.linspace(0,130,1001)\n",
    "plt.plot(np.linspace(0,130,1001),H0*(6*np.sqrt(2*np.pi*sig)*(1 + sig*t) )**-1 )\n",
    "plt.xlabel('t',fontsize=14)\n",
    "plt.ylabel('$H(t,0)^{-1}$',fontsize=14)\n",
    "plt.tick_params(axis='x', labelsize=14)\n",
    "plt.tick_params(axis='y', labelsize=14)\n",
    "#plt.plot(np.linspace(0,100),\n",
    "#         [ Ht0(sig,H0,t) for t in np.linspace(0,100)])\n",
    "\n",
    "#plt.yscale('log')\n",
    "plt.grid()\n",
    "#m,b=np.polyfit(np.linspace(0,100), [1/Ht_1(sig,H0,t) for t in np.linspace(0,100)],1)\n",
    "\n",
    "#plt.plot(np.linspace(0,100),np.linspace(0,100)*m +b)"
   ]
  },
  {
   "cell_type": "code",
   "execution_count": null,
   "metadata": {},
   "outputs": [],
   "source": []
  },
  {
   "cell_type": "code",
   "execution_count": 416,
   "metadata": {},
   "outputs": [],
   "source": [
    "from scipy.optimize import curve_fit\n",
    "\n",
    "def hetLim (x,a,b ):\n",
    "        return a*(x+b)**-1"
   ]
  },
  {
   "cell_type": "code",
   "execution_count": 419,
   "metadata": {},
   "outputs": [
    {
     "data": {
      "text/plain": [
       "[<matplotlib.lines.Line2D at 0x152c2a4da0>]"
      ]
     },
     "execution_count": 419,
     "metadata": {},
     "output_type": "execute_result"
    },
    {
     "data": {
      "image/png": "[encoded data removed]",
      "text/plain": [
       "<Figure size 432x288 with 1 Axes>"
      ]
     },
     "metadata": {
      "needs_background": "light"
     },
     "output_type": "display_data"
    }
   ],
   "source": [
    "xdata = np.linspace(20,100)\n",
    "ydata = [ Ht0(sig,H0,t) for t in np.linspace(20,100)]\n",
    "plt.plot(xdata,ydata)\n",
    "popt, pcov = curve_fit(hetLim, xdata, ydata)\n",
    "\n",
    "popt\n",
    "\n",
    "plt.plot(xdata, hetLim(xdata, *popt), linestyle='--')"
   ]
  },
  {
   "cell_type": "code",
   "execution_count": 420,
   "metadata": {},
   "outputs": [
    {
     "data": {
      "text/plain": [
       "array([2.73011845, 9.98660445])"
      ]
     },
     "execution_count": 420,
     "metadata": {},
     "output_type": "execute_result"
    }
   ],
   "source": [
    "popt"
   ]
  },
  {
   "cell_type": "code",
   "execution_count": 381,
   "metadata": {},
   "outputs": [
    {
     "data": {
      "text/plain": [
       "[<matplotlib.lines.Line2D at 0x151f56b9b0>]"
      ]
     },
     "execution_count": 381,
     "metadata": {},
     "output_type": "execute_result"
    },
    {
     "data": {
      "image/png": "[encoded data removed]",
      "text/plain": [
       "<Figure size 432x288 with 1 Axes>"
      ]
     },
     "metadata": {
      "needs_background": "light"
     },
     "output_type": "display_data"
    }
   ],
   "source": [
    "plt.plot(np.linspace(0,150),\n",
    "         (np.array([ 1/(.02+.01*t*Ht0(sig,H0,t)) for t in np.linspace(0,150)]) ) )\n",
    " "
   ]
  },
  {
   "cell_type": "markdown",
   "metadata": {},
   "source": [
    "# plt.plot(1-np.exp(np.linspace(0,100,1000)))"
   ]
  },
  {
   "cell_type": "code",
   "execution_count": 152,
   "metadata": {},
   "outputs": [],
   "source": [
    "v=1\n",
    "R0=1\n",
    "Dg=1\n",
    "Ds = 1\n"
   ]
  },
  {
   "cell_type": "code",
   "execution_count": 117,
   "metadata": {},
   "outputs": [
    {
     "ename": "SyntaxError",
     "evalue": "invalid syntax (<ipython-input-117-cf83245cf827>, line 1)",
     "output_type": "error",
     "traceback": [
      "\u001b[0;36m  File \u001b[0;32m\"<ipython-input-117-cf83245cf827>\"\u001b[0;36m, line \u001b[0;32m1\u001b[0m\n\u001b[0;31m    4*Ds /\u001b[0m\n\u001b[0m           ^\u001b[0m\n\u001b[0;31mSyntaxError\u001b[0m\u001b[0;31m:\u001b[0m invalid syntax\n"
     ]
    }
   ],
   "source": [
    "4*Ds / "
   ]
  },
  {
   "cell_type": "code",
   "execution_count": 161,
   "metadata": {},
   "outputs": [
    {
     "data": {
      "text/plain": [
       "[<matplotlib.lines.Line2D at 0x15187467f0>]"
      ]
     },
     "execution_count": 161,
     "metadata": {},
     "output_type": "execute_result"
    },
    {
     "data": {
      "image/png": "[encoded data removed]",
      "text/plain": [
       "<Figure size 432x288 with 1 Axes>"
      ]
     },
     "metadata": {
      "needs_background": "light"
     },
     "output_type": "display_data"
    }
   ],
   "source": [
    "sig=1\n",
    "\n",
    "\n",
    "plt.plot([Ht0(1,.5,t) for t in np.linspace(0,500)])\n",
    "#plt.yscale('log')\n",
    "#plt.xscale('log')"
   ]
  },
  {
   "cell_type": "code",
   "execution_count": 108,
   "metadata": {},
   "outputs": [
    {
     "data": {
      "text/plain": [
       "[8.0,\n",
       " 3.583780915454508,\n",
       " 2.7540573635212384,\n",
       " 2.400902155483731,\n",
       " 2.201617826683265,\n",
       " 2.072439578359942,\n",
       " 1.9814264727941562,\n",
       " 1.9136170499943927,\n",
       " 1.8610244450879059,\n",
       " 1.8189781013921877,\n",
       " 1.7845561667017764,\n",
       " 1.7558330908422675,\n",
       " 1.7314862125911306,\n",
       " 1.7105757365313603,\n",
       " 1.692414892421386,\n",
       " 1.67648971101367,\n",
       " 1.6624076526902671,\n",
       " 1.6498636072908601,\n",
       " 1.638616562820778,\n",
       " 1.6284737434223313,\n",
       " 1.6192789335864435,\n",
       " 1.6109041581860646,\n",
       " 1.6032434974736958,\n",
       " 1.5962105774349644,\n",
       " 1.5897285202139393,\n",
       " 1.5837353883353928,\n",
       " 1.5781607708802787,\n",
       " 1.5729767327242719,\n",
       " 1.5681297770163507,\n",
       " 1.5635772780956463,\n",
       " 1.559279773729605,\n",
       " 1.5552040873425934,\n",
       " 1.5513409499454465,\n",
       " 1.5481250426252005,\n",
       " 1.5446604732820441,\n",
       " 1.5412330681865278,\n",
       " 1.5377032744084718,\n",
       " 1.5357462275608997,\n",
       " 1.5328634668969336,\n",
       " 1.5224228816739243,\n",
       " 1.512403425209776,\n",
       " 1.523342273238845,\n",
       " 1.5191655140169313,\n",
       " 1.5129015536865134,\n",
       " 1.5101973108420532,\n",
       " 1.499537890141,\n",
       " 1.4833696595641055,\n",
       " 1.4543022604904396,\n",
       " 1.3990875853874025,\n",
       " 1.3160433955349389]"
      ]
     },
     "execution_count": 108,
     "metadata": {},
     "output_type": "execute_result"
    }
   ],
   "source": [
    "t=0\n",
    "sig=1\n",
    "[Lg(Ds, R0, v, t, Dg, Ht0(1,.5,t)) for t in np.linspace(0,200)]"
   ]
  },
  {
   "cell_type": "code",
   "execution_count": 31,
   "metadata": {},
   "outputs": [],
   "source": [
    "Ht0 = lambda sig, H0,t: Ht_1(sig,H0,t) +Ht_2(sig,H0,t)*Ht_3(sig,H0,t) - Ht_4(sig,H0,t) + Ht_5(sig,H0,t)"
   ]
  },
  {
   "cell_type": "code",
   "execution_count": 36,
   "metadata": {},
   "outputs": [
    {
     "data": {
      "text/plain": [
       "<function __main__.<lambda>(sig, H0, t)>"
      ]
     },
     "execution_count": 36,
     "metadata": {},
     "output_type": "execute_result"
    }
   ],
   "source": [
    "Ht0()"
   ]
  },
  {
   "cell_type": "code",
   "execution_count": 266,
   "metadata": {},
   "outputs": [
    {
     "data": {
      "image/png": "[encoded data removed]",
      "text/plain": [
       "<Figure size 432x288 with 1 Axes>"
      ]
     },
     "metadata": {
      "needs_background": "light"
     },
     "output_type": "display_data"
    }
   ],
   "source": [
    "sig=1\n",
    "plt.plot(np.exp(-np.linspace(0,10,100)))\n",
    "plt.yscale('log')"
   ]
  },
  {
   "cell_type": "code",
   "execution_count": 140,
   "metadata": {},
   "outputs": [],
   "source": [
    "import matplotlib\n",
    "import matplotlib.pyplot as plt\n",
    "import numpy as np\n",
    "\n",
    "from scipy import integrate\n",
    "from matplotlib.colorbar import Colorbar\n",
    "\n",
    "def profile_decay(r, migr, B):\n",
    "    if B <= 2.0:\n",
    "        lm = np.sqrt(2.*r/migr)\n",
    "    else:\n",
    "        lm = np.sqrt(r*B/migr)\n",
    "    return lm\n",
    "\n",
    "def profile(gf, migr, fstr, x):\n",
    "    D = migr/2.\n",
    "    if fstr > -0.5:\n",
    "        prof = 1./(1. + np.exp(np.sqrt(gf/(2.*D))*x))\n",
    "    else:\n",
    "        prof = 1./(1. + np.exp(np.sqrt(gf*abs(fstr)/D)*x))\n",
    "    return prof\n",
    "\n",
    "def velocity(g, m, f):\n",
    "    D = m/2.\n",
    "    if f >= -0.5:\n",
    "        v = np.sqrt(D*g/2.)*(1 - 2.*f)\n",
    "    else:\n",
    "        v = 2.*np.sqrt(D*g*abs(f))\n",
    "    return v\n",
    "\n",
    "def velocity_Fisher(g, m, f):\n",
    "    D = m/2.\n",
    "    if f <= 0.0:\n",
    "        v_F = 2.*np.sqrt(D*g*abs(f))\n",
    "    else:\n",
    "        v_F = 0.\n",
    "    return v_F\n",
    "\n",
    "def v_coop(r, m, B):\n",
    "    D = m/2.\n",
    "    if B > 2.:\n",
    "        v = np.sqrt(D*r*B/2.)*(1 + 2./B)\n",
    "    else:\n",
    "        v = 2.*np.sqrt(D*r)\n",
    "    return v\n",
    "\n",
    "def vF_coop(r, m, B):\n",
    "    D = m/2.\n",
    "    vF = 2.*np.sqrt(D*r)\n",
    "    return vF\n",
    "\n",
    "def growth(g, f, x):\n",
    "    return g*(1 - x)*(x - f)\n",
    "\n",
    "def fixation_const(gf, migr, fstr, x_min, x_max, dx):\n",
    "    x_arr = np.arange(x_min, x_max, dx)\n",
    "    c_arr = profile(gf, migr, fstr, x_arr)\n",
    "    v = velocity(gf, migr, fstr)\n",
    "    D = migr/2.\n",
    "\n",
    "    prelim_prob = c_arr**2*np.exp(v*x_arr/D)\n",
    "    const = integrate.simps(prelim_prob, x_arr)\n",
    "    return const\n",
    "\n",
    "def fixation_probability(gf, migr, fstr, x_min, x_max, dx, x):\n",
    "    c = profile(gf, migr, fstr, x)\n",
    "    v = velocity(gf, migr, fstr)\n",
    "    D = migr/2.\n",
    "    const = fixation_const(gf, migr, fstr, x_min, x_max, dx)\n",
    "    prob = c**2*np.exp(v*x/D)/const\n",
    "    return prob\n",
    "\n",
    "def ancestral_probability(gf, migr, fstr, x_min, x_max, dx, x):\n",
    "    c = profile(gf, migr, fstr, x)\n",
    "    v = velocity(gf, migr, fstr)\n",
    "    D = migr/2.\n",
    "    const = fixation_const(gf, migr, fstr, x_min, x_max, dx)\n",
    "    prob = c**3*np.exp(2*v*x/D)/(const**2)\n",
    "    return prob\n",
    "\n",
    "def meanfield_cutoff(gf, migr, fstr, N):\n",
    "    D = migr/2.\n",
    "    if fstr > -0.5:\n",
    "        k = np.sqrt(gf/(2.*D))\n",
    "    else:\n",
    "        k = np.sqrt(gf*abs(fstr)/D)\n",
    "    return np.log(N)/k\n",
    "\n",
    "def fluctuations_cutoff(gf, migr, fstr, N):\n",
    "    D = migr/2.\n",
    "    if fstr > -0.5:\n",
    "        q = -2.*fstr*np.sqrt(gf/(2.*D))\n",
    "    else:\n",
    "        q = np.sqrt(gf*abs(fstr)/D)\n",
    "    return np.log(N)/q\n",
    "\n",
    "def Lambda_theory_cooperative(B, N):\n",
    "    return np.sqrt(0.01*B/0.25)*4*np.pi*np.tan(2*np.pi/B)/(B+4)/N\n",
    "\n",
    "def Lambda_theory_Allee(fstr, N, x_min, x_max, dx,gf,migr):\n",
    "    x_arr = np.arange(x_min, x_max, dx)\n",
    "    c_arr = profile(gf, migr, fstr, x_arr)\n",
    "    v = velocity(gf, migr, fstr)\n",
    "    D = migr/2.\n",
    "\n",
    "    const = fixation_const(gf, migr, fstr, x_min, x_max, dx)\n",
    "    function = c_arr**3*np.exp(2*v*x_arr/D)/(const**2)\n",
    "\n",
    "    Lambda = (1./N)*integrate.simps(function, x_arr)\n",
    "    return Lambda\n",
    "\n",
    "def Df_theory(r, m, B, N):\n",
    "    D = m/2.\n",
    "    x = 2./B\n",
    "    lm = profile_decay(r, 2*D, B)\n",
    "\n",
    "    const = 3/(20*np.pi*N*lm)\n",
    "    trig = np.tan(2*np.pi/B)\n",
    "    algebr = (B*(B+4.)*(3*B+4.))/((B+1.)*(B+2.))\n",
    "    return const*trig*algebr\n",
    "\n",
    "def det_metastable(a):\n",
    "    return 2*np.sqrt(a**2 + 4*(1. - a))/(a + np.sqrt(a**2 + 4*(1. - a)))\n",
    "\n",
    "def meanfield_exponent(f):\n",
    "    v = velocity(0.01, 0.25, f)\n",
    "    vF = velocity_Fisher(0.01, 0.25, f)\n",
    "    v_arr = v/vF\n",
    "    return v_arr, -2 - 4*f\n",
    "\n",
    "def fluctuations_exponent(f):\n",
    "    v = velocity(0.01, 0.25, f)\n",
    "    vF = velocity_Fisher(0.01, 0.25, f)\n",
    "    v_arr = v/vF\n",
    "    return v_arr, (1 + 2*f)/(2.*f)\n"
   ]
  },
  {
   "cell_type": "code",
   "execution_count": 427,
   "metadata": {},
   "outputs": [],
   "source": [
    "fstr = -0.15\n",
    "N=10000\n",
    "x_min=-100\n",
    "x_max = 40\n",
    "dx = .01\n",
    "gf = .04\n",
    "migr= .5\n",
    "\n",
    "x_arr = np.arange(x_min, x_max, dx)\n",
    "c_arr = profile(gf, migr, fstr, x_arr)\n",
    "v = velocity(gf, migr, fstr)\n",
    "D = migr/2.\n",
    "\n",
    "prelim_prob = c_arr**2*np.exp(v*x_arr/D)\n",
    "const = integrate.simps(prelim_prob, x_arr)"
   ]
  },
  {
   "cell_type": "code",
   "execution_count": 428,
   "metadata": {},
   "outputs": [
    {
     "data": {
      "text/plain": [
       "4.116939174487258"
      ]
     },
     "execution_count": 428,
     "metadata": {},
     "output_type": "execute_result"
    }
   ],
   "source": [
    "const"
   ]
  },
  {
   "cell_type": "code",
   "execution_count": 442,
   "metadata": {},
   "outputs": [],
   "source": [
    "fstr = -0.15\n",
    "N=10000\n",
    "x_min=-100\n",
    "x_max = 40\n",
    "dx = .01\n",
    "gf = .04\n",
    "migr= .5\n",
    "x_arr = np.arange(x_min, x_max, dx)\n",
    "c_arr = profile(gf, migr, fstr, x_arr)\n",
    "v = velocity(gf, migr, fstr)\n",
    "D = migr/2.\n",
    "\n",
    "\n",
    "const = fixation_const(gf, migr, fstr, x_min, x_max, dx)\n",
    "function = c_arr**3*np.exp(2*v*x_arr/D)/(const**2)\n",
    "\n",
    "Lambda = (1./N)*integrate.simps(function, x_arr)"
   ]
  },
  {
   "cell_type": "code",
   "execution_count": 199,
   "metadata": {},
   "outputs": [
    {
     "data": {
      "text/plain": [
       "[<matplotlib.lines.Line2D at 0x1518c5c208>]"
      ]
     },
     "execution_count": 199,
     "metadata": {},
     "output_type": "execute_result"
    },
    {
     "data": {
      "image/png": "[encoded data removed]",
      "text/plain": [
       "<Figure size 432x288 with 1 Axes>"
      ]
     },
     "metadata": {
      "needs_background": "light"
     },
     "output_type": "display_data"
    }
   ],
   "source": [
    "plt.plot(np.arcsin(np.linspace(0,1)))"
   ]
  },
  {
   "cell_type": "code",
   "execution_count": 444,
   "metadata": {},
   "outputs": [
    {
     "data": {
      "text/plain": [
       "[<matplotlib.lines.Line2D at 0x7f85e99b0040>]"
      ]
     },
     "execution_count": 444,
     "metadata": {},
     "output_type": "execute_result"
    },
    {
     "data": {
      "image/png": "[encoded data removed]",
      "text/plain": [
       "<Figure size 432x288 with 1 Axes>"
      ]
     },
     "metadata": {
      "needs_background": "light"
     },
     "output_type": "display_data"
    }
   ],
   "source": [
    "plt.plot(c_arr)\n"
   ]
  },
  {
   "cell_type": "code",
   "execution_count": 373,
   "metadata": {},
   "outputs": [
    {
     "data": {
      "text/plain": [
       "[<matplotlib.lines.Line2D at 0x7f85e04f4b20>]"
      ]
     },
     "execution_count": 373,
     "metadata": {},
     "output_type": "execute_result"
    },
    {
     "data": {
      "image/png": "[encoded data removed]",
      "text/plain": [
       "<Figure size 432x288 with 1 Axes>"
      ]
     },
     "metadata": {
      "needs_background": "light"
     },
     "output_type": "display_data"
    }
   ],
   "source": [
    "plt.plot(function)"
   ]
  },
  {
   "cell_type": "code",
   "execution_count": 368,
   "metadata": {},
   "outputs": [
    {
     "data": {
      "text/plain": [
       "[<matplotlib.lines.Line2D at 0x7f85a9d5ad30>]"
      ]
     },
     "execution_count": 368,
     "metadata": {},
     "output_type": "execute_result"
    },
    {
     "data": {
      "image/png": "[encoded data removed]",
      "text/plain": [
       "<Figure size 432x288 with 1 Axes>"
      ]
     },
     "metadata": {
      "needs_background": "light"
     },
     "output_type": "display_data"
    }
   ],
   "source": [
    "plt.plot(c_arr**3*np.exp(2*v*x_arr/D)/(const**2))"
   ]
  },
  {
   "cell_type": "code",
   "execution_count": 379,
   "metadata": {},
   "outputs": [
    {
     "data": {
      "text/plain": [
       "5.209736130607514"
      ]
     },
     "execution_count": 379,
     "metadata": {},
     "output_type": "execute_result"
    }
   ],
   "source": [
    "const"
   ]
  },
  {
   "cell_type": "code",
   "execution_count": 219,
   "metadata": {},
   "outputs": [],
   "source": [
    "m = .1\n",
    "a =  1\n",
    "tau = 1\n",
    "r0=.01\n",
    "f  =-.4\n",
    "Ne =1/Lambda_theory_Allee(f, 1000 , -100, 40, .01,r0,m)\n",
    "\n",
    "Ds = m*a**2/2\n",
    "R0 = .4\n",
    "Dg= a / ( Ne*tau)\n",
    "sig = v*Ds/(R0*Dg**2)\n"
   ]
  },
  {
   "cell_type": "code",
   "execution_count": 250,
   "metadata": {},
   "outputs": [
    {
     "data": {
      "text/plain": [
       "0.9949480573799571"
      ]
     },
     "execution_count": 250,
     "metadata": {},
     "output_type": "execute_result"
    }
   ],
   "source": [
    "Ht0(sig,H0,t)\n",
    "sig"
   ]
  },
  {
   "cell_type": "code",
   "execution_count": 247,
   "metadata": {},
   "outputs": [
    {
     "data": {
      "text/plain": [
       "[<matplotlib.lines.Line2D at 0x7f85c9a69760>]"
      ]
     },
     "execution_count": 247,
     "metadata": {},
     "output_type": "execute_result"
    },
    {
     "data": {
      "image/png": "[encoded data removed]",
      "text/plain": [
       "<Figure size 432x288 with 1 Axes>"
      ]
     },
     "metadata": {
      "needs_background": "light"
     },
     "output_type": "display_data"
    }
   ],
   "source": [
    "\n",
    "plt.plot( [  (2*np.pi)/Lg (Ds,R0,v, t,Dg, Ht0(sig,H0,t) ) for t in np.linspace(0,100,501)])"
   ]
  },
  {
   "cell_type": "code",
   "execution_count": 230,
   "metadata": {},
   "outputs": [],
   "source": [
    "sig = v*Ds/(R0*Dg**2)"
   ]
  },
  {
   "cell_type": "code",
   "execution_count": 245,
   "metadata": {},
   "outputs": [
    {
     "data": {
      "text/plain": [
       "0.3"
      ]
     },
     "execution_count": 245,
     "metadata": {},
     "output_type": "execute_result"
    }
   ],
   "source": [
    "R0"
   ]
  },
  {
   "cell_type": "code",
   "execution_count": 232,
   "metadata": {},
   "outputs": [
    {
     "data": {
      "text/plain": [
       "[<matplotlib.lines.Line2D at 0x7f85a8e619a0>]"
      ]
     },
     "execution_count": 232,
     "metadata": {},
     "output_type": "execute_result"
    },
    {
     "data": {
      "image/png": "[encoded data removed]",
      "text/plain": [
       "<Figure size 432x288 with 1 Axes>"
      ]
     },
     "metadata": {
      "needs_background": "light"
     },
     "output_type": "display_data"
    }
   ],
   "source": [
    "\n",
    "plt.plot([Ht0(sig,H0,t) for t in  np.linspace(0,5,501)])"
   ]
  },
  {
   "cell_type": "code",
   "execution_count": 137,
   "metadata": {},
   "outputs": [
    {
     "name": "stderr",
     "output_type": "stream",
     "text": [
      "/Users/nikhilkrishnan/anaconda3/lib/python3.7/site-packages/ipykernel_launcher.py:1: RuntimeWarning: divide by zero encountered in true_divide\n",
      "  \"\"\"Entry point for launching an IPython kernel.\n"
     ]
    },
    {
     "data": {
      "text/plain": [
       "array([ 2.5       ,  2.63888889,  2.79411765,  2.96875   ,  3.16666667,\n",
       "        3.39285714,  3.65384615,  3.95833333,  4.31818182,  4.75      ,\n",
       "        5.27777778,  5.9375    ,  6.78571429,  7.91666667,  9.5       ,\n",
       "       11.875     , 15.83333333, 23.75      , 47.5       ,        -inf])"
      ]
     },
     "execution_count": 137,
     "metadata": {},
     "output_type": "execute_result"
    }
   ],
   "source": [
    "-1/np.linspace(-.4,0,20)"
   ]
  },
  {
   "cell_type": "code",
   "execution_count": 143,
   "metadata": {},
   "outputs": [
    {
     "name": "stdout",
     "output_type": "stream",
     "text": [
      "0.04024922359499621\n",
      "0.039307721288680514\n",
      "0.038366218982364815\n",
      "0.037424716676049116\n",
      "0.03648321436973342\n",
      "0.03554171206341771\n",
      "0.034600209757102006\n",
      "0.03365870745078631\n",
      "0.03271720514447061\n",
      "0.0317757028381549\n",
      "0.030834200531839207\n",
      "0.02989269822552351\n",
      "0.028951195919207803\n",
      "0.0280096936128921\n",
      "0.027068191306576405\n",
      "0.026126689000260703\n",
      "0.025185186693945\n",
      "0.024243684387629298\n",
      "0.0233021820813136\n",
      "0.022360679774997897\n"
     ]
    }
   ],
   "source": [
    "fspace = np.linspace(-.4,0,20)\n",
    "r0=.01\n",
    "m=.2\n",
    "for f in fspace:\n",
    "    print(velocity(r0,m,f))"
   ]
  },
  {
   "cell_type": "code",
   "execution_count": 335,
   "metadata": {},
   "outputs": [
    {
     "name": "stdout",
     "output_type": "stream",
     "text": [
      "5.092320960942035\n",
      "5.132034201249407\n",
      "5.334817059758884\n",
      "5.9676768871501\n",
      "7.681420194626565\n",
      "11.873497306143033\n",
      "20.92044648905422\n",
      "37.409908326284246\n",
      "61.97942530244645\n",
      "92.07824001760602\n",
      "123.81879422239828\n",
      "154.4118542306209\n",
      "182.66328035868472\n",
      "208.33176922124989\n",
      "231.54452785276195\n",
      "252.51989440518312\n",
      "271.47205623487633\n",
      "288.58723238397414\n",
      "304.0220910995153\n",
      "317.9075488944236\n"
     ]
    },
    {
     "name": "stderr",
     "output_type": "stream",
     "text": [
      "<ipython-input-335-5e14f5012086>:17: RuntimeWarning: divide by zero encountered in double_scalars\n",
      "  plt.scatter(-1/f,Nr(v,Dg,H0,20,Ds) , c='k')\n"
     ]
    },
    {
     "data": {
      "text/plain": [
       "Text(0.5, 0, 'B')"
      ]
     },
     "execution_count": 335,
     "metadata": {},
     "output_type": "execute_result"
    },
    {
     "data": {
      "image/png": "[encoded data removed]",
      "text/plain": [
       "<Figure size 432x288 with 1 Axes>"
      ]
     },
     "metadata": {
      "needs_background": "light"
     },
     "output_type": "display_data"
    }
   ],
   "source": [
    "fspace = np.linspace(-.4,0,20)\n",
    "m = .05\n",
    "a =  1\n",
    "tau = 1\n",
    "r0=.01\n",
    "K = 1000\n",
    "H0=.5\n",
    "for f in fspace:\n",
    "    v = velocity(r0,m,f)\n",
    "    Ne =1/Lambda_theory_Allee(f, K , -100, 40, .01,r0,m)\n",
    "\n",
    "    Ds = m*a**2/2\n",
    "    Dg= a / ( Ne*tau)\n",
    "    sig = v*Ds/(R0*Dg**2)\n",
    "    print(Nr(v,Dg,H0,20,Ds))\n",
    "    \n",
    "    plt.scatter(-1/f,Nr(v,Dg,H0,20,Ds) , c='k')\n",
    "    \n",
    "#plt.yscale('log')\n",
    "plt.ylabel('Sectors',fontsize=16)\n",
    "plt.xlabel('B',fontsize=16)"
   ]
  },
  {
   "cell_type": "code",
   "execution_count": 338,
   "metadata": {},
   "outputs": [
    {
     "name": "stdout",
     "output_type": "stream",
     "text": [
      "5.092320960942035\n",
      "5.132034201249407\n",
      "5.334817059758884\n",
      "5.9676768871501\n",
      "7.681420194626565\n",
      "11.873497306143033\n",
      "20.92044648905422\n",
      "37.409908326284246\n",
      "61.97942530244645\n",
      "92.07824001760602\n",
      "123.81879422239828\n",
      "154.4118542306209\n",
      "182.66328035868472\n",
      "208.33176922124989\n",
      "231.54452785276195\n",
      "252.51989440518312\n",
      "271.47205623487633\n",
      "288.58723238397414\n",
      "304.0220910995153\n",
      "317.9075488944236\n"
     ]
    },
    {
     "name": "stderr",
     "output_type": "stream",
     "text": [
      "<ipython-input-338-b685bc8c505a>:17: RuntimeWarning: divide by zero encountered in double_scalars\n",
      "  plt.scatter(-1/f,1/Dg , c='k')\n"
     ]
    },
    {
     "data": {
      "text/plain": [
       "Text(0.5, 0, 'B')"
      ]
     },
     "execution_count": 338,
     "metadata": {},
     "output_type": "execute_result"
    },
    {
     "data": {
      "image/png": "[encoded data removed]",
      "text/plain": [
       "<Figure size 432x288 with 1 Axes>"
      ]
     },
     "metadata": {
      "needs_background": "light"
     },
     "output_type": "display_data"
    }
   ],
   "source": [
    "fspace = np.linspace(-.4,0,20)\n",
    "m = .05\n",
    "a =  1\n",
    "tau = 1\n",
    "r0=.01\n",
    "K = 1000\n",
    "H0=.5\n",
    "for f in fspace:\n",
    "    v = velocity(r0,m,f)\n",
    "    Ne =1/Lambda_theory_Allee(f, K , -100, 40, .01,r0,m)\n",
    "\n",
    "    Ds = m*a**2/2\n",
    "    Dg= a / ( Ne*tau)\n",
    "    sig = v*Ds/(R0*Dg**2)\n",
    "    print(Nr(v,Dg,H0,20,Ds))\n",
    "    \n",
    "    plt.scatter(-1/f,1/Dg , c='k')\n",
    "    \n",
    "plt.yscale('log')\n",
    "plt.ylabel('Sectors',fontsize=16)\n",
    "plt.xlabel('B',fontsize=16)"
   ]
  },
  {
   "cell_type": "code",
   "execution_count": 93,
   "metadata": {},
   "outputs": [],
   "source": [
    "import numpy as np\n",
    "import matplotlib\n",
    "import matplotlib.pyplot as plt\n",
    "import matplotlib.patches as patches\n",
    "import os\n",
    "import glob\n",
    "\n",
    "\n",
    "from sklearn import linear_model\n",
    "\n",
    "def create_vel_avg(N, B_pulled, B_pushed):\n",
    "    path = './data/stochastic_simulations/velocity/N'+N+'/'\n",
    "    file_name = path+'/velocity_N'+N+'_gf0.01_migr0.25_B'+B_pulled+'_run0_demes300.txt'\n",
    "    vel_pulled_avg = np.loadtxt(file_name, delimiter=',')\n",
    "    file_name = path+'/velocity_N'+N+'_gf0.01_migr0.25_B'+B_pushed+'_run0_demes300.txt'\n",
    "    vel_pushed_avg = np.loadtxt(file_name, delimiter=',')\n",
    "\n",
    "    counter = 1\n",
    "    for file_name in glob.glob(path+'/velocity_N'+N+'_gf0.01_migr0.25_B'+B_pulled+'_*.txt'):\n",
    "        vel_arr = np.loadtxt(file_name, delimiter=',')\n",
    "        vel_pulled_avg += vel_arr\n",
    "        counter += 1\n",
    "    vel_pulled_avg /= counter\n",
    "    \n",
    "    counter = 1\n",
    "    for file_name in glob.glob(path+'velocity_N'+N+'_gf0.01_migr0.25_B'+B_pushed+'_*.txt'):\n",
    "        vel_arr = np.loadtxt(file_name, delimiter=',')\n",
    "        vel_pushed_avg += vel_arr\n",
    "        counter += 1\n",
    "    vel_pushed_avg /= counter\n",
    "\n",
    "    np.save(path+'pulled_avg', vel_pulled_avg)\n",
    "    np.save(path+'pushed_avg', vel_pushed_avg)\n",
    "\n",
    "\n",
    "def Fig3_fluctuations(n_lines):\n",
    "    font = {'family' : 'sans-serif', 'serif' : 'Helvetica Neue', 'weight' : 'bold', 'size' : 10}\n",
    "    matplotlib.rc('font', **font)\n",
    "\n",
    "    B_pulled='2'\n",
    "    B_pushed='5'\n",
    "    axis_size=10\n",
    "    label_size=12\n",
    "    #create_vel_avg('1000000', B_pulled, B_pushed)\n",
    "    vel_pulled_avg = np.load('data/stochastic_simulations/velocity/pulled_avg.npy')\n",
    "    vel_pushed_avg = np.load('data/stochastic_simulations/velocity/pushed_avg.npy')\n",
    "\n",
    "    fig = plt.figure(figsize=(cm2inch(11.4), cm2inch(11.4)), dpi=500)\n",
    "\n",
    "    ax3 = fig.add_subplot(221)\n",
    "    ax3.set_title('pulled', fontsize=label_size, fontweight='bold', color='lightsalmon')\n",
    "    ax3.text(-20000, 22, 'A', fontsize=label_size, fontweight='bold')\n",
    "    ax3.set_ylabel('wandering, $\\mathbf{X_f - vt}$', fontsize=axis_size, fontweight='bold')\n",
    "    ax3.set_xlim(0, 50000)\n",
    "    ax3.set_ylim(-20, 20)\n",
    "    ax3.set_xticks([0, 25000, 50000])\n",
    "    ax3.set_xticklabels([0, 25, 50])\n",
    "    ax3.set_yticks([-20, 0, 20])\n",
    "\n",
    "    ax4 = fig.add_subplot(222)\n",
    "    ax4.set_title('pushed', fontsize=label_size, fontweight='bold', color='lightskyblue')\n",
    "    ax4.text(-15000, 22, 'B', fontsize=label_size, fontweight='bold')\n",
    "    ax4.set_xlim(0, 50000)\n",
    "    ax4.set_ylim(-20, 20)\n",
    "    ax4.set_xticks([0, 25000, 50000])\n",
    "    ax4.set_xticklabels([0, 25, 50])\n",
    "    ax4.set_yticks([-20, 0, 20])\n",
    "\n",
    "    ax1 = fig.add_subplot(223)\n",
    "    ax1.text(-7000, 1.10, 'C', fontsize=label_size, fontweight='bold')\n",
    "    ax1.set_xlabel('time, t\\n'+'$\\mathbf{\\\\times}$ 1000', fontsize=axis_size, fontweight='bold')\n",
    "    ax1.set_ylabel('fraction, f', fontsize=axis_size, fontweight='bold')\n",
    "    ax1.set_xlim(0, 20000)\n",
    "    ax1.set_ylim(0, 1)\n",
    "    ax1.set_xticks([0, 10000, 20000])\n",
    "    ax1.set_xticklabels([0, 10, 20])\n",
    "    ax1.set_yticks([0, 0.25, 0.5, 0.75, 1])\n",
    "    ax1.set_yticklabels(['0', '0.25', '0.5', '0.75', '1'])\n",
    "\n",
    "    ax2 = fig.add_subplot(224)\n",
    "    ax2.text(-5000, 1.10, 'D', fontsize=label_size, fontweight='bold')\n",
    "    ax2.set_xlabel('time, t\\n'+'$\\mathbf{\\\\times}$ 1000', fontsize=axis_size, fontweight='bold')\n",
    "    ax2.set_xlim(0, 20000)\n",
    "    ax2.set_ylim(0, 1)\n",
    "    ax2.set_xticks([0, 10000, 20000])\n",
    "    ax2.set_xticklabels([0, 10, 20])\n",
    "    ax2.set_yticks([0, 0.25, 0.5, 0.75, 1])\n",
    "    ax2.set_yticklabels(['0', '0.25', '0.5', '0.75', '1'])\n",
    "\n",
    "\n",
    "    hetero_path = './data/stochastic_simulations/hetero/'\n",
    "    velocity_path = './data/stochastic_simulations/velocity/'\n",
    "\n",
    "    het_pulled = []\n",
    "    het_pushed = []\n",
    "    vel_pulled = []\n",
    "    vel_pushed = []\n",
    "\n",
    "    for run in range(50, 50+n_lines):\n",
    "        file_name = hetero_path+'hetero_N1000000_gf0.01_migr0.25_B'+B_pulled+'_run'+str(run)+'_demes300.txt'\n",
    "        het_arr = np.loadtxt(file_name, delimiter=',')\n",
    "        t_arr = het_arr.T[0]\n",
    "        f_arr = het_arr.T[2]\n",
    "        f_end = f_arr[len(f_arr)/5]\n",
    "        het_pulled.append(f_end)\n",
    "        ax1.plot(t_arr, f_arr, c='r', lw=0.1)\n",
    "\n",
    "        file_name = hetero_path+'hetero_N1000000_gf0.01_migr0.25_B'+B_pushed+'_run'+str(run)+'_demes300.txt'\n",
    "        het_arr = np.loadtxt(file_name, delimiter=',')\n",
    "        t_arr = het_arr.T[0]\n",
    "        f_arr = het_arr.T[2]\n",
    "        f_end = f_arr[len(f_arr)/5]\n",
    "        het_pushed.append(f_end)\n",
    "        ax2.plot(t_arr, f_arr, c='b', lw=0.1)\n",
    "\n",
    "        file_name = velocity_path+'velocity_N1000000_gf0.01_migr0.25_B'+B_pulled+'_run'+str(run)+'_demes300.txt'\n",
    "        vel_arr = np.loadtxt(file_name, delimiter=',')\n",
    "        t_arr = vel_arr.T[0]\n",
    "        X_arr = vel_arr.T[1] - vel_pulled_avg.T[1]\n",
    "        x_end = X_arr[len(X_arr)/2]\n",
    "        vel_pulled.append(x_end)\n",
    "        ax3.plot(t_arr, X_arr, c='r', lw=0.1)\n",
    "\n",
    "\n",
    "        file_name = velocity_path+'velocity_N1000000_gf0.01_migr0.25_B'+B_pushed+'_run'+str(run)+'_demes300.txt'\n",
    "        vel_arr = np.loadtxt(file_name, delimiter=',')\n",
    "        t_arr = vel_arr.T[0]\n",
    "        X_arr = vel_arr.T[1] - vel_pushed_avg.T[1]\n",
    "        x_end = X_arr[len(X_arr)/2]\n",
    "        vel_pushed.append(x_end)\n",
    "        ax4.plot(t_arr, X_arr, c='b', lw=0.1)\n",
    "\n",
    "\n",
    "    plt.tight_layout(pad=1.8, w_pad=0.2, h_pad=2.0)\n",
    "    plt.savefig('plots/Fig3_fluctuations.pdf')\n",
    "\n",
    "def make_var_plot(ax, label):\n",
    "    ax.set_xlabel('time, t', fontweight='bold', fontsize=8)\n",
    "    ax.set_ylabel('front wandering, $\\mathbf{\\\\langle (X_f - vt)^2\\\\rangle}$', fontweight='bold', fontsize=8)\n",
    "    ax.text(-3000, 115, label, fontweight='bold', fontsize=12)\n",
    "    ax.text(6000, 50, '$\\\\langle \\Delta X_{\\mathrm{f}}^2\\\\rangle = 2D_{\\mathrm{f}}t$', fontsize=9, color='k')\n",
    "    ax.set_xticks([0, 8000, 16000])\n",
    "    ax.set_yticks([0, 25, 50, 75, 100])\n",
    "\n",
    "    var_array = np.load('data/stochastic_simulations/var_comparison_data.npy')\n",
    "    B_arr = np.load('data/stochastic_simulations/B_wandering_comparison.npy')\n",
    "\n",
    "    pulled_B = B_arr[np.where(B_arr <= 2.0)]\n",
    "    pushed_B = B_arr[np.where(B_arr > 2.0)]\n",
    "\n",
    "    colors={}\n",
    "    labels={}\n",
    "    for elem in pulled_B:\n",
    "        colors[elem] = 'r'\n",
    "        labels[elem] = 'pulled'\n",
    "    for elem in pushed_B:\n",
    "        colors[elem] = 'b'\n",
    "        labels[elem] = 'pushed'\n",
    "\n",
    "    number_of_points = 20\n",
    "    reduced_var_indices = (800/number_of_points)*np.arange(number_of_points)\n",
    "\n",
    "    max_time = 1\n",
    "    max_var = 1\n",
    "    for i, B in enumerate(B_arr):\n",
    "        time = var_array[i].T[0][10:]\n",
    "        var = var_array[i].T[2][10:]\n",
    "\n",
    "        t_plot = [time[i] for i in reduced_var_indices]\n",
    "        var_plot = [var[i] for i in reduced_var_indices]\n",
    "        max_time = max(max_time, max(t_plot))\n",
    "        max_var = max(max_var, max(var_plot))\n",
    "\n",
    "        #Calculate front wandering diffusion constant\n",
    "        coeffs, r2 = linear_reg(time, var)\n",
    "        Diff_const = coeffs[0]/2.\n",
    "        fit = np.poly1d(coeffs)\n",
    "        t_fit = [time[50], 1.1*t_plot[-1]] #choose range for plotting fit\n",
    "        est = fit(t_fit)\n",
    "\n",
    "        #Plot results\n",
    "        ax.scatter(t_plot, var_plot, s=20, edgecolor=colors[B], facecolor='none', label=labels[B], lw=1)\n",
    "        ax.plot(t_fit, est, c=colors[B], lw=1)\n",
    "\n",
    "    ax.set_xlim([0, 1.1*max_time])\n",
    "    ax.set_ylim([0,110])\n",
    "\n",
    "    handles,labels = ax.get_legend_handles_labels()\n",
    "    handles = [handles[1], handles[0]]\n",
    "    labels = [labels[1], labels[0]]\n",
    "    legend_properties={'weight':'normal', 'size':6}\n",
    "    ax.legend(handles, labels, loc='best', prop=legend_properties, scatterpoints=1)\n",
    "\n",
    "\n",
    "def make_D_scaling_plot(ax, label):\n",
    "    diff_data = np.load('data/stochastic_simulations/D_comparison_data.npy')\n",
    "    ax.set_xscale('log')\n",
    "    ax.set_yscale('log')\n",
    "    ax.set_xlabel('population size, N', fontweight='bold', fontsize=8)\n",
    "    ax.set_ylabel('diffusion constant, $\\mathbf{D_{\\mathrm{f}}}$', fontweight='bold', fontsize=8)\n",
    "    ax.text(1E2, 1.5E-1, label, fontweight='bold', fontsize=12)\n",
    "    ax.text(2E5, 2E-5, '$D_{\\mathrm{f}} \\sim N^{\\\\alpha_{\\mathrm{D}}}$', fontsize=9, color='k')\n",
    "    ax.set_yticks([1E-2, 1E-4, 1E-6])\n",
    "    ax.set_xlim([4E2, 1E7])\n",
    "    ax.set_ylim([1E-7, 1E-1])\n",
    "\n",
    "    for i, elem in enumerate(diff_data):\n",
    "        B = elem[0][0]\n",
    "        N_arr = elem[1]\n",
    "        D_arr = elem[2]\n",
    "\n",
    "        x_theory = list(N_arr)\n",
    "        x_theory.append(0.2*min(N_arr))\n",
    "        x_theory.append(5*max(N_arr))\n",
    "        x_theory = np.array(sorted(x_theory))\n",
    "\n",
    "        #fit theory\n",
    "        regr = linear_model.LinearRegression()\n",
    "        X = np.array(np.log(N_arr)**(-3)).reshape(len(N_arr), 1)\n",
    "        Y = D_arr.reshape(len(D_arr), 1)\n",
    "        regr.fit(X, Y)\n",
    "        const = D_arr[np.where(N_arr==500000)]*np.log(N_arr[np.where(N_arr==500000)])**3\n",
    "        Df_theory = const/(np.log(x_theory)**3)\n",
    "\n",
    "        coeffs, res = linear_reg(np.log(N_arr), np.log(D_arr))\n",
    "        fit = np.poly1d(coeffs)\n",
    "        N_fit = [0.1*min(N_arr), 5*max(N_arr)]\n",
    "        est = np.exp(fit(np.log(N_fit)))\n",
    "\n",
    "        if B > 4.0:\n",
    "            clr='b'\n",
    "            ax.plot(N_fit, est, c=clr, lw=1, ls=':')\n",
    "            ax.scatter(N_arr, D_arr, s=30, edgecolor=clr, facecolor='none', lw=1)\n",
    "        else:\n",
    "            clr='r'\n",
    "            ax.plot(x_theory, Df_theory, lw=1, ls='-', c=clr, label='theory, $\\ln^{-3}{N}$')\n",
    "            ax.plot(N_fit, est, lw=1, ls=':', c=clr, label='power law fit')\n",
    "            ax.scatter(N_arr, D_arr, s=30, edgecolor=clr, facecolor='none', lw=1, label='simulations')\n",
    "\n",
    "    legend_properties={'weight':'normal', 'size':6}\n",
    "    ax.legend(loc='lower left', prop=legend_properties, scatterpoints=1)\n",
    "\n",
    "def make_D_phase_plot(ax, label, axis_fontsize, title_fontsize, markings_fontsize):\n",
    "    x_min = -0.2\n",
    "    x_max = 10.3\n",
    "    y_min = -1.05\n",
    "    y_max = 0.\n",
    "    y_arr = np.arange(-1.0, 0., 0.001)\n",
    "    x_weak = 4.0*np.ones(len(y_arr))\n",
    "    x_pulled_2 = 2.0*np.ones(len(y_arr))\n",
    "    x_metastable = np.zeros(len(y_arr))\n",
    "\n",
    "    x_one = np.arange(x_min, x_max, 0.001)\n",
    "    y_one = -np.ones(len(x_one))\n",
    "\n",
    "    #For plotting horizontal lines\n",
    "    x_full = np.arange(x_min, x_max, 0.001)\n",
    "    x_pushed = np.arange(2.0, x_max, 0.001)\n",
    "    x_pulled = np.arange(x_min, 2.0, 0.001)\n",
    "    x_sublinear = np.arange(x_min, 4.0, 0.001)\n",
    "    x_linear = np.arange(4.0, x_max, 0.001)\n",
    "\n",
    "    x_weak_pushed = np.arange(2.0, x_max, 0.001)\n",
    "    x_strong_pushed = np.arange(0.0, 0.3, 0.001)\n",
    "    ones_full = np.ones(len(x_full))#horizontal line\n",
    "\n",
    "    ax.set_xlabel('cooperativity, B', fontsize=axis_fontsize, fontweight='bold')\n",
    "    ax.set_ylabel('diffusion exponent, $\\mathbf{\\\\alpha_{\\mathrm{D}}}$', fontsize=axis_fontsize, fontweight='bold')\n",
    "    ax.text(-2.5, 0.05, label, fontweight='bold', fontsize=12)\n",
    "\n",
    "    ax.set_xticks([0, 2, 4, 6, 8, 10])\n",
    "    ax.set_yticks([0.0, -0.25, -0.5, -0.75, -1.0])\n",
    "    #ax.set_yticks([0.0, -0.25, -0.5, -0.75, -1.0], ['0', '-0.25', '-0.5', '-0.75', '-1'])\n",
    "    ax.set_yticklabels(['0', '-0.25', '-0.5', '-0.75', '-1'])\n",
    "    ax.set_xlim([x_min, x_max])\n",
    "    ax.set_ylim([y_min, y_max])\n",
    "\n",
    "    ax.fill_between(x_pushed, y_min, y_max, facecolor='lightskyblue', alpha=0.5)\n",
    "    ax.fill_between(x_pulled, y_min, y_max, facecolor='lightsalmon', alpha=0.5)\n",
    "    ax.plot(x_one, y_one, ls='--', c='k')\n",
    "    ax.plot(x_full, ones_full, '--', c='k', lw=2)\n",
    "\n",
    "    ax.scatter(D_array.T[0], D_array.T[1], s=30, lw=2, edgecolor='none', marker='+', c='k')\n",
    "\n",
    "    ax.text(-0.2, 0.03, 'pulled', fontsize=title_fontsize, fontweight='bold', color='lightsalmon')\n",
    "    ax.text(4.5, 0.03, 'pushed', fontsize=title_fontsize, fontweight='bold', color='lightskyblue')\n",
    "    ax.text(2.5, -0.2, 'semi-\\n'+'pushed', fontsize=markings_fontsize, fontweight='bold', color='k')\n",
    "    ax.text(7.0, -0.2, 'fully-\\n'+'pushed', fontsize=markings_fontsize, fontweight='bold', color='k')\n",
    "\n",
    "\n",
    "def Fig4_Df_summary():\n",
    "    font = {'family' : 'sans-serif', 'serif' : 'Helvetica Neue', 'weight' : 'bold', 'size' : 8}\n",
    "    matplotlib.rc('font', **font)\n",
    "\n",
    "    fig = plt.figure(figsize=(cm2inch(17.8), cm2inch(5.9)), dpi=100)\n",
    "    ax = fig.add_subplot(131)\n",
    "    make_var_plot(ax, 'A')\n",
    "    ax = fig.add_subplot(132)\n",
    "    make_D_scaling_plot(ax, 'B')\n",
    "    ax = fig.add_subplot(133)\n",
    "    make_D_phase_plot(ax, 'C', 8, 8, 8)\n",
    "    plt.tight_layout()\n",
    "    plt.subplots_adjust(top=0.9)\n",
    "    plt.savefig('plots/Fig4_diffusion.pdf')\n",
    "\n",
    "\n",
    "\n",
    "def fit_heterozygosity(x_het, het, surv):\n",
    "    X_INIT = min(min(range(len(het)), key=lambda i:abs(het[i] - 0.1)), 1000) #find initial fitting point\n",
    "    X_FIN = 0\n",
    "    while (surv[X_FIN] > 0.05 and X_FIN < len(het) - 1):\n",
    "        X_FIN += 1 #find final fitting point\n",
    "\n",
    "    if (X_FIN - X_INIT <= 400):\n",
    "        X_INIT = max(0, X_FIN - 400)\n",
    "\n",
    "    X_THIRD = int((X_FIN - X_INIT)/3)\n",
    "    xh = x_het[X_INIT:X_FIN]\n",
    "    het_fit = het[X_INIT:X_FIN]\n",
    "    coeffs, r_sq = linear_reg(xh, np.log(het_fit))#Do fit\n",
    "    return xh, het_fit, coeffs, r_sq\n",
    "\n",
    "\n",
    "def make_het_comparison(het_data, ax, label, axis_fontsize):\n",
    "    B_comparison = np.load('data/stochastic_simulations/B_neff_comparison.npy')\n",
    "\n",
    "    ax.set_yscale('log')\n",
    "    ax.ticklabel_format(style='sci', scilimit=(-2,2), axis='x')\n",
    "    ax.set_xlabel('time, t', fontweight='bold', fontsize=axis_fontsize)\n",
    "    ax.set_ylabel('heterozygosity, H', fontweight='bold', fontsize=axis_fontsize)\n",
    "    ax.text(-2000, 1.5E1, label, fontweight='bold', fontsize=12)\n",
    "    ax.text(7000, 5E-2, '$H \\sim e^{-\\Lambda t}$', fontsize=10, color='k')\n",
    "    ax.set_xticks([0, 4000, 8000])\n",
    "    ax.set_yticks([1E-4, 1E-2, 1])\n",
    "    ax.set_ylim([1E-4, 1E1])\n",
    "\n",
    "    number_of_points = 20\n",
    "    reduced_het_indices = (1000/number_of_points)*np.arange(number_of_points)\n",
    "\n",
    "    for elem in het_data:\n",
    "        deme = elem[0][0]\n",
    "        B = elem[0][1]\n",
    "        x_het = elem[1].T[0]\n",
    "        het = elem[1].T[1]\n",
    "        surv = elem[1].T[2]\n",
    "\n",
    "        x_plot = [x_het[i] for i in reduced_het_indices]\n",
    "        het_plot = [het[i] for i in reduced_het_indices]\n",
    "                \n",
    "        xh, het_fit, coeffs, r_sq = fit_heterozygosity(x_het, het, surv)\n",
    "        fit = np.poly1d(coeffs)\n",
    "        x_fit = [x_het[50], 1.1*x_het[-1]] #choose range for plotting fit\n",
    "        est = np.exp(fit(x_fit))\n",
    "\n",
    "        #Plot results\n",
    "        if B > 4.0:\n",
    "            clr = 'b'\n",
    "            lbl = 'pushed'\n",
    "        else:\n",
    "            clr = 'r'\n",
    "            lbl = 'pulled'\n",
    "        ax.scatter(x_plot, het_plot, s=20, edgecolor=clr, facecolor='none', lw=1, label=lbl)\n",
    "        ax.plot(x_fit, est, c=clr, lw=1)\n",
    "    ax.set_xlim([0, 12000])\n",
    "\n",
    "    legend_properties={'weight':'normal', 'size':6}\n",
    "    ax.legend(loc='best', prop=legend_properties, scatterpoints=1)\n",
    "\n",
    "\n",
    "def make_neff_comparison(neff_data, ax, label, axis_fontsize):\n",
    "    B_comparison = np.load('data/stochastic_simulations/B_neff_comparison.npy')\n",
    "\n",
    "    ax.set_xscale('log')\n",
    "    ax.set_yscale('log')\n",
    "    ax.set_xlabel('population size, N', fontweight='bold', fontsize=axis_fontsize)\n",
    "    ax.set_ylabel('rate of diversity loss, $\\mathbf{\\Lambda}$', fontweight='bold', fontsize=axis_fontsize)\n",
    "    ax.text(2E2, 8E-3, label, fontweight='bold', fontsize=12)\n",
    "    ax.text(2E5, 8E-6, '$\\Lambda \\sim N^{\\\\alpha_{\\mathrm{H}}}$', fontsize=10, color='k')\n",
    "    ax.set_yticks([1E-3, 1E-5, 1E-7])\n",
    "    ax.set_ylim([1E-7, 5E-3])\n",
    "\n",
    "    for i, elem in enumerate(neff_data):\n",
    "        B = B_comparison[i]\n",
    "        N_arr = elem[0]\n",
    "        kappa_arr = elem[1]\n",
    "\n",
    "        x_BSC = list(N_arr)\n",
    "        x_BSC.append(0.2*min(N_arr))\n",
    "        x_BSC.append(5*max(N_arr))\n",
    "        x_BSC = np.array(sorted(x_BSC))\n",
    "\n",
    "        #fit theory\n",
    "        regr = linear_model.LinearRegression()\n",
    "        X = np.array(np.log(N_arr)**(-3)).reshape(len(N_arr), 1)\n",
    "        Y = kappa_arr.reshape(len(kappa_arr), 1)\n",
    "        regr.fit(X, Y)\n",
    "        const = regr.coef_[0][0]\n",
    "        const = kappa_arr[np.where(N_arr==500000)]*np.log(N_arr[np.where(N_arr==500000)])**3\n",
    "        kappa_BSC = const/(np.log(x_BSC)**3)\n",
    "\n",
    "\n",
    "        if len(N_arr) != 0 and len(kappa_arr) != 0:\n",
    "            coeffs, res = linear_reg(np.log(N_arr), np.log(kappa_arr))\n",
    "            fit = np.poly1d(coeffs)\n",
    "            N_fit = [0.2*min(N_arr), 5*max(N_arr)]\n",
    "            est = np.exp(fit(np.log(N_fit)))\n",
    "\n",
    "            if B > 4.0:\n",
    "                clr='b'\n",
    "                ax.plot(N_fit, est, c=clr, lw=1, ls=':')\n",
    "                ax.scatter(N_arr, kappa_arr, s=30, edgecolor=clr, facecolor='none', lw=1)\n",
    "            else:\n",
    "                clr='r'\n",
    "                ax.plot(x_BSC, kappa_BSC, lw=1, ls='-', c=clr, label='theory, $\\ln^{-3}{N}$')\n",
    "                ax.plot(N_fit, est, lw=1, ls=':', c=clr, label='power law fit')\n",
    "                ax.scatter(N_arr, kappa_arr, s=30, edgecolor=clr, facecolor='none', lw=1, label='simulations')\n",
    "\n",
    "    legend_properties={'weight':'normal', 'size':6}\n",
    "    ax.legend(loc='lower left', prop=legend_properties, scatterpoints=1)\n",
    "\n",
    "def make_Lambda_phase_plot(ax, label, axis_fontsize, title_fontsize, markings_fontsize):\n",
    "    x_min = -0.2\n",
    "    x_max = 10.3\n",
    "    y_min = -1.05\n",
    "    y_max = 0.\n",
    "    y_arr = np.arange(-1.0, 0., 0.001)\n",
    "    x_weak = 4.0*np.ones(len(y_arr))\n",
    "    x_pulled_2 = 2.0*np.ones(len(y_arr))\n",
    "    x_metastable = np.zeros(len(y_arr))\n",
    "\n",
    "    x_one = np.arange(x_min, x_max, 0.001)\n",
    "    y_one = -np.ones(len(x_one))\n",
    "\n",
    "    #For plotting horizontal lines\n",
    "    x_full = np.arange(x_min, x_max, 0.001)\n",
    "    x_pushed = np.arange(2.0, x_max, 0.001)\n",
    "    x_pulled = np.arange(x_min, 2.0, 0.001)\n",
    "    x_sublinear = np.arange(x_min, 4.0, 0.001)\n",
    "    x_linear = np.arange(4.0, x_max, 0.001)\n",
    "\n",
    "    x_weak_pushed = np.arange(2.0, x_max, 0.001)\n",
    "    x_strong_pushed = np.arange(0.0, 0.3, 0.001)\n",
    "    ones_full = np.ones(len(x_full))#horizontal line\n",
    "\n",
    "    ax.set_xlabel('cooperativity, B', fontsize=axis_fontsize, fontweight='bold')\n",
    "    ax.set_ylabel('diversity exponent, $\\mathbf{\\\\alpha_{\\mathrm{H}}}$', fontsize=axis_fontsize, fontweight='bold')\n",
    "    ax.text(-2.5, 0.05, label, fontweight='bold', fontsize=12)\n",
    "\n",
    "    ax.set_xlim([x_min, x_max])\n",
    "    ax.set_ylim([y_min, y_max])\n",
    "\n",
    "    #Plot extras\n",
    "    ax.fill_between(x_pushed, y_min, y_max, facecolor='lightskyblue', alpha=0.5)\n",
    "    ax.fill_between(x_pulled, y_min, y_max, facecolor='lightsalmon', alpha=0.5)\n",
    "    ax.plot(x_one, y_one, ls='--', c='k')\n",
    "    ax.plot(x_full, ones_full, '--', c='k', lw=2)\n",
    "\n",
    "    ax.scatter(gamma_list_r.T[0], gamma_list_r.T[1], s=30, marker='s', lw=2, edgecolor='k', facecolor='none')\n",
    "\n",
    "    ax.text(-0.2, 0.03, 'pulled', fontsize=title_fontsize, fontweight='bold', color='lightsalmon')\n",
    "    ax.text(4.5, 0.03, 'pushed', fontsize=title_fontsize, fontweight='bold', color='lightskyblue')\n",
    "    ax.text(2.5, -0.2, 'semi-\\n'+'pushed', fontsize=markings_fontsize, fontweight='bold', color='k')\n",
    "    ax.text(7.0, -0.2, 'fully-\\n'+'pushed', fontsize=markings_fontsize, fontweight='bold', color='k')\n",
    "    \n",
    "def Fig5_Lambda_summary(het_data, neff_data):\n",
    "    font = {'family' : 'sans-serif', 'serif' : 'Helvetica Neue', 'weight' : 'bold', 'size' : 6}\n",
    "    matplotlib.rc('font', **font)\n",
    "\n",
    "    fig = plt.figure(figsize=(cm2inch(17.8), cm2inch(5.9)), dpi=100)\n",
    "    ax = fig.add_subplot(131)\n",
    "    make_het_comparison(het_data, ax, 'A', 8)\n",
    "    ax = fig.add_subplot(132)\n",
    "    make_neff_comparison(neff_data, ax, 'B', 8)\n",
    "    ax = fig.add_subplot(133)\n",
    "    make_Lambda_phase_plot(ax, 'C', 8, 8, 8)\n",
    "    plt.tight_layout()\n",
    "    plt.subplots_adjust(top=0.9)\n",
    "    plt.savefig('plots/Fig5_diversity.pdf')\n",
    "\n",
    "def Fig6_collapse():\n",
    "    font = {'family' : 'sans-serif', 'serif' : 'Helvetica Neue', 'weight' : 'bold', 'size' : 12}\n",
    "    matplotlib.rc('font', **font)\n",
    "\n",
    "    coop_arr = np.load('data/diversity_exponents_universal_coop.npy')\n",
    "    allee_arr = np.load('data/diversity_exponents_universal_Allee.npy')\n",
    "    quartic_arr = np.load('data/diversity_exponents_universal_quartic.npy')\n",
    "    theory_arr = np.load('data/diversity_exponents_universal_theory.npy')\n",
    "    D_coop = np.load('data/D_array.npy')\n",
    "    D_allee = np.load('data/D_array_allee.npy')\n",
    "    D_quartic = np.load('data/D_array_quartic.npy')\n",
    "\n",
    "    x_coop = coop_arr.T[2]/coop_arr.T[1]\n",
    "    y_coop = coop_arr.T[3]\n",
    "    x_allee = allee_arr.T[2]/allee_arr.T[1]\n",
    "    y_allee = allee_arr.T[3]\n",
    "    x_quartic = quartic_arr.T[2]/quartic_arr.T[1]\n",
    "    y_quartic = quartic_arr.T[3]\n",
    "\n",
    "\n",
    "    new_D_coop = []\n",
    "    for i, elem_D in enumerate(D_coop):\n",
    "        for j, elem_x in enumerate(coop_arr):\n",
    "            if (elem_D[0] == elem_x[4]):\n",
    "                new_D_coop.append([elem_D[0], elem_x[2]/elem_x[1], elem_D[1]])\n",
    "    new_D_coop = np.array(new_D_coop)\n",
    "\n",
    "    new_D_allee = []\n",
    "    for i, elem_D in enumerate(D_allee):\n",
    "        for j, elem_x in enumerate(allee_arr):\n",
    "            if (elem_D[0] == elem_x[4]):\n",
    "                new_D_allee.append([elem_D[0], elem_x[2]/elem_x[1], elem_D[1]])\n",
    "    new_D_allee = np.array(new_D_allee)\n",
    "\n",
    "    new_D_quartic = []\n",
    "    for i, elem_D in enumerate(D_quartic):\n",
    "        for j, elem_x in enumerate(quartic_arr):\n",
    "            if (elem_D[0] == elem_x[4]):\n",
    "                new_D_quartic.append([elem_D[0], elem_x[2]/elem_x[1], elem_D[1]])\n",
    "    new_D_quartic = np.array(new_D_quartic)\n",
    "\n",
    "\n",
    "    y_min = -1.05\n",
    "    y_max = 0.\n",
    "\n",
    "    y_transition = np.arange(y_min, y_max, 0.001)\n",
    "    x_transition = 1.061*np.ones(len(y_transition))\n",
    "\n",
    "    B_theory = np.arange(2.0, 4.0, 0.001)\n",
    "    vvf_pushed = np.arange(1.06, 1.4, 0.001)\n",
    "    [vvf_theory, exp_theory] = theory_arr \n",
    "\n",
    "    fig = plt.figure(figsize=(cm2inch(11.4),cm2inch(9.4)))\n",
    "    ax = fig.add_subplot(1,1,1)\n",
    "    ax.set_xlabel('expansion velocity, $\\mathbf{v/v_F}$', fontweight='bold', fontsize=12)\n",
    "    ax.set_ylabel('exponents, $\\mathbf{\\\\alpha_H}$, $\\mathbf{\\\\alpha_D}$', fontweight='bold', fontsize=12)\n",
    "    ax.set_xlim(0.99, 1.4)\n",
    "    ax.set_ylim(y_min, y_max)\n",
    "    ax.set_xticks([1.0, 1.1, 1.2, 1.3, 1.4])\n",
    "    ax.set_yticks([0.0, -0.2, -0.4, -0.6, -0.8, -1.0])\n",
    "    ax.plot(vvf_theory, exp_theory, c='r', lw=4, label='theory', zorder=1)\n",
    "    ax.plot(vvf_pushed, -np.ones(len(vvf_pushed)), c='r', lw=4, zorder=1)\n",
    "    p1=ax.scatter(x_coop, y_coop, s=80, edgecolor='k', facecolor='none', marker='s', zorder=2)\n",
    "    p2=ax.scatter(x_allee, y_allee, s=80, edgecolor='k', facecolor='none', marker='^', lw=2, zorder=2)\n",
    "    p5=ax.scatter(x_quartic, y_quartic, s=80, edgecolor='k', facecolor='none', marker='v', lw=2, zorder=2)\n",
    "    p3=ax.scatter(new_D_coop.T[1], new_D_coop.T[2], s=80, edgecolor='none', facecolor='k', marker='+', lw=2, zorder=2)\n",
    "    p4=ax.scatter(new_D_allee.T[1], new_D_allee.T[2], s=80, edgecolor='none', facecolor='k', marker='x', lw=2, zorder=2)\n",
    "    p5=ax.scatter(new_D_quartic.T[1], new_D_quartic.T[2], s=150, edgecolor='none', facecolor='k', marker='*', lw=2, zorder=2)\n",
    "\n",
    "    #make legend\n",
    "    ax.add_patch(patches.Rectangle((1.20, -0.28), 0.190, 0.25, fill=False))\n",
    "    ax.scatter(1.22, -0.08, s=80, edgecolor='k', facecolor='none', marker='s', lw=2)\n",
    "    ax.scatter(1.26, -0.08, s=80, edgecolor='k', facecolor='none', marker='^', lw=2)\n",
    "    ax.scatter(1.30, -0.08, s=80, edgecolor='k', facecolor='none', marker='v', lw=2)\n",
    "    ax.scatter(1.22, -0.15, s=80, edgecolor='none', facecolor='k', marker='+', lw=2)\n",
    "    ax.scatter(1.26, -0.15, s=80, edgecolor='none', facecolor='k', marker='x', lw=2)\n",
    "    ax.scatter(1.30, -0.15, s=150, edgecolor='none', facecolor='k', marker='*', lw=2)\n",
    "    ax.plot([1.22, 1.275], [-0.22, -0.22], c='r', lw=4)\n",
    "    ax.text(1.33, -0.10, '$\\mathbf{\\\\alpha_H}$', fontsize=16, fontweight='bold')\n",
    "    ax.text(1.33, -0.17, '$\\mathbf{\\\\alpha_D}$', fontsize=16, fontweight='bold')\n",
    "    ax.text(1.305, -0.23, 'theory', fontsize=12, fontweight='bold')\n",
    "\n",
    "    plt.tight_layout()\n",
    "    plt.savefig('plots/Fig6_collapse.pdf')\n",
    "\n",
    "\n",
    "\n",
    "    \n"
   ]
  },
  {
   "cell_type": "code",
   "execution_count": 89,
   "metadata": {},
   "outputs": [
    {
     "data": {
      "text/plain": [
       "<function __main__.make_Lambda_phase_plot(ax, label, axis_fontsize, title_fontsize, markings_fontsize)>"
      ]
     },
     "execution_count": 89,
     "metadata": {},
     "output_type": "execute_result"
    }
   ],
   "source": [
    "make_Lambda_phase_plot"
   ]
  },
  {
   "cell_type": "code",
   "execution_count": 149,
   "metadata": {},
   "outputs": [
    {
     "data": {
      "text/plain": [
       "<function __main__.<lambda>(v, Dg, H0, R, V, Ds)>"
      ]
     },
     "execution_count": 149,
     "metadata": {},
     "output_type": "execute_result"
    }
   ],
   "source": [
    "Nr(v,Dg,H0,R,)"
   ]
  },
  {
   "cell_type": "code",
   "execution_count": 94,
   "metadata": {},
   "outputs": [
    {
     "ename": "FileNotFoundError",
     "evalue": "[Errno 2] No such file or directory: 'data/gamma_list_r.npy'",
     "output_type": "error",
     "traceback": [
      "\u001b[0;31m---------------------------------------------------------------------------\u001b[0m",
      "\u001b[0;31mFileNotFoundError\u001b[0m                         Traceback (most recent call last)",
      "\u001b[0;32m<ipython-input-94-480c8b193a7f>\u001b[0m in \u001b[0;36m<module>\u001b[0;34m\u001b[0m\n\u001b[1;32m      2\u001b[0m \u001b[0mmatplotlib\u001b[0m\u001b[0;34m.\u001b[0m\u001b[0mrc\u001b[0m\u001b[0;34m(\u001b[0m\u001b[0;34m'font'\u001b[0m\u001b[0;34m,\u001b[0m \u001b[0;34m**\u001b[0m\u001b[0mfont\u001b[0m\u001b[0;34m)\u001b[0m\u001b[0;34m\u001b[0m\u001b[0;34m\u001b[0m\u001b[0m\n\u001b[1;32m      3\u001b[0m \u001b[0;34m\u001b[0m\u001b[0m\n\u001b[0;32m----> 4\u001b[0;31m \u001b[0mgamma_list_r\u001b[0m \u001b[0;34m=\u001b[0m \u001b[0mnp\u001b[0m\u001b[0;34m.\u001b[0m\u001b[0mload\u001b[0m\u001b[0;34m(\u001b[0m\u001b[0;34m'data/gamma_list_r.npy'\u001b[0m\u001b[0;34m)\u001b[0m\u001b[0;34m\u001b[0m\u001b[0;34m\u001b[0m\u001b[0m\n\u001b[0m\u001b[1;32m      5\u001b[0m \u001b[0mgamma_list_v\u001b[0m \u001b[0;34m=\u001b[0m \u001b[0mnp\u001b[0m\u001b[0;34m.\u001b[0m\u001b[0mload\u001b[0m\u001b[0;34m(\u001b[0m\u001b[0;34m'data/gamma_list_v.npy'\u001b[0m\u001b[0;34m)\u001b[0m\u001b[0;34m\u001b[0m\u001b[0;34m\u001b[0m\u001b[0m\n\u001b[1;32m      6\u001b[0m \u001b[0mlambda_comparison_arr\u001b[0m \u001b[0;34m=\u001b[0m \u001b[0mnp\u001b[0m\u001b[0;34m.\u001b[0m\u001b[0mload\u001b[0m\u001b[0;34m(\u001b[0m\u001b[0;34m'data/neff_comparison_data.npy'\u001b[0m\u001b[0;34m)\u001b[0m\u001b[0;34m\u001b[0m\u001b[0;34m\u001b[0m\u001b[0m\n",
      "\u001b[0;32m~/anaconda3/lib/python3.8/site-packages/numpy/lib/npyio.py\u001b[0m in \u001b[0;36mload\u001b[0;34m(file, mmap_mode, allow_pickle, fix_imports, encoding)\u001b[0m\n\u001b[1;32m    426\u001b[0m         \u001b[0mown_fid\u001b[0m \u001b[0;34m=\u001b[0m \u001b[0;32mFalse\u001b[0m\u001b[0;34m\u001b[0m\u001b[0;34m\u001b[0m\u001b[0m\n\u001b[1;32m    427\u001b[0m     \u001b[0;32melse\u001b[0m\u001b[0;34m:\u001b[0m\u001b[0;34m\u001b[0m\u001b[0;34m\u001b[0m\u001b[0m\n\u001b[0;32m--> 428\u001b[0;31m         \u001b[0mfid\u001b[0m \u001b[0;34m=\u001b[0m \u001b[0mopen\u001b[0m\u001b[0;34m(\u001b[0m\u001b[0mos_fspath\u001b[0m\u001b[0;34m(\u001b[0m\u001b[0mfile\u001b[0m\u001b[0;34m)\u001b[0m\u001b[0;34m,\u001b[0m \u001b[0;34m\"rb\"\u001b[0m\u001b[0;34m)\u001b[0m\u001b[0;34m\u001b[0m\u001b[0;34m\u001b[0m\u001b[0m\n\u001b[0m\u001b[1;32m    429\u001b[0m         \u001b[0mown_fid\u001b[0m \u001b[0;34m=\u001b[0m \u001b[0;32mTrue\u001b[0m\u001b[0;34m\u001b[0m\u001b[0;34m\u001b[0m\u001b[0m\n\u001b[1;32m    430\u001b[0m \u001b[0;34m\u001b[0m\u001b[0m\n",
      "\u001b[0;31mFileNotFoundError\u001b[0m: [Errno 2] No such file or directory: 'data/gamma_list_r.npy'"
     ]
    }
   ],
   "source": [
    "    font = {'family' : 'sans-serif', 'serif' : 'Helvetica Neue', 'weight' : 'bold', 'size' : 12}\n",
    "    matplotlib.rc('font', **font)\n",
    "\n",
    "    gamma_list_r = np.load('data/gamma_list_r.npy')\n",
    "    gamma_list_v = np.load('data/gamma_list_v.npy')\n",
    "    lambda_comparison_arr = np.load('data/neff_comparison_data.npy')\n",
    "    het_data = np.load('data/hetero_plot_data.npy')\n",
    "    D_array = np.load('data/D_array.npy')\n",
    "\n",
    "\n",
    "    Fig1_growth(labels_flag=1, label_size=8)\n",
    "    Fig2_fixation(label_size=9, markings_size=9)\n",
    "    Fig3_fluctuations(50)\n",
    "    Fig4_Df_summary()\n",
    "    Fig5_Lambda_summary(het_data, lambda_comparison_arr)\n",
    "    Fig6_collapse()\n",
    "\n",
    "    plt.show()"
   ]
  },
  {
   "cell_type": "code",
   "execution_count": 95,
   "metadata": {},
   "outputs": [
    {
     "ename": "NameError",
     "evalue": "name 'het_data' is not defined",
     "output_type": "error",
     "traceback": [
      "\u001b[0;31m---------------------------------------------------------------------------\u001b[0m",
      "\u001b[0;31mNameError\u001b[0m                                 Traceback (most recent call last)",
      "\u001b[0;32m<ipython-input-95-48e244601d15>\u001b[0m in \u001b[0;36m<module>\u001b[0;34m\u001b[0m\n\u001b[0;32m----> 1\u001b[0;31m \u001b[0mFig5_Lambda_summary\u001b[0m\u001b[0;34m(\u001b[0m\u001b[0mhet_data\u001b[0m\u001b[0;34m,\u001b[0m \u001b[0mlambda_comparison_arr\u001b[0m\u001b[0;34m)\u001b[0m\u001b[0;34m\u001b[0m\u001b[0;34m\u001b[0m\u001b[0m\n\u001b[0m",
      "\u001b[0;31mNameError\u001b[0m: name 'het_data' is not defined"
     ]
    }
   ],
   "source": [
    "Fig5_Lambda_summary(het_data, lambda_comparison_arr)"
   ]
  },
  {
   "cell_type": "code",
   "execution_count": 105,
   "metadata": {},
   "outputs": [
    {
     "data": {
      "image/png": "[encoded data removed]",
      "text/plain": [
       "<Figure size 432x288 with 1 Axes>"
      ]
     },
     "metadata": {
      "needs_background": "light"
     },
     "output_type": "display_data"
    }
   ],
   "source": [
    "fig,ax = plt.subplots()\n",
    "\n",
    "gamma_list_r = np.load('gamma_list_r.npy')\n",
    "make_Lambda_phase_plot(ax, 'C', 8, 8, 8)"
   ]
  },
  {
   "cell_type": "code",
   "execution_count": null,
   "metadata": {},
   "outputs": [],
   "source": []
  }
 ],
 "metadata": {
  "kernelspec": {
   "display_name": "Python 3",
   "language": "python",
   "name": "python3"
  },
  "language_info": {
   "codemirror_mode": {
    "name": "ipython",
    "version": 3
   },
   "file_extension": ".py",
   "mimetype": "text/x-python",
   "name": "python",
   "nbconvert_exporter": "python",
   "pygments_lexer": "ipython3",
   "version": "3.7.2"
  }
 },
 "nbformat": 4,
 "nbformat_minor": 4
}
